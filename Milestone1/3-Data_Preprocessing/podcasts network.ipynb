{
 "cells": [
  {
   "cell_type": "code",
   "execution_count": 1,
   "id": "b7bd180e",
   "metadata": {},
   "outputs": [],
   "source": [
    "import numpy as np\n",
    "import pandas as pd\n",
    "from tqdm import tqdm as tqdm\n",
    "import matplotlib.pyplot as plt"
   ]
  },
  {
   "cell_type": "code",
   "execution_count": 2,
   "id": "51bd9484",
   "metadata": {},
   "outputs": [],
   "source": [
    "df = pd.read_csv(\"/Users/marzie/Documents/Data/followers_df.csv\")\n",
    "df = df.drop(['Unnamed: 0', 'op_time'], axis=1)"
   ]
  },
  {
   "cell_type": "code",
   "execution_count": 3,
   "id": "1a1be36b",
   "metadata": {},
   "outputs": [
    {
     "data": {
      "text/html": [
       "<div>\n",
       "<style scoped>\n",
       "    .dataframe tbody tr th:only-of-type {\n",
       "        vertical-align: middle;\n",
       "    }\n",
       "\n",
       "    .dataframe tbody tr th {\n",
       "        vertical-align: top;\n",
       "    }\n",
       "\n",
       "    .dataframe thead th {\n",
       "        text-align: right;\n",
       "    }\n",
       "</style>\n",
       "<table border=\"1\" class=\"dataframe\">\n",
       "  <thead>\n",
       "    <tr style=\"text-align: right;\">\n",
       "      <th></th>\n",
       "      <th>podcaster_id</th>\n",
       "      <th>user_id</th>\n",
       "    </tr>\n",
       "  </thead>\n",
       "  <tbody>\n",
       "    <tr>\n",
       "      <th>0</th>\n",
       "      <td>21543729</td>\n",
       "      <td>38719947</td>\n",
       "    </tr>\n",
       "    <tr>\n",
       "      <th>1</th>\n",
       "      <td>21543729</td>\n",
       "      <td>37434280</td>\n",
       "    </tr>\n",
       "    <tr>\n",
       "      <th>2</th>\n",
       "      <td>21543729</td>\n",
       "      <td>22013860</td>\n",
       "    </tr>\n",
       "    <tr>\n",
       "      <th>3</th>\n",
       "      <td>21543729</td>\n",
       "      <td>28885466</td>\n",
       "    </tr>\n",
       "    <tr>\n",
       "      <th>4</th>\n",
       "      <td>21543729</td>\n",
       "      <td>30848189</td>\n",
       "    </tr>\n",
       "    <tr>\n",
       "      <th>...</th>\n",
       "      <td>...</td>\n",
       "      <td>...</td>\n",
       "    </tr>\n",
       "    <tr>\n",
       "      <th>24854732</th>\n",
       "      <td>18385784</td>\n",
       "      <td>23356976</td>\n",
       "    </tr>\n",
       "    <tr>\n",
       "      <th>24854733</th>\n",
       "      <td>18385784</td>\n",
       "      <td>21762370</td>\n",
       "    </tr>\n",
       "    <tr>\n",
       "      <th>24854734</th>\n",
       "      <td>18385784</td>\n",
       "      <td>11046796</td>\n",
       "    </tr>\n",
       "    <tr>\n",
       "      <th>24854735</th>\n",
       "      <td>18385784</td>\n",
       "      <td>11486103</td>\n",
       "    </tr>\n",
       "    <tr>\n",
       "      <th>24854736</th>\n",
       "      <td>18385784</td>\n",
       "      <td>9521616</td>\n",
       "    </tr>\n",
       "  </tbody>\n",
       "</table>\n",
       "<p>24854737 rows × 2 columns</p>\n",
       "</div>"
      ],
      "text/plain": [
       "          podcaster_id   user_id\n",
       "0             21543729  38719947\n",
       "1             21543729  37434280\n",
       "2             21543729  22013860\n",
       "3             21543729  28885466\n",
       "4             21543729  30848189\n",
       "...                ...       ...\n",
       "24854732      18385784  23356976\n",
       "24854733      18385784  21762370\n",
       "24854734      18385784  11046796\n",
       "24854735      18385784  11486103\n",
       "24854736      18385784   9521616\n",
       "\n",
       "[24854737 rows x 2 columns]"
      ]
     },
     "execution_count": 3,
     "metadata": {},
     "output_type": "execute_result"
    }
   ],
   "source": [
    "df"
   ]
  },
  {
   "cell_type": "markdown",
   "id": "20a4f60c",
   "metadata": {},
   "source": [
    "## Create user_podcast matrix"
   ]
  },
  {
   "cell_type": "code",
   "execution_count": 85,
   "id": "da962a11",
   "metadata": {},
   "outputs": [
    {
     "data": {
      "text/plain": [
       "3325"
      ]
     },
     "execution_count": 85,
     "metadata": {},
     "output_type": "execute_result"
    }
   ],
   "source": [
    "matrix_rows = df['podcaster_id'].unique()\n",
    "len(matrix_rows)"
   ]
  },
  {
   "cell_type": "code",
   "execution_count": 86,
   "id": "8e81388e",
   "metadata": {},
   "outputs": [
    {
     "data": {
      "text/plain": [
       "4316446"
      ]
     },
     "execution_count": 86,
     "metadata": {},
     "output_type": "execute_result"
    }
   ],
   "source": [
    "matrix_columns = df['user_id'].unique()\n",
    "len(matrix_columns)"
   ]
  },
  {
   "cell_type": "code",
   "execution_count": 87,
   "id": "79274e8a",
   "metadata": {},
   "outputs": [
    {
     "name": "stderr",
     "output_type": "stream",
     "text": [
      "100%|███████████████████████████████████████| 3325/3325 [11:05<00:00,  5.00it/s]\n"
     ]
    }
   ],
   "source": [
    "matrix = np.zeros((len(matrix_rows), len(matrix_columns)), dtype=bool)\n",
    "\n",
    "for i in tqdm(range(len(matrix_rows))):\n",
    "    \n",
    "    mask = (df['podcaster_id'] == matrix_rows[i])\n",
    "    \n",
    "    index = np.where(np.in1d(matrix_columns, np.array(df[mask]['user_id'])))[0]\n",
    "    \n",
    "    matrix[i][index] = True"
   ]
  },
  {
   "cell_type": "code",
   "execution_count": 144,
   "id": "31cffa20",
   "metadata": {},
   "outputs": [
    {
     "name": "stdout",
     "output_type": "stream",
     "text": [
      "CPU times: user 10.1 s, sys: 2.62 s, total: 12.7 s\n",
      "Wall time: 15.7 s\n"
     ]
    }
   ],
   "source": [
    "%%time\n",
    "number_of_followers = np.sum(matrix, axis=1)"
   ]
  },
  {
   "cell_type": "code",
   "execution_count": 145,
   "id": "23ecf6b9",
   "metadata": {},
   "outputs": [],
   "source": [
    "#np.save(\"/Users/marzie/Documents/Data/number_of_followers\", number_of_followers)"
   ]
  },
  {
   "cell_type": "code",
   "execution_count": 147,
   "id": "e981a9bd",
   "metadata": {},
   "outputs": [],
   "source": [
    "minimum_follower = 50\n",
    "maximum_follower = 20000"
   ]
  },
  {
   "cell_type": "code",
   "execution_count": 148,
   "id": "08d46244",
   "metadata": {},
   "outputs": [],
   "source": [
    "mask1 = number_of_followers < maximum_follower\n",
    "\n",
    "mask2 = number_of_followers > minimum_follower\n",
    "\n",
    "mask = mask1*mask2"
   ]
  },
  {
   "cell_type": "code",
   "execution_count": 150,
   "id": "10b71a77",
   "metadata": {},
   "outputs": [],
   "source": [
    "#plt.hist(number_of_followers[mask])"
   ]
  },
  {
   "cell_type": "code",
   "execution_count": 158,
   "id": "75472386",
   "metadata": {},
   "outputs": [
    {
     "data": {
      "text/plain": [
       "1878"
      ]
     },
     "execution_count": 158,
     "metadata": {},
     "output_type": "execute_result"
    }
   ],
   "source": [
    "len(number_of_followers[mask])"
   ]
  },
  {
   "cell_type": "code",
   "execution_count": 159,
   "id": "ed5d824f",
   "metadata": {},
   "outputs": [],
   "source": [
    "matrix_updated = matrix[mask]\n",
    "\n",
    "matrix_rows_updated = matrix_rows[mask]\n",
    "\n",
    "number_of_followers_updated = number_of_followers[mask]"
   ]
  },
  {
   "cell_type": "code",
   "execution_count": 160,
   "id": "0ae7f52c",
   "metadata": {},
   "outputs": [
    {
     "name": "stderr",
     "output_type": "stream",
     "text": [
      "100%|█████████████████████████████████████| 1878/1878 [1:43:24<00:00,  3.30s/it]\n"
     ]
    }
   ],
   "source": [
    "number_of_podcasters = len(matrix_rows_updated)\n",
    "\n",
    "common_followers = np.zeros((number_of_podcasters, number_of_podcasters))\n",
    "\n",
    "for i in tqdm(range(number_of_podcasters)):\n",
    "    for j in range(i+1, number_of_podcasters):\n",
    "        \n",
    "        common_followers[i, j] = (matrix_updated[i]*matrix_updated[j]).sum()"
   ]
  },
  {
   "cell_type": "code",
   "execution_count": 197,
   "id": "42ac3a1b",
   "metadata": {},
   "outputs": [],
   "source": [
    "n = len(common_followers)\n",
    "\n",
    "i_lower = np.tril_indices(n, -1)\n",
    "common_followers[i_lower] = common_followers.T[i_lower]  \n",
    "\n",
    "np.fill_diagonal(common_followers, number_of_followers_updated)"
   ]
  },
  {
   "cell_type": "code",
   "execution_count": 185,
   "id": "ad9757ea",
   "metadata": {},
   "outputs": [],
   "source": [
    "#np.save(\"/Users/marzie/Documents/Data/common_followers\", common_followers)"
   ]
  },
  {
   "cell_type": "code",
   "execution_count": 188,
   "id": "53d9073e",
   "metadata": {},
   "outputs": [],
   "source": [
    "#np.save(\"/Users/marzie/Documents/Data/podcaster_ids_array\", matrix_rows_updated)"
   ]
  },
  {
   "cell_type": "code",
   "execution_count": 211,
   "id": "67cd7f19",
   "metadata": {},
   "outputs": [
    {
     "data": {
      "text/plain": [
       "array([[207.,   1.,   0., ...,   1.,   1.,   0.],\n",
       "       [  1., 496.,   0., ...,   0.,   0.,   1.],\n",
       "       [  0.,   0., 110., ...,   0.,   0.,   0.],\n",
       "       ...,\n",
       "       [  1.,   0.,   0., ...,  70.,   0.,   0.],\n",
       "       [  1.,   0.,   0., ...,   0.,  58.,   0.],\n",
       "       [  0.,   1.,   0., ...,   0.,   0., 110.]])"
      ]
     },
     "execution_count": 211,
     "metadata": {},
     "output_type": "execute_result"
    }
   ],
   "source": [
    "common_followers"
   ]
  },
  {
   "cell_type": "code",
   "execution_count": null,
   "id": "917b367b",
   "metadata": {},
   "outputs": [],
   "source": []
  }
 ],
 "metadata": {
  "kernelspec": {
   "display_name": "Python 3 (ipykernel)",
   "language": "python",
   "name": "python3"
  },
  "language_info": {
   "codemirror_mode": {
    "name": "ipython",
    "version": 3
   },
   "file_extension": ".py",
   "mimetype": "text/x-python",
   "name": "python",
   "nbconvert_exporter": "python",
   "pygments_lexer": "ipython3",
   "version": "3.9.13"
  }
 },
 "nbformat": 4,
 "nbformat_minor": 5
}

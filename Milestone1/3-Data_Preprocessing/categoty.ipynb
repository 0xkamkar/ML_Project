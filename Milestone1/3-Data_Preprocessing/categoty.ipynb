{
 "cells": [
  {
   "cell_type": "code",
   "execution_count": 195,
   "id": "c54c9cbb",
   "metadata": {},
   "outputs": [],
   "source": [
    "import numpy as np\n",
    "import pandas as pd\n",
    "from collections import Counter\n",
    "from tqdm import tqdm as tqdm"
   ]
  },
  {
   "cell_type": "code",
   "execution_count": 174,
   "id": "5be70a9a",
   "metadata": {},
   "outputs": [
    {
     "data": {
      "text/html": [
       "<div>\n",
       "<style scoped>\n",
       "    .dataframe tbody tr th:only-of-type {\n",
       "        vertical-align: middle;\n",
       "    }\n",
       "\n",
       "    .dataframe tbody tr th {\n",
       "        vertical-align: top;\n",
       "    }\n",
       "\n",
       "    .dataframe thead th {\n",
       "        text-align: right;\n",
       "    }\n",
       "</style>\n",
       "<table border=\"1\" class=\"dataframe\">\n",
       "  <thead>\n",
       "    <tr style=\"text-align: right;\">\n",
       "      <th></th>\n",
       "      <th>podcaster_id</th>\n",
       "    </tr>\n",
       "    <tr>\n",
       "      <th>user_id</th>\n",
       "      <th></th>\n",
       "    </tr>\n",
       "  </thead>\n",
       "  <tbody>\n",
       "    <tr>\n",
       "      <th>38719947</th>\n",
       "      <td>21543729</td>\n",
       "    </tr>\n",
       "    <tr>\n",
       "      <th>37434280</th>\n",
       "      <td>21543729</td>\n",
       "    </tr>\n",
       "    <tr>\n",
       "      <th>22013860</th>\n",
       "      <td>21543729</td>\n",
       "    </tr>\n",
       "    <tr>\n",
       "      <th>28885466</th>\n",
       "      <td>21543729</td>\n",
       "    </tr>\n",
       "    <tr>\n",
       "      <th>30848189</th>\n",
       "      <td>21543729</td>\n",
       "    </tr>\n",
       "  </tbody>\n",
       "</table>\n",
       "</div>"
      ],
      "text/plain": [
       "          podcaster_id\n",
       "user_id               \n",
       "38719947      21543729\n",
       "37434280      21543729\n",
       "22013860      21543729\n",
       "28885466      21543729\n",
       "30848189      21543729"
      ]
     },
     "execution_count": 174,
     "metadata": {},
     "output_type": "execute_result"
    }
   ],
   "source": [
    "followers_df = pd.read_csv(\"/Users/marzie/Documents/Data/followers_df.csv\")\n",
    "followers = followers_df[['user_id', 'podcaster_id']].set_index('user_id')\n",
    "followers.head()"
   ]
  },
  {
   "cell_type": "code",
   "execution_count": 229,
   "id": "61ec44dd",
   "metadata": {},
   "outputs": [
    {
     "data": {
      "text/html": [
       "<div>\n",
       "<style scoped>\n",
       "    .dataframe tbody tr th:only-of-type {\n",
       "        vertical-align: middle;\n",
       "    }\n",
       "\n",
       "    .dataframe tbody tr th {\n",
       "        vertical-align: top;\n",
       "    }\n",
       "\n",
       "    .dataframe thead th {\n",
       "        text-align: right;\n",
       "    }\n",
       "</style>\n",
       "<table border=\"1\" class=\"dataframe\">\n",
       "  <thead>\n",
       "    <tr style=\"text-align: right;\">\n",
       "      <th></th>\n",
       "      <th>podcaster_id</th>\n",
       "      <th>data</th>\n",
       "    </tr>\n",
       "    <tr>\n",
       "      <th>cid</th>\n",
       "      <th></th>\n",
       "      <th></th>\n",
       "    </tr>\n",
       "  </thead>\n",
       "  <tbody>\n",
       "    <tr>\n",
       "      <th>2598530</th>\n",
       "      <td>17293748.0</td>\n",
       "      <td>{'uid': '0e242cb9dea94a00aa50efbf010fc0c5', 'o...</td>\n",
       "    </tr>\n",
       "    <tr>\n",
       "      <th>4894772</th>\n",
       "      <td>17293748.0</td>\n",
       "      <td>{'uid': '0e242cb9dea94a00aa50efbf010fc0c5', 'e...</td>\n",
       "    </tr>\n",
       "    <tr>\n",
       "      <th>1423226</th>\n",
       "      <td>7697322.0</td>\n",
       "      <td>{'uid': 'c4dad8b7604c48f1aecd8f08105dca6f', 'e...</td>\n",
       "    </tr>\n",
       "    <tr>\n",
       "      <th>1482589</th>\n",
       "      <td>16024112.0</td>\n",
       "      <td>{'uid': 'd62534a4513e46428378e198ffd1ce9a', 'o...</td>\n",
       "    </tr>\n",
       "    <tr>\n",
       "      <th>2356600</th>\n",
       "      <td>16024112.0</td>\n",
       "      <td>{'uid': 'd62534a4513e46428378e198ffd1ce9a', 'e...</td>\n",
       "    </tr>\n",
       "  </tbody>\n",
       "</table>\n",
       "</div>"
      ],
      "text/plain": [
       "         podcaster_id                                               data\n",
       "cid                                                                     \n",
       "2598530    17293748.0  {'uid': '0e242cb9dea94a00aa50efbf010fc0c5', 'o...\n",
       "4894772    17293748.0  {'uid': '0e242cb9dea94a00aa50efbf010fc0c5', 'e...\n",
       "1423226     7697322.0  {'uid': 'c4dad8b7604c48f1aecd8f08105dca6f', 'e...\n",
       "1482589    16024112.0  {'uid': 'd62534a4513e46428378e198ffd1ce9a', 'o...\n",
       "2356600    16024112.0  {'uid': 'd62534a4513e46428378e198ffd1ce9a', 'e..."
      ]
     },
     "execution_count": 229,
     "metadata": {},
     "output_type": "execute_result"
    }
   ],
   "source": [
    "all_podcasts_with_channel = pd.read_json(\"all_podcasts_with_channel.json\")\n",
    "all_podcasts_with_channel.rename(columns= {'user_suid':'podcaster_id'}, inplace = True)\n",
    "all_podcasts = all_podcasts_with_channel[['cid', 'podcaster_id', 'data']].set_index('cid')\n",
    "all_podcasts.head()"
   ]
  },
  {
   "cell_type": "code",
   "execution_count": 230,
   "id": "c188b113",
   "metadata": {},
   "outputs": [],
   "source": [
    "my_podcasts = pd.read_csv('my_podcasts_df.csv')\n",
    "my_cids_list = my_podcasts['cid'].tolist()"
   ]
  },
  {
   "cell_type": "code",
   "execution_count": 231,
   "id": "f1fe3483",
   "metadata": {},
   "outputs": [
    {
     "data": {
      "text/html": [
       "<div>\n",
       "<style scoped>\n",
       "    .dataframe tbody tr th:only-of-type {\n",
       "        vertical-align: middle;\n",
       "    }\n",
       "\n",
       "    .dataframe tbody tr th {\n",
       "        vertical-align: top;\n",
       "    }\n",
       "\n",
       "    .dataframe thead th {\n",
       "        text-align: right;\n",
       "    }\n",
       "</style>\n",
       "<table border=\"1\" class=\"dataframe\">\n",
       "  <thead>\n",
       "    <tr style=\"text-align: right;\">\n",
       "      <th></th>\n",
       "      <th>cid</th>\n",
       "      <th>podcaster_id</th>\n",
       "      <th>data</th>\n",
       "    </tr>\n",
       "  </thead>\n",
       "  <tbody>\n",
       "    <tr>\n",
       "      <th>0</th>\n",
       "      <td>4894772</td>\n",
       "      <td>17293748.0</td>\n",
       "      <td>{'uid': '0e242cb9dea94a00aa50efbf010fc0c5', 'e...</td>\n",
       "    </tr>\n",
       "    <tr>\n",
       "      <th>1</th>\n",
       "      <td>2356600</td>\n",
       "      <td>16024112.0</td>\n",
       "      <td>{'uid': 'd62534a4513e46428378e198ffd1ce9a', 'e...</td>\n",
       "    </tr>\n",
       "    <tr>\n",
       "      <th>2</th>\n",
       "      <td>4857685</td>\n",
       "      <td>16682348.0</td>\n",
       "      <td>{'uid': 'b188e784539c480c84c173b29675e858', 'e...</td>\n",
       "    </tr>\n",
       "    <tr>\n",
       "      <th>3</th>\n",
       "      <td>2748108</td>\n",
       "      <td>14199420.0</td>\n",
       "      <td>{'uid': 'af088f29b89a422198b86988b2619c4f', 'e...</td>\n",
       "    </tr>\n",
       "    <tr>\n",
       "      <th>4</th>\n",
       "      <td>2400145</td>\n",
       "      <td>15814516.0</td>\n",
       "      <td>{'uid': '8097ad5aa05d4e9eba396743f11c658d', 'e...</td>\n",
       "    </tr>\n",
       "    <tr>\n",
       "      <th>...</th>\n",
       "      <td>...</td>\n",
       "      <td>...</td>\n",
       "      <td>...</td>\n",
       "    </tr>\n",
       "    <tr>\n",
       "      <th>3875</th>\n",
       "      <td>5423676</td>\n",
       "      <td>20495886.0</td>\n",
       "      <td>{'uid': '4cc555ff69ed431a94c7b7cffb7fd91d', 'o...</td>\n",
       "    </tr>\n",
       "    <tr>\n",
       "      <th>3876</th>\n",
       "      <td>2131745</td>\n",
       "      <td>13501707.0</td>\n",
       "      <td>{'uid': '68d77f432d5d4ae29029f266b3cabd61', 'e...</td>\n",
       "    </tr>\n",
       "    <tr>\n",
       "      <th>3877</th>\n",
       "      <td>4711535</td>\n",
       "      <td>24170434.0</td>\n",
       "      <td>{'uid': '18a9ef1a3bf447e7b26f315796842ab3', 'e...</td>\n",
       "    </tr>\n",
       "    <tr>\n",
       "      <th>3878</th>\n",
       "      <td>5297748</td>\n",
       "      <td>18840456.0</td>\n",
       "      <td>{'uid': 'c65835ff048448e3820ebd9f1e676fe1', 'o...</td>\n",
       "    </tr>\n",
       "    <tr>\n",
       "      <th>3879</th>\n",
       "      <td>3631144</td>\n",
       "      <td>18930934.0</td>\n",
       "      <td>{'uid': 'e61cb2a5e9c34261a17fb808620260d7', 'o...</td>\n",
       "    </tr>\n",
       "  </tbody>\n",
       "</table>\n",
       "<p>3880 rows × 3 columns</p>\n",
       "</div>"
      ],
      "text/plain": [
       "          cid  podcaster_id                                               data\n",
       "0     4894772    17293748.0  {'uid': '0e242cb9dea94a00aa50efbf010fc0c5', 'e...\n",
       "1     2356600    16024112.0  {'uid': 'd62534a4513e46428378e198ffd1ce9a', 'e...\n",
       "2     4857685    16682348.0  {'uid': 'b188e784539c480c84c173b29675e858', 'e...\n",
       "3     2748108    14199420.0  {'uid': 'af088f29b89a422198b86988b2619c4f', 'e...\n",
       "4     2400145    15814516.0  {'uid': '8097ad5aa05d4e9eba396743f11c658d', 'e...\n",
       "...       ...           ...                                                ...\n",
       "3875  5423676    20495886.0  {'uid': '4cc555ff69ed431a94c7b7cffb7fd91d', 'o...\n",
       "3876  2131745    13501707.0  {'uid': '68d77f432d5d4ae29029f266b3cabd61', 'e...\n",
       "3877  4711535    24170434.0  {'uid': '18a9ef1a3bf447e7b26f315796842ab3', 'e...\n",
       "3878  5297748    18840456.0  {'uid': 'c65835ff048448e3820ebd9f1e676fe1', 'o...\n",
       "3879  3631144    18930934.0  {'uid': 'e61cb2a5e9c34261a17fb808620260d7', 'o...\n",
       "\n",
       "[3880 rows x 3 columns]"
      ]
     },
     "execution_count": 231,
     "metadata": {},
     "output_type": "execute_result"
    }
   ],
   "source": [
    "my_podcast_with_data = all_podcasts.loc[my_cids_list].reset_index()\n",
    "my_podcast_with_data"
   ]
  },
  {
   "cell_type": "code",
   "execution_count": 241,
   "id": "c8c130db",
   "metadata": {},
   "outputs": [],
   "source": [
    "list_of_categories = [[] for i in range(len(my_podcast_with_data))]\n",
    "all_categories = []\n",
    "\n",
    "for i in range(len(my_podcast_with_data)):\n",
    "    category_i = my_podcast_with_data['data'][i]['categories']\n",
    "    list_of_categories[i] = my_podcast_with_data['data'][i]['categories']\n",
    "    all_categories = all_categories + category_i"
   ]
  },
  {
   "cell_type": "code",
   "execution_count": 245,
   "id": "5dbc0f7d",
   "metadata": {},
   "outputs": [
    {
     "data": {
      "text/plain": [
       "{10126: 1,\n",
       " 10125: 1,\n",
       " 10129: 1,\n",
       " 10130: 2,\n",
       " 10128: 2,\n",
       " 10103: 2,\n",
       " 10127: 3,\n",
       " 10123: 3,\n",
       " 10122: 3,\n",
       " 10117: 3,\n",
       " 10124: 4,\n",
       " 10102: 4,\n",
       " 10104: 4,\n",
       " 10073: 5,\n",
       " 10092: 5,\n",
       " 10112: 6,\n",
       " 10107: 6,\n",
       " 10105: 7,\n",
       " 10087: 7,\n",
       " 10116: 8,\n",
       " 10089: 8,\n",
       " 10106: 9,\n",
       " 10093: 10,\n",
       " 10111: 10,\n",
       " 10077: 10,\n",
       " 10109: 10,\n",
       " 10054: 12,\n",
       " 10064: 12,\n",
       " 10071: 12,\n",
       " 10120: 12,\n",
       " 10121: 12,\n",
       " 10056: 14,\n",
       " 10101: 14,\n",
       " 10082: 15,\n",
       " 10041: 15,\n",
       " 10078: 15,\n",
       " 10068: 16,\n",
       " 10091: 17,\n",
       " 10063: 18,\n",
       " 10085: 18,\n",
       " 10030: 19,\n",
       " 10075: 20,\n",
       " 10066: 21,\n",
       " 10099: 22,\n",
       " 10074: 25,\n",
       " 10080: 25,\n",
       " 10096: 27,\n",
       " 10025: 27,\n",
       " 10095: 29,\n",
       " 10098: 30,\n",
       " 10100: 30,\n",
       " 10065: 33,\n",
       " 10062: 33,\n",
       " 10033: 33,\n",
       " 10081: 35,\n",
       " 10005: 35,\n",
       " 10029: 36,\n",
       " 10072: 37,\n",
       " 10067: 39,\n",
       " 10097: 40,\n",
       " 10090: 42,\n",
       " 10070: 42,\n",
       " 10042: 45,\n",
       " 10048: 47,\n",
       " 10094: 48,\n",
       " 10079: 49,\n",
       " 10057: 51,\n",
       " 10076: 54,\n",
       " 10055: 60,\n",
       " 10039: 62,\n",
       " 10083: 65,\n",
       " 10024: 66,\n",
       " 10058: 72,\n",
       " 10021: 74,\n",
       " 10004: 74,\n",
       " 10040: 76,\n",
       " 10035: 83,\n",
       " 10059: 85,\n",
       " 10026: 86,\n",
       " 10069: 88,\n",
       " 10034: 96,\n",
       " 10051: 97,\n",
       " 10036: 103,\n",
       " 10043: 115,\n",
       " 10016: 131,\n",
       " 10014: 134,\n",
       " 10023: 137,\n",
       " 10022: 137,\n",
       " 10053: 148,\n",
       " 10052: 148,\n",
       " 10060: 158,\n",
       " 10061: 158,\n",
       " 10044: 180,\n",
       " 10045: 180,\n",
       " 10028: 183,\n",
       " 10050: 223,\n",
       " 10049: 223,\n",
       " 10046: 223,\n",
       " 10047: 234,\n",
       " 10027: 263,\n",
       " 10013: 286,\n",
       " 10009: 291,\n",
       " 10007: 317,\n",
       " 10031: 335,\n",
       " 10011: 348,\n",
       " 10012: 348,\n",
       " 10032: 376,\n",
       " 10015: 447,\n",
       " 10038: 546,\n",
       " 10037: 557,\n",
       " 10003: 828,\n",
       " 10002: 977,\n",
       " 10001: 977,\n",
       " 10006: 1050,\n",
       " 10010: 1055,\n",
       " 10008: 1256}"
      ]
     },
     "execution_count": 245,
     "metadata": {},
     "output_type": "execute_result"
    }
   ],
   "source": [
    "category_dict = dict(Counter(all_categories))\n",
    "values = list(category_dict.values())\n",
    "sorted_value_index = np.argsort(values)\n",
    "sorted_dict = {keyslist[i]: values[i] for i in sorted_value_index}\n",
    "sorted_dict"
   ]
  },
  {
   "cell_type": "code",
   "execution_count": 234,
   "id": "a04e7a65",
   "metadata": {},
   "outputs": [],
   "source": [
    "# category_dic"
   ]
  },
  {
   "cell_type": "code",
   "execution_count": 237,
   "id": "c9a080c9",
   "metadata": {},
   "outputs": [],
   "source": [
    "#list_of_categories"
   ]
  },
  {
   "cell_type": "code",
   "execution_count": 201,
   "id": "276d6c94",
   "metadata": {},
   "outputs": [],
   "source": [
    "def categories(user_id):\n",
    "    \n",
    "    categories=[]\n",
    "    \n",
    "    podcaster_id_s = followers.loc[user_id]['podcaster_id'].tolist()\n",
    "    \n",
    "    index = my_podcast_with_data[my_podcast_with_data['podcaster_id'].isin(podcaster_id_s)].index.values.tolist() \n",
    "    \n",
    "    for i in range(len(index)):\n",
    "        categories = categories + list_of_categories[index[i]]\n",
    "        \n",
    "    sorted_categories = [key for key, value in Counter(categories).most_common()]\n",
    "    \n",
    "    return sorted_categories"
   ]
  },
  {
   "cell_type": "code",
   "execution_count": 187,
   "id": "a9172f6a",
   "metadata": {},
   "outputs": [],
   "source": [
    "list_of_user_ids = list(set(followers.index.values.tolist()))"
   ]
  },
  {
   "cell_type": "code",
   "execution_count": 193,
   "id": "dea3a657",
   "metadata": {},
   "outputs": [],
   "source": [
    "list_of_users_category = [[] for i in range(len(list_of_user_ids))]"
   ]
  },
  {
   "cell_type": "code",
   "execution_count": 207,
   "id": "eb334b2d",
   "metadata": {},
   "outputs": [],
   "source": [
    "# for i, user_id in tqdm(enumerate(list_of_user_ids)):\n",
    "#     list_of_users_category[i] = categories(user_id)"
   ]
  },
  {
   "cell_type": "code",
   "execution_count": 204,
   "id": "bfe70958",
   "metadata": {},
   "outputs": [
    {
     "data": {
      "text/plain": [
       "25165828"
      ]
     },
     "execution_count": 204,
     "metadata": {},
     "output_type": "execute_result"
    }
   ],
   "source": [
    "list_of_user_ids[1]"
   ]
  },
  {
   "cell_type": "code",
   "execution_count": 206,
   "id": "87c3fe97",
   "metadata": {},
   "outputs": [
    {
     "data": {
      "text/plain": [
       "15814516"
      ]
     },
     "execution_count": 206,
     "metadata": {},
     "output_type": "execute_result"
    }
   ],
   "source": [
    "podcaster_id_s = followers.loc[user_id]['podcaster_id'].tolist()\n",
    "podcaster_id_s"
   ]
  },
  {
   "cell_type": "code",
   "execution_count": 209,
   "id": "882a8c32",
   "metadata": {},
   "outputs": [],
   "source": [
    "# a = dict(Counter(MyList))"
   ]
  },
  {
   "cell_type": "code",
   "execution_count": 210,
   "id": "2a9a53ca",
   "metadata": {},
   "outputs": [],
   "source": [
    "follower_user_id_s = followers.index.values.tolist() "
   ]
  },
  {
   "cell_type": "code",
   "execution_count": 212,
   "id": "6434e331",
   "metadata": {},
   "outputs": [
    {
     "data": {
      "text/plain": [
       "24854737"
      ]
     },
     "execution_count": 212,
     "metadata": {},
     "output_type": "execute_result"
    }
   ],
   "source": [
    "len(follower_user_id_s)"
   ]
  },
  {
   "cell_type": "code",
   "execution_count": 213,
   "id": "812aab95",
   "metadata": {},
   "outputs": [],
   "source": [
    "user_sub = dict(Counter(follower_user_id_s))"
   ]
  },
  {
   "cell_type": "code",
   "execution_count": 218,
   "id": "e298228f",
   "metadata": {},
   "outputs": [],
   "source": [
    "df = pd.DataFrame(list(user_sub.items()), columns=['user_id', 'following'])"
   ]
  },
  {
   "cell_type": "code",
   "execution_count": 219,
   "id": "b3159820",
   "metadata": {},
   "outputs": [
    {
     "data": {
      "text/html": [
       "<div>\n",
       "<style scoped>\n",
       "    .dataframe tbody tr th:only-of-type {\n",
       "        vertical-align: middle;\n",
       "    }\n",
       "\n",
       "    .dataframe tbody tr th {\n",
       "        vertical-align: top;\n",
       "    }\n",
       "\n",
       "    .dataframe thead th {\n",
       "        text-align: right;\n",
       "    }\n",
       "</style>\n",
       "<table border=\"1\" class=\"dataframe\">\n",
       "  <thead>\n",
       "    <tr style=\"text-align: right;\">\n",
       "      <th></th>\n",
       "      <th>user_id</th>\n",
       "      <th>following</th>\n",
       "    </tr>\n",
       "  </thead>\n",
       "  <tbody>\n",
       "    <tr>\n",
       "      <th>0</th>\n",
       "      <td>38719947</td>\n",
       "      <td>20</td>\n",
       "    </tr>\n",
       "    <tr>\n",
       "      <th>1</th>\n",
       "      <td>37434280</td>\n",
       "      <td>11</td>\n",
       "    </tr>\n",
       "    <tr>\n",
       "      <th>2</th>\n",
       "      <td>22013860</td>\n",
       "      <td>185</td>\n",
       "    </tr>\n",
       "    <tr>\n",
       "      <th>3</th>\n",
       "      <td>28885466</td>\n",
       "      <td>40</td>\n",
       "    </tr>\n",
       "    <tr>\n",
       "      <th>4</th>\n",
       "      <td>30848189</td>\n",
       "      <td>58</td>\n",
       "    </tr>\n",
       "    <tr>\n",
       "      <th>...</th>\n",
       "      <td>...</td>\n",
       "      <td>...</td>\n",
       "    </tr>\n",
       "    <tr>\n",
       "      <th>4316441</th>\n",
       "      <td>20988834</td>\n",
       "      <td>1</td>\n",
       "    </tr>\n",
       "    <tr>\n",
       "      <th>4316442</th>\n",
       "      <td>23768266</td>\n",
       "      <td>1</td>\n",
       "    </tr>\n",
       "    <tr>\n",
       "      <th>4316443</th>\n",
       "      <td>21034578</td>\n",
       "      <td>1</td>\n",
       "    </tr>\n",
       "    <tr>\n",
       "      <th>4316444</th>\n",
       "      <td>19144548</td>\n",
       "      <td>1</td>\n",
       "    </tr>\n",
       "    <tr>\n",
       "      <th>4316445</th>\n",
       "      <td>18734387</td>\n",
       "      <td>1</td>\n",
       "    </tr>\n",
       "  </tbody>\n",
       "</table>\n",
       "<p>4316446 rows × 2 columns</p>\n",
       "</div>"
      ],
      "text/plain": [
       "          user_id  following\n",
       "0        38719947         20\n",
       "1        37434280         11\n",
       "2        22013860        185\n",
       "3        28885466         40\n",
       "4        30848189         58\n",
       "...           ...        ...\n",
       "4316441  20988834          1\n",
       "4316442  23768266          1\n",
       "4316443  21034578          1\n",
       "4316444  19144548          1\n",
       "4316445  18734387          1\n",
       "\n",
       "[4316446 rows x 2 columns]"
      ]
     },
     "execution_count": 219,
     "metadata": {},
     "output_type": "execute_result"
    }
   ],
   "source": [
    "df"
   ]
  },
  {
   "cell_type": "code",
   "execution_count": 223,
   "id": "679c0bc9",
   "metadata": {},
   "outputs": [
    {
     "data": {
      "text/html": [
       "<div>\n",
       "<style scoped>\n",
       "    .dataframe tbody tr th:only-of-type {\n",
       "        vertical-align: middle;\n",
       "    }\n",
       "\n",
       "    .dataframe tbody tr th {\n",
       "        vertical-align: top;\n",
       "    }\n",
       "\n",
       "    .dataframe thead th {\n",
       "        text-align: right;\n",
       "    }\n",
       "</style>\n",
       "<table border=\"1\" class=\"dataframe\">\n",
       "  <thead>\n",
       "    <tr style=\"text-align: right;\">\n",
       "      <th></th>\n",
       "      <th>user_id</th>\n",
       "      <th>following</th>\n",
       "    </tr>\n",
       "  </thead>\n",
       "  <tbody>\n",
       "    <tr>\n",
       "      <th>0</th>\n",
       "      <td>38719947</td>\n",
       "      <td>20</td>\n",
       "    </tr>\n",
       "    <tr>\n",
       "      <th>1</th>\n",
       "      <td>37434280</td>\n",
       "      <td>11</td>\n",
       "    </tr>\n",
       "    <tr>\n",
       "      <th>2</th>\n",
       "      <td>22013860</td>\n",
       "      <td>185</td>\n",
       "    </tr>\n",
       "    <tr>\n",
       "      <th>3</th>\n",
       "      <td>28885466</td>\n",
       "      <td>40</td>\n",
       "    </tr>\n",
       "    <tr>\n",
       "      <th>4</th>\n",
       "      <td>30848189</td>\n",
       "      <td>58</td>\n",
       "    </tr>\n",
       "    <tr>\n",
       "      <th>...</th>\n",
       "      <td>...</td>\n",
       "      <td>...</td>\n",
       "    </tr>\n",
       "    <tr>\n",
       "      <th>4283154</th>\n",
       "      <td>18019173</td>\n",
       "      <td>3</td>\n",
       "    </tr>\n",
       "    <tr>\n",
       "      <th>4284894</th>\n",
       "      <td>32508214</td>\n",
       "      <td>3</td>\n",
       "    </tr>\n",
       "    <tr>\n",
       "      <th>4285350</th>\n",
       "      <td>27401567</td>\n",
       "      <td>3</td>\n",
       "    </tr>\n",
       "    <tr>\n",
       "      <th>4285960</th>\n",
       "      <td>21787383</td>\n",
       "      <td>3</td>\n",
       "    </tr>\n",
       "    <tr>\n",
       "      <th>4287965</th>\n",
       "      <td>32626971</td>\n",
       "      <td>3</td>\n",
       "    </tr>\n",
       "  </tbody>\n",
       "</table>\n",
       "<p>2907190 rows × 2 columns</p>\n",
       "</div>"
      ],
      "text/plain": [
       "          user_id  following\n",
       "0        38719947         20\n",
       "1        37434280         11\n",
       "2        22013860        185\n",
       "3        28885466         40\n",
       "4        30848189         58\n",
       "...           ...        ...\n",
       "4283154  18019173          3\n",
       "4284894  32508214          3\n",
       "4285350  27401567          3\n",
       "4285960  21787383          3\n",
       "4287965  32626971          3\n",
       "\n",
       "[2907190 rows x 2 columns]"
      ]
     },
     "execution_count": 223,
     "metadata": {},
     "output_type": "execute_result"
    }
   ],
   "source": [
    "df[df['following'] > 2]"
   ]
  },
  {
   "cell_type": "code",
   "execution_count": null,
   "id": "44d36ac2",
   "metadata": {},
   "outputs": [],
   "source": []
  },
  {
   "cell_type": "code",
   "execution_count": null,
   "id": "d0eefa2c",
   "metadata": {},
   "outputs": [],
   "source": []
  }
 ],
 "metadata": {
  "kernelspec": {
   "display_name": "Python 3 (ipykernel)",
   "language": "python",
   "name": "python3"
  },
  "language_info": {
   "codemirror_mode": {
    "name": "ipython",
    "version": 3
   },
   "file_extension": ".py",
   "mimetype": "text/x-python",
   "name": "python",
   "nbconvert_exporter": "python",
   "pygments_lexer": "ipython3",
   "version": "3.9.13"
  }
 },
 "nbformat": 4,
 "nbformat_minor": 5
}

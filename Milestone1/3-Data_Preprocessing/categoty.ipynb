{
 "cells": [
  {
   "cell_type": "code",
   "execution_count": 195,
   "id": "c54c9cbb",
   "metadata": {},
   "outputs": [],
   "source": [
    "import numpy as np\n",
    "import pandas as pd\n",
    "from collections import Counter\n",
    "from tqdm import tqdm as tqdm"
   ]
  },
  {
   "cell_type": "code",
   "execution_count": 174,
   "id": "c96b28a3",
   "metadata": {},
   "outputs": [
    {
     "data": {
      "text/html": [
       "<div>\n",
       "<style scoped>\n",
       "    .dataframe tbody tr th:only-of-type {\n",
       "        vertical-align: middle;\n",
       "    }\n",
       "\n",
       "    .dataframe tbody tr th {\n",
       "        vertical-align: top;\n",
       "    }\n",
       "\n",
       "    .dataframe thead th {\n",
       "        text-align: right;\n",
       "    }\n",
       "</style>\n",
       "<table border=\"1\" class=\"dataframe\">\n",
       "  <thead>\n",
       "    <tr style=\"text-align: right;\">\n",
       "      <th></th>\n",
       "      <th>podcaster_id</th>\n",
       "    </tr>\n",
       "    <tr>\n",
       "      <th>user_id</th>\n",
       "      <th></th>\n",
       "    </tr>\n",
       "  </thead>\n",
       "  <tbody>\n",
       "    <tr>\n",
       "      <th>38719947</th>\n",
       "      <td>21543729</td>\n",
       "    </tr>\n",
       "    <tr>\n",
       "      <th>37434280</th>\n",
       "      <td>21543729</td>\n",
       "    </tr>\n",
       "    <tr>\n",
       "      <th>22013860</th>\n",
       "      <td>21543729</td>\n",
       "    </tr>\n",
       "    <tr>\n",
       "      <th>28885466</th>\n",
       "      <td>21543729</td>\n",
       "    </tr>\n",
       "    <tr>\n",
       "      <th>30848189</th>\n",
       "      <td>21543729</td>\n",
       "    </tr>\n",
       "  </tbody>\n",
       "</table>\n",
       "</div>"
      ],
      "text/plain": [
       "          podcaster_id\n",
       "user_id               \n",
       "38719947      21543729\n",
       "37434280      21543729\n",
       "22013860      21543729\n",
       "28885466      21543729\n",
       "30848189      21543729"
      ]
     },
     "execution_count": 174,
     "metadata": {},
     "output_type": "execute_result"
    }
   ],
   "source": [
    "followers_df = pd.read_csv(\"/Users/marzie/Documents/Data/followers_df.csv\")\n",
    "followers = followers_df[['user_id', 'podcaster_id']].set_index('user_id')\n",
    "followers.head()"
   ]
  },
  {
   "cell_type": "code",
   "execution_count": 175,
   "id": "61ec44dd",
   "metadata": {},
   "outputs": [
    {
     "data": {
      "text/html": [
       "<div>\n",
       "<style scoped>\n",
       "    .dataframe tbody tr th:only-of-type {\n",
       "        vertical-align: middle;\n",
       "    }\n",
       "\n",
       "    .dataframe tbody tr th {\n",
       "        vertical-align: top;\n",
       "    }\n",
       "\n",
       "    .dataframe thead th {\n",
       "        text-align: right;\n",
       "    }\n",
       "</style>\n",
       "<table border=\"1\" class=\"dataframe\">\n",
       "  <thead>\n",
       "    <tr style=\"text-align: right;\">\n",
       "      <th></th>\n",
       "      <th>podcaster_id</th>\n",
       "      <th>data</th>\n",
       "    </tr>\n",
       "    <tr>\n",
       "      <th>cid</th>\n",
       "      <th></th>\n",
       "      <th></th>\n",
       "    </tr>\n",
       "  </thead>\n",
       "  <tbody>\n",
       "    <tr>\n",
       "      <th>2598530</th>\n",
       "      <td>17293748.0</td>\n",
       "      <td>{'uid': '0e242cb9dea94a00aa50efbf010fc0c5', 'o...</td>\n",
       "    </tr>\n",
       "    <tr>\n",
       "      <th>4894772</th>\n",
       "      <td>17293748.0</td>\n",
       "      <td>{'uid': '0e242cb9dea94a00aa50efbf010fc0c5', 'e...</td>\n",
       "    </tr>\n",
       "    <tr>\n",
       "      <th>1423226</th>\n",
       "      <td>7697322.0</td>\n",
       "      <td>{'uid': 'c4dad8b7604c48f1aecd8f08105dca6f', 'e...</td>\n",
       "    </tr>\n",
       "    <tr>\n",
       "      <th>1482589</th>\n",
       "      <td>16024112.0</td>\n",
       "      <td>{'uid': 'd62534a4513e46428378e198ffd1ce9a', 'o...</td>\n",
       "    </tr>\n",
       "    <tr>\n",
       "      <th>2356600</th>\n",
       "      <td>16024112.0</td>\n",
       "      <td>{'uid': 'd62534a4513e46428378e198ffd1ce9a', 'e...</td>\n",
       "    </tr>\n",
       "  </tbody>\n",
       "</table>\n",
       "</div>"
      ],
      "text/plain": [
       "         podcaster_id                                               data\n",
       "cid                                                                     \n",
       "2598530    17293748.0  {'uid': '0e242cb9dea94a00aa50efbf010fc0c5', 'o...\n",
       "4894772    17293748.0  {'uid': '0e242cb9dea94a00aa50efbf010fc0c5', 'e...\n",
       "1423226     7697322.0  {'uid': 'c4dad8b7604c48f1aecd8f08105dca6f', 'e...\n",
       "1482589    16024112.0  {'uid': 'd62534a4513e46428378e198ffd1ce9a', 'o...\n",
       "2356600    16024112.0  {'uid': 'd62534a4513e46428378e198ffd1ce9a', 'e..."
      ]
     },
     "execution_count": 175,
     "metadata": {},
     "output_type": "execute_result"
    }
   ],
   "source": [
    "all_podcasts_with_channel = pd.read_json(\"all_podcasts_with_channel.json\")\n",
    "all_podcasts_with_channel.rename(columns= {'user_suid':'podcaster_id'}, inplace = True)\n",
    "all_podcasts = all_podcasts_with_channel[['cid', 'podcaster_id', 'data']].set_index('cid')\n",
    "all_podcasts.head()"
   ]
  },
  {
   "cell_type": "code",
   "execution_count": 176,
   "id": "cba64d1b",
   "metadata": {},
   "outputs": [],
   "source": [
    "my_podcasts = pd.read_csv('my_podcasts_df.csv')\n",
    "my_cids_list = my_podcasts['cid'].tolist()"
   ]
  },
  {
   "cell_type": "code",
   "execution_count": 177,
   "id": "6e02ae19",
   "metadata": {},
   "outputs": [
    {
     "data": {
      "text/html": [
       "<div>\n",
       "<style scoped>\n",
       "    .dataframe tbody tr th:only-of-type {\n",
       "        vertical-align: middle;\n",
       "    }\n",
       "\n",
       "    .dataframe tbody tr th {\n",
       "        vertical-align: top;\n",
       "    }\n",
       "\n",
       "    .dataframe thead th {\n",
       "        text-align: right;\n",
       "    }\n",
       "</style>\n",
       "<table border=\"1\" class=\"dataframe\">\n",
       "  <thead>\n",
       "    <tr style=\"text-align: right;\">\n",
       "      <th></th>\n",
       "      <th>cid</th>\n",
       "      <th>podcaster_id</th>\n",
       "      <th>data</th>\n",
       "    </tr>\n",
       "  </thead>\n",
       "  <tbody>\n",
       "    <tr>\n",
       "      <th>0</th>\n",
       "      <td>4894772</td>\n",
       "      <td>17293748.0</td>\n",
       "      <td>{'uid': '0e242cb9dea94a00aa50efbf010fc0c5', 'e...</td>\n",
       "    </tr>\n",
       "    <tr>\n",
       "      <th>1</th>\n",
       "      <td>2356600</td>\n",
       "      <td>16024112.0</td>\n",
       "      <td>{'uid': 'd62534a4513e46428378e198ffd1ce9a', 'e...</td>\n",
       "    </tr>\n",
       "    <tr>\n",
       "      <th>2</th>\n",
       "      <td>4857685</td>\n",
       "      <td>16682348.0</td>\n",
       "      <td>{'uid': 'b188e784539c480c84c173b29675e858', 'e...</td>\n",
       "    </tr>\n",
       "    <tr>\n",
       "      <th>3</th>\n",
       "      <td>2748108</td>\n",
       "      <td>14199420.0</td>\n",
       "      <td>{'uid': 'af088f29b89a422198b86988b2619c4f', 'e...</td>\n",
       "    </tr>\n",
       "    <tr>\n",
       "      <th>4</th>\n",
       "      <td>2400145</td>\n",
       "      <td>15814516.0</td>\n",
       "      <td>{'uid': '8097ad5aa05d4e9eba396743f11c658d', 'e...</td>\n",
       "    </tr>\n",
       "    <tr>\n",
       "      <th>...</th>\n",
       "      <td>...</td>\n",
       "      <td>...</td>\n",
       "      <td>...</td>\n",
       "    </tr>\n",
       "    <tr>\n",
       "      <th>3875</th>\n",
       "      <td>5423676</td>\n",
       "      <td>20495886.0</td>\n",
       "      <td>{'uid': '4cc555ff69ed431a94c7b7cffb7fd91d', 'o...</td>\n",
       "    </tr>\n",
       "    <tr>\n",
       "      <th>3876</th>\n",
       "      <td>2131745</td>\n",
       "      <td>13501707.0</td>\n",
       "      <td>{'uid': '68d77f432d5d4ae29029f266b3cabd61', 'e...</td>\n",
       "    </tr>\n",
       "    <tr>\n",
       "      <th>3877</th>\n",
       "      <td>4711535</td>\n",
       "      <td>24170434.0</td>\n",
       "      <td>{'uid': '18a9ef1a3bf447e7b26f315796842ab3', 'e...</td>\n",
       "    </tr>\n",
       "    <tr>\n",
       "      <th>3878</th>\n",
       "      <td>5297748</td>\n",
       "      <td>18840456.0</td>\n",
       "      <td>{'uid': 'c65835ff048448e3820ebd9f1e676fe1', 'o...</td>\n",
       "    </tr>\n",
       "    <tr>\n",
       "      <th>3879</th>\n",
       "      <td>3631144</td>\n",
       "      <td>18930934.0</td>\n",
       "      <td>{'uid': 'e61cb2a5e9c34261a17fb808620260d7', 'o...</td>\n",
       "    </tr>\n",
       "  </tbody>\n",
       "</table>\n",
       "<p>3880 rows × 3 columns</p>\n",
       "</div>"
      ],
      "text/plain": [
       "          cid  podcaster_id                                               data\n",
       "0     4894772    17293748.0  {'uid': '0e242cb9dea94a00aa50efbf010fc0c5', 'e...\n",
       "1     2356600    16024112.0  {'uid': 'd62534a4513e46428378e198ffd1ce9a', 'e...\n",
       "2     4857685    16682348.0  {'uid': 'b188e784539c480c84c173b29675e858', 'e...\n",
       "3     2748108    14199420.0  {'uid': 'af088f29b89a422198b86988b2619c4f', 'e...\n",
       "4     2400145    15814516.0  {'uid': '8097ad5aa05d4e9eba396743f11c658d', 'e...\n",
       "...       ...           ...                                                ...\n",
       "3875  5423676    20495886.0  {'uid': '4cc555ff69ed431a94c7b7cffb7fd91d', 'o...\n",
       "3876  2131745    13501707.0  {'uid': '68d77f432d5d4ae29029f266b3cabd61', 'e...\n",
       "3877  4711535    24170434.0  {'uid': '18a9ef1a3bf447e7b26f315796842ab3', 'e...\n",
       "3878  5297748    18840456.0  {'uid': 'c65835ff048448e3820ebd9f1e676fe1', 'o...\n",
       "3879  3631144    18930934.0  {'uid': 'e61cb2a5e9c34261a17fb808620260d7', 'o...\n",
       "\n",
       "[3880 rows x 3 columns]"
      ]
     },
     "execution_count": 177,
     "metadata": {},
     "output_type": "execute_result"
    }
   ],
   "source": [
    "my_podcast_with_data = all_podcasts.loc[my_cids_list].reset_index()\n",
    "my_podcast_with_data"
   ]
  },
  {
   "cell_type": "code",
   "execution_count": 178,
   "id": "67b73573",
   "metadata": {},
   "outputs": [],
   "source": [
    "list_of_categories = [[] for i in range(len(my_podcast_with_data))]\n",
    "all_categories = []\n",
    "\n",
    "for i in range(len(my_podcast_with_data)):\n",
    "    category_i = my_podcast_with_data['data'][i]['categories']\n",
    "    list_of_categories[i] = my_podcast_with_data['data'][i]['categories']\n",
    "    all_categories = all_categories + category_i"
   ]
  },
  {
   "cell_type": "code",
   "execution_count": 179,
   "id": "a4168ff4",
   "metadata": {},
   "outputs": [],
   "source": [
    "keyslist = list(set(all_categories))\n",
    "category_dic = {}\n",
    "\n",
    "for i in range(len(keyslist)):\n",
    "    category_dic[keyslist[i]] = 0"
   ]
  },
  {
   "cell_type": "code",
   "execution_count": 180,
   "id": "1bbd6d8a",
   "metadata": {},
   "outputs": [
    {
     "data": {
      "text/plain": [
       "0"
      ]
     },
     "execution_count": 180,
     "metadata": {},
     "output_type": "execute_result"
    }
   ],
   "source": [
    "category_dic[list_of_categories[0][0]]"
   ]
  },
  {
   "cell_type": "code",
   "execution_count": 181,
   "id": "716f2f03",
   "metadata": {},
   "outputs": [],
   "source": [
    "for i in range(len(list_of_categories)):\n",
    "    for j in range(len(list_of_categories[i])):\n",
    "        category_dic[list_of_categories[i][j]] +=1\n",
    "        \n",
    "values = list(category_dic.values())\n",
    "sorted_value_index = np.argsort(values)\n",
    "sorted_dict = {keyslist[i]: values[i] for i in sorted_value_index}\n",
    "#sorted_dict"
   ]
  },
  {
   "cell_type": "code",
   "execution_count": 182,
   "id": "590b97e7",
   "metadata": {},
   "outputs": [],
   "source": [
    "#list_of_categories"
   ]
  },
  {
   "cell_type": "code",
   "execution_count": 201,
   "id": "62c6f7c2",
   "metadata": {},
   "outputs": [],
   "source": [
    "def categories(user_id):\n",
    "    \n",
    "    categories=[]\n",
    "    \n",
    "    podcaster_id_s = followers.loc[user_id]['podcaster_id'].tolist()\n",
    "    \n",
    "    index = my_podcast_with_data[my_podcast_with_data['podcaster_id'].isin(podcaster_id_s)].index.values.tolist() \n",
    "    \n",
    "    for i in range(len(index)):\n",
    "        categories = categories + list_of_categories[index[i]]\n",
    "        \n",
    "    sorted_categories = [key for key, value in Counter(categories).most_common()]\n",
    "    \n",
    "    return sorted_categories"
   ]
  },
  {
   "cell_type": "code",
   "execution_count": 187,
   "id": "ef05d542",
   "metadata": {},
   "outputs": [],
   "source": [
    "list_of_user_ids = list(set(followers.index.values.tolist()))"
   ]
  },
  {
   "cell_type": "code",
   "execution_count": 193,
   "id": "f1449bfd",
   "metadata": {},
   "outputs": [],
   "source": [
    "list_of_users_category = [[] for i in range(len(list_of_user_ids))]"
   ]
  },
  {
   "cell_type": "code",
   "execution_count": 207,
   "id": "a85c5f64",
   "metadata": {},
   "outputs": [],
   "source": [
    "# for i, user_id in tqdm(enumerate(list_of_user_ids)):\n",
    "#     list_of_users_category[i] = categories(user_id)"
   ]
  },
  {
   "cell_type": "code",
   "execution_count": 204,
   "id": "30867fa0",
   "metadata": {},
   "outputs": [
    {
     "data": {
      "text/plain": [
       "25165828"
      ]
     },
     "execution_count": 204,
     "metadata": {},
     "output_type": "execute_result"
    }
   ],
   "source": [
    "list_of_user_ids[1]"
   ]
  },
  {
   "cell_type": "code",
   "execution_count": 206,
   "id": "42899120",
   "metadata": {},
   "outputs": [
    {
     "data": {
      "text/plain": [
       "15814516"
      ]
     },
     "execution_count": 206,
     "metadata": {},
     "output_type": "execute_result"
    }
   ],
   "source": [
    "podcaster_id_s = followers.loc[user_id]['podcaster_id'].tolist()\n",
    "podcaster_id_s"
   ]
  },
  {
   "cell_type": "code",
   "execution_count": 209,
   "id": "8b3d89d9",
   "metadata": {},
   "outputs": [],
   "source": [
    "# a = dict(Counter(MyList))"
   ]
  },
  {
   "cell_type": "code",
   "execution_count": 210,
   "id": "48a278bc",
   "metadata": {},
   "outputs": [],
   "source": [
    "follower_user_id_s = followers.index.values.tolist() "
   ]
  },
  {
   "cell_type": "code",
   "execution_count": 212,
   "id": "afedb559",
   "metadata": {},
   "outputs": [
    {
     "data": {
      "text/plain": [
       "24854737"
      ]
     },
     "execution_count": 212,
     "metadata": {},
     "output_type": "execute_result"
    }
   ],
   "source": [
    "len(follower_user_id_s)"
   ]
  },
  {
   "cell_type": "code",
   "execution_count": 213,
   "id": "a83bd1a3",
   "metadata": {},
   "outputs": [],
   "source": [
    "user_sub = dict(Counter(follower_user_id_s))"
   ]
  },
  {
   "cell_type": "code",
   "execution_count": 218,
   "id": "08d69152",
   "metadata": {},
   "outputs": [],
   "source": [
    "df = pd.DataFrame(list(user_sub.items()), columns=['user_id', 'following'])"
   ]
  },
  {
   "cell_type": "code",
   "execution_count": 219,
   "id": "56194ae8",
   "metadata": {},
   "outputs": [
    {
     "data": {
      "text/html": [
       "<div>\n",
       "<style scoped>\n",
       "    .dataframe tbody tr th:only-of-type {\n",
       "        vertical-align: middle;\n",
       "    }\n",
       "\n",
       "    .dataframe tbody tr th {\n",
       "        vertical-align: top;\n",
       "    }\n",
       "\n",
       "    .dataframe thead th {\n",
       "        text-align: right;\n",
       "    }\n",
       "</style>\n",
       "<table border=\"1\" class=\"dataframe\">\n",
       "  <thead>\n",
       "    <tr style=\"text-align: right;\">\n",
       "      <th></th>\n",
       "      <th>user_id</th>\n",
       "      <th>following</th>\n",
       "    </tr>\n",
       "  </thead>\n",
       "  <tbody>\n",
       "    <tr>\n",
       "      <th>0</th>\n",
       "      <td>38719947</td>\n",
       "      <td>20</td>\n",
       "    </tr>\n",
       "    <tr>\n",
       "      <th>1</th>\n",
       "      <td>37434280</td>\n",
       "      <td>11</td>\n",
       "    </tr>\n",
       "    <tr>\n",
       "      <th>2</th>\n",
       "      <td>22013860</td>\n",
       "      <td>185</td>\n",
       "    </tr>\n",
       "    <tr>\n",
       "      <th>3</th>\n",
       "      <td>28885466</td>\n",
       "      <td>40</td>\n",
       "    </tr>\n",
       "    <tr>\n",
       "      <th>4</th>\n",
       "      <td>30848189</td>\n",
       "      <td>58</td>\n",
       "    </tr>\n",
       "    <tr>\n",
       "      <th>...</th>\n",
       "      <td>...</td>\n",
       "      <td>...</td>\n",
       "    </tr>\n",
       "    <tr>\n",
       "      <th>4316441</th>\n",
       "      <td>20988834</td>\n",
       "      <td>1</td>\n",
       "    </tr>\n",
       "    <tr>\n",
       "      <th>4316442</th>\n",
       "      <td>23768266</td>\n",
       "      <td>1</td>\n",
       "    </tr>\n",
       "    <tr>\n",
       "      <th>4316443</th>\n",
       "      <td>21034578</td>\n",
       "      <td>1</td>\n",
       "    </tr>\n",
       "    <tr>\n",
       "      <th>4316444</th>\n",
       "      <td>19144548</td>\n",
       "      <td>1</td>\n",
       "    </tr>\n",
       "    <tr>\n",
       "      <th>4316445</th>\n",
       "      <td>18734387</td>\n",
       "      <td>1</td>\n",
       "    </tr>\n",
       "  </tbody>\n",
       "</table>\n",
       "<p>4316446 rows × 2 columns</p>\n",
       "</div>"
      ],
      "text/plain": [
       "          user_id  following\n",
       "0        38719947         20\n",
       "1        37434280         11\n",
       "2        22013860        185\n",
       "3        28885466         40\n",
       "4        30848189         58\n",
       "...           ...        ...\n",
       "4316441  20988834          1\n",
       "4316442  23768266          1\n",
       "4316443  21034578          1\n",
       "4316444  19144548          1\n",
       "4316445  18734387          1\n",
       "\n",
       "[4316446 rows x 2 columns]"
      ]
     },
     "execution_count": 219,
     "metadata": {},
     "output_type": "execute_result"
    }
   ],
   "source": [
    "df"
   ]
  },
  {
   "cell_type": "code",
   "execution_count": 223,
   "id": "4f6659fc",
   "metadata": {},
   "outputs": [
    {
     "data": {
      "text/html": [
       "<div>\n",
       "<style scoped>\n",
       "    .dataframe tbody tr th:only-of-type {\n",
       "        vertical-align: middle;\n",
       "    }\n",
       "\n",
       "    .dataframe tbody tr th {\n",
       "        vertical-align: top;\n",
       "    }\n",
       "\n",
       "    .dataframe thead th {\n",
       "        text-align: right;\n",
       "    }\n",
       "</style>\n",
       "<table border=\"1\" class=\"dataframe\">\n",
       "  <thead>\n",
       "    <tr style=\"text-align: right;\">\n",
       "      <th></th>\n",
       "      <th>user_id</th>\n",
       "      <th>following</th>\n",
       "    </tr>\n",
       "  </thead>\n",
       "  <tbody>\n",
       "    <tr>\n",
       "      <th>0</th>\n",
       "      <td>38719947</td>\n",
       "      <td>20</td>\n",
       "    </tr>\n",
       "    <tr>\n",
       "      <th>1</th>\n",
       "      <td>37434280</td>\n",
       "      <td>11</td>\n",
       "    </tr>\n",
       "    <tr>\n",
       "      <th>2</th>\n",
       "      <td>22013860</td>\n",
       "      <td>185</td>\n",
       "    </tr>\n",
       "    <tr>\n",
       "      <th>3</th>\n",
       "      <td>28885466</td>\n",
       "      <td>40</td>\n",
       "    </tr>\n",
       "    <tr>\n",
       "      <th>4</th>\n",
       "      <td>30848189</td>\n",
       "      <td>58</td>\n",
       "    </tr>\n",
       "    <tr>\n",
       "      <th>...</th>\n",
       "      <td>...</td>\n",
       "      <td>...</td>\n",
       "    </tr>\n",
       "    <tr>\n",
       "      <th>4283154</th>\n",
       "      <td>18019173</td>\n",
       "      <td>3</td>\n",
       "    </tr>\n",
       "    <tr>\n",
       "      <th>4284894</th>\n",
       "      <td>32508214</td>\n",
       "      <td>3</td>\n",
       "    </tr>\n",
       "    <tr>\n",
       "      <th>4285350</th>\n",
       "      <td>27401567</td>\n",
       "      <td>3</td>\n",
       "    </tr>\n",
       "    <tr>\n",
       "      <th>4285960</th>\n",
       "      <td>21787383</td>\n",
       "      <td>3</td>\n",
       "    </tr>\n",
       "    <tr>\n",
       "      <th>4287965</th>\n",
       "      <td>32626971</td>\n",
       "      <td>3</td>\n",
       "    </tr>\n",
       "  </tbody>\n",
       "</table>\n",
       "<p>2907190 rows × 2 columns</p>\n",
       "</div>"
      ],
      "text/plain": [
       "          user_id  following\n",
       "0        38719947         20\n",
       "1        37434280         11\n",
       "2        22013860        185\n",
       "3        28885466         40\n",
       "4        30848189         58\n",
       "...           ...        ...\n",
       "4283154  18019173          3\n",
       "4284894  32508214          3\n",
       "4285350  27401567          3\n",
       "4285960  21787383          3\n",
       "4287965  32626971          3\n",
       "\n",
       "[2907190 rows x 2 columns]"
      ]
     },
     "execution_count": 223,
     "metadata": {},
     "output_type": "execute_result"
    }
   ],
   "source": [
    "df[df['following'] > 2]"
   ]
  },
  {
   "cell_type": "code",
   "execution_count": null,
   "id": "7380f94a",
   "metadata": {},
   "outputs": [],
   "source": []
  },
  {
   "cell_type": "code",
   "execution_count": null,
   "id": "f1b6db28",
   "metadata": {},
   "outputs": [],
   "source": []
  }
 ],
 "metadata": {
  "kernelspec": {
   "display_name": "Python 3 (ipykernel)",
   "language": "python",
   "name": "python3"
  },
  "language_info": {
   "codemirror_mode": {
    "name": "ipython",
    "version": 3
   },
   "file_extension": ".py",
   "mimetype": "text/x-python",
   "name": "python",
   "nbconvert_exporter": "python",
   "pygments_lexer": "ipython3",
   "version": "3.9.13"
  }
 },
 "nbformat": 4,
 "nbformat_minor": 5
}

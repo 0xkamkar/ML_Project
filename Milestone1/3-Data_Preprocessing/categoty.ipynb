{
 "cells": [
  {
   "cell_type": "code",
   "execution_count": 1,
   "id": "c54c9cbb",
   "metadata": {},
   "outputs": [],
   "source": [
    "import numpy as np\n",
    "import pandas as pd\n",
    "from collections import Counter\n",
    "from tqdm import tqdm as tqdm"
   ]
  },
  {
   "cell_type": "code",
   "execution_count": 2,
   "id": "b38b4973",
   "metadata": {},
   "outputs": [
    {
     "data": {
      "text/html": [
       "<div>\n",
       "<style scoped>\n",
       "    .dataframe tbody tr th:only-of-type {\n",
       "        vertical-align: middle;\n",
       "    }\n",
       "\n",
       "    .dataframe tbody tr th {\n",
       "        vertical-align: top;\n",
       "    }\n",
       "\n",
       "    .dataframe thead th {\n",
       "        text-align: right;\n",
       "    }\n",
       "</style>\n",
       "<table border=\"1\" class=\"dataframe\">\n",
       "  <thead>\n",
       "    <tr style=\"text-align: right;\">\n",
       "      <th></th>\n",
       "      <th>podcaster_id</th>\n",
       "    </tr>\n",
       "    <tr>\n",
       "      <th>user_id</th>\n",
       "      <th></th>\n",
       "    </tr>\n",
       "  </thead>\n",
       "  <tbody>\n",
       "    <tr>\n",
       "      <th>38719947</th>\n",
       "      <td>21543729</td>\n",
       "    </tr>\n",
       "    <tr>\n",
       "      <th>37434280</th>\n",
       "      <td>21543729</td>\n",
       "    </tr>\n",
       "    <tr>\n",
       "      <th>22013860</th>\n",
       "      <td>21543729</td>\n",
       "    </tr>\n",
       "    <tr>\n",
       "      <th>28885466</th>\n",
       "      <td>21543729</td>\n",
       "    </tr>\n",
       "    <tr>\n",
       "      <th>30848189</th>\n",
       "      <td>21543729</td>\n",
       "    </tr>\n",
       "  </tbody>\n",
       "</table>\n",
       "</div>"
      ],
      "text/plain": [
       "          podcaster_id\n",
       "user_id               \n",
       "38719947      21543729\n",
       "37434280      21543729\n",
       "22013860      21543729\n",
       "28885466      21543729\n",
       "30848189      21543729"
      ]
     },
     "execution_count": 2,
     "metadata": {},
     "output_type": "execute_result"
    }
   ],
   "source": [
    "followers_df = pd.read_csv(\"/Users/marzie/Documents/Data/followers_df.csv\")\n",
    "followers = followers_df[['user_id', 'podcaster_id']].set_index('user_id')\n",
    "followers.head()"
   ]
  },
  {
   "cell_type": "code",
   "execution_count": 3,
   "id": "61ec44dd",
   "metadata": {},
   "outputs": [
    {
     "data": {
      "text/html": [
       "<div>\n",
       "<style scoped>\n",
       "    .dataframe tbody tr th:only-of-type {\n",
       "        vertical-align: middle;\n",
       "    }\n",
       "\n",
       "    .dataframe tbody tr th {\n",
       "        vertical-align: top;\n",
       "    }\n",
       "\n",
       "    .dataframe thead th {\n",
       "        text-align: right;\n",
       "    }\n",
       "</style>\n",
       "<table border=\"1\" class=\"dataframe\">\n",
       "  <thead>\n",
       "    <tr style=\"text-align: right;\">\n",
       "      <th></th>\n",
       "      <th>podcaster_id</th>\n",
       "      <th>data</th>\n",
       "    </tr>\n",
       "    <tr>\n",
       "      <th>cid</th>\n",
       "      <th></th>\n",
       "      <th></th>\n",
       "    </tr>\n",
       "  </thead>\n",
       "  <tbody>\n",
       "    <tr>\n",
       "      <th>2598530</th>\n",
       "      <td>17293748.0</td>\n",
       "      <td>{'uid': '0e242cb9dea94a00aa50efbf010fc0c5', 'o...</td>\n",
       "    </tr>\n",
       "    <tr>\n",
       "      <th>4894772</th>\n",
       "      <td>17293748.0</td>\n",
       "      <td>{'uid': '0e242cb9dea94a00aa50efbf010fc0c5', 'e...</td>\n",
       "    </tr>\n",
       "    <tr>\n",
       "      <th>1423226</th>\n",
       "      <td>7697322.0</td>\n",
       "      <td>{'uid': 'c4dad8b7604c48f1aecd8f08105dca6f', 'e...</td>\n",
       "    </tr>\n",
       "    <tr>\n",
       "      <th>1482589</th>\n",
       "      <td>16024112.0</td>\n",
       "      <td>{'uid': 'd62534a4513e46428378e198ffd1ce9a', 'o...</td>\n",
       "    </tr>\n",
       "    <tr>\n",
       "      <th>2356600</th>\n",
       "      <td>16024112.0</td>\n",
       "      <td>{'uid': 'd62534a4513e46428378e198ffd1ce9a', 'e...</td>\n",
       "    </tr>\n",
       "  </tbody>\n",
       "</table>\n",
       "</div>"
      ],
      "text/plain": [
       "         podcaster_id                                               data\n",
       "cid                                                                     \n",
       "2598530    17293748.0  {'uid': '0e242cb9dea94a00aa50efbf010fc0c5', 'o...\n",
       "4894772    17293748.0  {'uid': '0e242cb9dea94a00aa50efbf010fc0c5', 'e...\n",
       "1423226     7697322.0  {'uid': 'c4dad8b7604c48f1aecd8f08105dca6f', 'e...\n",
       "1482589    16024112.0  {'uid': 'd62534a4513e46428378e198ffd1ce9a', 'o...\n",
       "2356600    16024112.0  {'uid': 'd62534a4513e46428378e198ffd1ce9a', 'e..."
      ]
     },
     "execution_count": 3,
     "metadata": {},
     "output_type": "execute_result"
    }
   ],
   "source": [
    "all_podcasts_with_channel = pd.read_json(\"all_podcasts_with_channel.json\")\n",
    "all_podcasts_with_channel.rename(columns= {'user_suid':'podcaster_id'}, inplace = True)\n",
    "all_podcasts = all_podcasts_with_channel[['cid', 'podcaster_id', 'data']].set_index('cid')\n",
    "all_podcasts.head()"
   ]
  },
  {
   "cell_type": "code",
   "execution_count": 4,
   "id": "3287cb84",
   "metadata": {},
   "outputs": [],
   "source": [
    "my_podcasts = pd.read_csv('my_podcasts_df.csv')\n",
    "my_cids_list = my_podcasts['cid'].tolist()"
   ]
  },
  {
   "cell_type": "code",
   "execution_count": 5,
   "id": "19ee34ea",
   "metadata": {},
   "outputs": [
    {
     "data": {
      "text/html": [
       "<div>\n",
       "<style scoped>\n",
       "    .dataframe tbody tr th:only-of-type {\n",
       "        vertical-align: middle;\n",
       "    }\n",
       "\n",
       "    .dataframe tbody tr th {\n",
       "        vertical-align: top;\n",
       "    }\n",
       "\n",
       "    .dataframe thead th {\n",
       "        text-align: right;\n",
       "    }\n",
       "</style>\n",
       "<table border=\"1\" class=\"dataframe\">\n",
       "  <thead>\n",
       "    <tr style=\"text-align: right;\">\n",
       "      <th></th>\n",
       "      <th>cid</th>\n",
       "      <th>podcaster_id</th>\n",
       "      <th>data</th>\n",
       "    </tr>\n",
       "  </thead>\n",
       "  <tbody>\n",
       "    <tr>\n",
       "      <th>0</th>\n",
       "      <td>4894772</td>\n",
       "      <td>17293748.0</td>\n",
       "      <td>{'uid': '0e242cb9dea94a00aa50efbf010fc0c5', 'e...</td>\n",
       "    </tr>\n",
       "    <tr>\n",
       "      <th>1</th>\n",
       "      <td>2356600</td>\n",
       "      <td>16024112.0</td>\n",
       "      <td>{'uid': 'd62534a4513e46428378e198ffd1ce9a', 'e...</td>\n",
       "    </tr>\n",
       "    <tr>\n",
       "      <th>2</th>\n",
       "      <td>4857685</td>\n",
       "      <td>16682348.0</td>\n",
       "      <td>{'uid': 'b188e784539c480c84c173b29675e858', 'e...</td>\n",
       "    </tr>\n",
       "    <tr>\n",
       "      <th>3</th>\n",
       "      <td>2748108</td>\n",
       "      <td>14199420.0</td>\n",
       "      <td>{'uid': 'af088f29b89a422198b86988b2619c4f', 'e...</td>\n",
       "    </tr>\n",
       "    <tr>\n",
       "      <th>4</th>\n",
       "      <td>2400145</td>\n",
       "      <td>15814516.0</td>\n",
       "      <td>{'uid': '8097ad5aa05d4e9eba396743f11c658d', 'e...</td>\n",
       "    </tr>\n",
       "    <tr>\n",
       "      <th>...</th>\n",
       "      <td>...</td>\n",
       "      <td>...</td>\n",
       "      <td>...</td>\n",
       "    </tr>\n",
       "    <tr>\n",
       "      <th>3875</th>\n",
       "      <td>5423676</td>\n",
       "      <td>20495886.0</td>\n",
       "      <td>{'uid': '4cc555ff69ed431a94c7b7cffb7fd91d', 'o...</td>\n",
       "    </tr>\n",
       "    <tr>\n",
       "      <th>3876</th>\n",
       "      <td>2131745</td>\n",
       "      <td>13501707.0</td>\n",
       "      <td>{'uid': '68d77f432d5d4ae29029f266b3cabd61', 'e...</td>\n",
       "    </tr>\n",
       "    <tr>\n",
       "      <th>3877</th>\n",
       "      <td>4711535</td>\n",
       "      <td>24170434.0</td>\n",
       "      <td>{'uid': '18a9ef1a3bf447e7b26f315796842ab3', 'e...</td>\n",
       "    </tr>\n",
       "    <tr>\n",
       "      <th>3878</th>\n",
       "      <td>5297748</td>\n",
       "      <td>18840456.0</td>\n",
       "      <td>{'uid': 'c65835ff048448e3820ebd9f1e676fe1', 'o...</td>\n",
       "    </tr>\n",
       "    <tr>\n",
       "      <th>3879</th>\n",
       "      <td>3631144</td>\n",
       "      <td>18930934.0</td>\n",
       "      <td>{'uid': 'e61cb2a5e9c34261a17fb808620260d7', 'o...</td>\n",
       "    </tr>\n",
       "  </tbody>\n",
       "</table>\n",
       "<p>3880 rows × 3 columns</p>\n",
       "</div>"
      ],
      "text/plain": [
       "          cid  podcaster_id                                               data\n",
       "0     4894772    17293748.0  {'uid': '0e242cb9dea94a00aa50efbf010fc0c5', 'e...\n",
       "1     2356600    16024112.0  {'uid': 'd62534a4513e46428378e198ffd1ce9a', 'e...\n",
       "2     4857685    16682348.0  {'uid': 'b188e784539c480c84c173b29675e858', 'e...\n",
       "3     2748108    14199420.0  {'uid': 'af088f29b89a422198b86988b2619c4f', 'e...\n",
       "4     2400145    15814516.0  {'uid': '8097ad5aa05d4e9eba396743f11c658d', 'e...\n",
       "...       ...           ...                                                ...\n",
       "3875  5423676    20495886.0  {'uid': '4cc555ff69ed431a94c7b7cffb7fd91d', 'o...\n",
       "3876  2131745    13501707.0  {'uid': '68d77f432d5d4ae29029f266b3cabd61', 'e...\n",
       "3877  4711535    24170434.0  {'uid': '18a9ef1a3bf447e7b26f315796842ab3', 'e...\n",
       "3878  5297748    18840456.0  {'uid': 'c65835ff048448e3820ebd9f1e676fe1', 'o...\n",
       "3879  3631144    18930934.0  {'uid': 'e61cb2a5e9c34261a17fb808620260d7', 'o...\n",
       "\n",
       "[3880 rows x 3 columns]"
      ]
     },
     "execution_count": 5,
     "metadata": {},
     "output_type": "execute_result"
    }
   ],
   "source": [
    "my_podcast_with_data = all_podcasts.loc[my_cids_list].reset_index()\n",
    "my_podcast_with_data"
   ]
  },
  {
   "cell_type": "code",
   "execution_count": 6,
   "id": "78f63c74",
   "metadata": {},
   "outputs": [],
   "source": [
    "list_of_categories = [[] for i in range(len(my_podcast_with_data))]\n",
    "all_categories = []\n",
    "\n",
    "for i in range(len(my_podcast_with_data)):\n",
    "    category_i = my_podcast_with_data['data'][i]['categories']\n",
    "    list_of_categories[i] = category_i\n",
    "    all_categories = all_categories + category_i"
   ]
  },
  {
   "cell_type": "code",
   "execution_count": 8,
   "id": "d831284d",
   "metadata": {},
   "outputs": [
    {
     "data": {
      "text/plain": [
       "{10122: 1,\n",
       " 10120: 1,\n",
       " 10121: 1,\n",
       " 10116: 2,\n",
       " 10052: 2,\n",
       " 10111: 2,\n",
       " 10051: 3,\n",
       " 10109: 3,\n",
       " 10055: 3,\n",
       " 10093: 3,\n",
       " 10069: 4,\n",
       " 10065: 4,\n",
       " 10079: 4,\n",
       " 10049: 5,\n",
       " 10050: 5,\n",
       " 10094: 6,\n",
       " 10096: 6,\n",
       " 10089: 7,\n",
       " 10038: 7,\n",
       " 10126: 8,\n",
       " 10128: 8,\n",
       " 10081: 9,\n",
       " 10060: 10,\n",
       " 10034: 10,\n",
       " 10061: 10,\n",
       " 10016: 10,\n",
       " 10064: 12,\n",
       " 10130: 12,\n",
       " 10092: 12,\n",
       " 10085: 12,\n",
       " 10037: 12,\n",
       " 10127: 14,\n",
       " 10077: 14,\n",
       " 10098: 15,\n",
       " 10036: 15,\n",
       " 10097: 15,\n",
       " 10045: 16,\n",
       " 10099: 17,\n",
       " 10047: 18,\n",
       " 10025: 18,\n",
       " 10006: 19,\n",
       " 10078: 20,\n",
       " 10024: 21,\n",
       " 10076: 22,\n",
       " 10090: 25,\n",
       " 10117: 25,\n",
       " 10067: 27,\n",
       " 10112: 27,\n",
       " 10068: 29,\n",
       " 10074: 30,\n",
       " 10053: 30,\n",
       " 10070: 33,\n",
       " 10082: 33,\n",
       " 10054: 33,\n",
       " 10027: 35,\n",
       " 10124: 35,\n",
       " 10073: 36,\n",
       " 10057: 37,\n",
       " 10029: 39,\n",
       " 10056: 40,\n",
       " 10087: 42,\n",
       " 10072: 42,\n",
       " 10042: 45,\n",
       " 10080: 47,\n",
       " 10062: 48,\n",
       " 10106: 49,\n",
       " 10095: 51,\n",
       " 10129: 54,\n",
       " 10031: 60,\n",
       " 10026: 62,\n",
       " 10023: 65,\n",
       " 10105: 66,\n",
       " 10100: 72,\n",
       " 10104: 74,\n",
       " 10102: 74,\n",
       " 10041: 76,\n",
       " 10040: 83,\n",
       " 10107: 85,\n",
       " 10013: 86,\n",
       " 10030: 88,\n",
       " 10005: 96,\n",
       " 10032: 97,\n",
       " 10046: 103,\n",
       " 10033: 115,\n",
       " 10103: 131,\n",
       " 10063: 134,\n",
       " 10035: 137,\n",
       " 10003: 137,\n",
       " 10011: 148,\n",
       " 10083: 148,\n",
       " 10066: 158,\n",
       " 10007: 158,\n",
       " 10125: 180,\n",
       " 10015: 180,\n",
       " 10048: 183,\n",
       " 10075: 223,\n",
       " 10010: 223,\n",
       " 10123: 223,\n",
       " 10008: 234,\n",
       " 10058: 263,\n",
       " 10059: 286,\n",
       " 10044: 291,\n",
       " 10043: 317,\n",
       " 10091: 335,\n",
       " 10071: 348,\n",
       " 10009: 348,\n",
       " 10012: 376,\n",
       " 10022: 447,\n",
       " 10028: 546,\n",
       " 10002: 557,\n",
       " 10101: 828,\n",
       " 10039: 977,\n",
       " 10004: 977,\n",
       " 10014: 1050,\n",
       " 10021: 1055,\n",
       " 10001: 1256}"
      ]
     },
     "execution_count": 8,
     "metadata": {},
     "output_type": "execute_result"
    }
   ],
   "source": [
    "category_dict = dict(Counter(all_categories))\n",
    "keyslist = list(category_dict.keys())\n",
    "values = list(category_dict.values())\n",
    "sorted_value_index = np.argsort(values)\n",
    "sorted_dict = {keyslist[i]: values[i] for i in sorted_value_index}\n",
    "sorted_dict"
   ]
  },
  {
   "cell_type": "code",
   "execution_count": 234,
   "id": "c816d16b",
   "metadata": {},
   "outputs": [],
   "source": [
    "# category_dic"
   ]
  },
  {
   "cell_type": "code",
   "execution_count": 237,
   "id": "3f13967c",
   "metadata": {},
   "outputs": [],
   "source": [
    "#list_of_categories"
   ]
  },
  {
   "cell_type": "code",
   "execution_count": 201,
   "id": "f2f3c4a1",
   "metadata": {},
   "outputs": [],
   "source": [
    "def categories(user_id):\n",
    "    \n",
    "    categories=[]\n",
    "    \n",
    "    podcaster_id_s = followers.loc[user_id]['podcaster_id'].tolist()\n",
    "    \n",
    "    index = my_podcast_with_data[my_podcast_with_data['podcaster_id'].isin(podcaster_id_s)].index.values.tolist() \n",
    "    \n",
    "    for i in range(len(index)):\n",
    "        categories = categories + list_of_categories[index[i]]\n",
    "        \n",
    "    sorted_categories = [key for key, value in Counter(categories).most_common()]\n",
    "    \n",
    "    return sorted_categories"
   ]
  },
  {
   "cell_type": "code",
   "execution_count": 187,
   "id": "424a84a7",
   "metadata": {},
   "outputs": [],
   "source": [
    "list_of_user_ids = list(set(followers.index.values.tolist()))"
   ]
  },
  {
   "cell_type": "code",
   "execution_count": 193,
   "id": "d754faf2",
   "metadata": {},
   "outputs": [],
   "source": [
    "list_of_users_category = [[] for i in range(len(list_of_user_ids))]"
   ]
  },
  {
   "cell_type": "code",
   "execution_count": 207,
   "id": "7e7cac4d",
   "metadata": {},
   "outputs": [],
   "source": [
    "# for i, user_id in tqdm(enumerate(list_of_user_ids)):\n",
    "#     list_of_users_category[i] = categories(user_id)"
   ]
  },
  {
   "cell_type": "code",
   "execution_count": 204,
   "id": "14ec3817",
   "metadata": {},
   "outputs": [
    {
     "data": {
      "text/plain": [
       "25165828"
      ]
     },
     "execution_count": 204,
     "metadata": {},
     "output_type": "execute_result"
    }
   ],
   "source": [
    "list_of_user_ids[1]"
   ]
  },
  {
   "cell_type": "code",
   "execution_count": 206,
   "id": "c8105d35",
   "metadata": {},
   "outputs": [
    {
     "data": {
      "text/plain": [
       "15814516"
      ]
     },
     "execution_count": 206,
     "metadata": {},
     "output_type": "execute_result"
    }
   ],
   "source": [
    "podcaster_id_s = followers.loc[user_id]['podcaster_id'].tolist()\n",
    "podcaster_id_s"
   ]
  },
  {
   "cell_type": "code",
   "execution_count": 209,
   "id": "bdc88676",
   "metadata": {},
   "outputs": [],
   "source": [
    "# a = dict(Counter(MyList))"
   ]
  },
  {
   "cell_type": "code",
   "execution_count": 11,
   "id": "c8426499",
   "metadata": {},
   "outputs": [],
   "source": [
    "#find out how many podcasters each user follows\n",
    "follower_df_user_id_s = followers.index.values.tolist() \n",
    "user_sub = dict(Counter(follower_df_user_id_s))"
   ]
  },
  {
   "cell_type": "code",
   "execution_count": 12,
   "id": "6dfe6542",
   "metadata": {},
   "outputs": [],
   "source": [
    "following_df = pd.DataFrame(list(user_sub.items()), columns=['user_id', 'following']).set_index('user_id')"
   ]
  },
  {
   "cell_type": "code",
   "execution_count": 14,
   "id": "a2192155",
   "metadata": {},
   "outputs": [
    {
     "data": {
      "text/html": [
       "<div>\n",
       "<style scoped>\n",
       "    .dataframe tbody tr th:only-of-type {\n",
       "        vertical-align: middle;\n",
       "    }\n",
       "\n",
       "    .dataframe tbody tr th {\n",
       "        vertical-align: top;\n",
       "    }\n",
       "\n",
       "    .dataframe thead th {\n",
       "        text-align: right;\n",
       "    }\n",
       "</style>\n",
       "<table border=\"1\" class=\"dataframe\">\n",
       "  <thead>\n",
       "    <tr style=\"text-align: right;\">\n",
       "      <th></th>\n",
       "      <th>following</th>\n",
       "    </tr>\n",
       "    <tr>\n",
       "      <th>user_id</th>\n",
       "      <th></th>\n",
       "    </tr>\n",
       "  </thead>\n",
       "  <tbody>\n",
       "    <tr>\n",
       "      <th>38719947</th>\n",
       "      <td>20</td>\n",
       "    </tr>\n",
       "    <tr>\n",
       "      <th>37434280</th>\n",
       "      <td>11</td>\n",
       "    </tr>\n",
       "    <tr>\n",
       "      <th>22013860</th>\n",
       "      <td>185</td>\n",
       "    </tr>\n",
       "    <tr>\n",
       "      <th>28885466</th>\n",
       "      <td>40</td>\n",
       "    </tr>\n",
       "    <tr>\n",
       "      <th>30848189</th>\n",
       "      <td>58</td>\n",
       "    </tr>\n",
       "    <tr>\n",
       "      <th>...</th>\n",
       "      <td>...</td>\n",
       "    </tr>\n",
       "    <tr>\n",
       "      <th>20988834</th>\n",
       "      <td>1</td>\n",
       "    </tr>\n",
       "    <tr>\n",
       "      <th>23768266</th>\n",
       "      <td>1</td>\n",
       "    </tr>\n",
       "    <tr>\n",
       "      <th>21034578</th>\n",
       "      <td>1</td>\n",
       "    </tr>\n",
       "    <tr>\n",
       "      <th>19144548</th>\n",
       "      <td>1</td>\n",
       "    </tr>\n",
       "    <tr>\n",
       "      <th>18734387</th>\n",
       "      <td>1</td>\n",
       "    </tr>\n",
       "  </tbody>\n",
       "</table>\n",
       "<p>4316446 rows × 1 columns</p>\n",
       "</div>"
      ],
      "text/plain": [
       "          following\n",
       "user_id            \n",
       "38719947         20\n",
       "37434280         11\n",
       "22013860        185\n",
       "28885466         40\n",
       "30848189         58\n",
       "...             ...\n",
       "20988834          1\n",
       "23768266          1\n",
       "21034578          1\n",
       "19144548          1\n",
       "18734387          1\n",
       "\n",
       "[4316446 rows x 1 columns]"
      ]
     },
     "execution_count": 14,
     "metadata": {},
     "output_type": "execute_result"
    }
   ],
   "source": [
    "following_df"
   ]
  },
  {
   "cell_type": "code",
   "execution_count": 18,
   "id": "1a22e2c6",
   "metadata": {},
   "outputs": [
    {
     "data": {
      "text/plain": [
       "1690671"
      ]
     },
     "execution_count": 18,
     "metadata": {},
     "output_type": "execute_result"
    }
   ],
   "source": [
    "len(following_df[following_df['following'] > 4].index.values.tolist())"
   ]
  },
  {
   "cell_type": "code",
   "execution_count": 21,
   "id": "73337379",
   "metadata": {},
   "outputs": [],
   "source": [
    "my_followers = followers.loc[following_df[following_df['following'] > 4].index.values.tolist()]"
   ]
  },
  {
   "cell_type": "code",
   "execution_count": 22,
   "id": "b351d2ac",
   "metadata": {},
   "outputs": [
    {
     "data": {
      "text/html": [
       "<div>\n",
       "<style scoped>\n",
       "    .dataframe tbody tr th:only-of-type {\n",
       "        vertical-align: middle;\n",
       "    }\n",
       "\n",
       "    .dataframe tbody tr th {\n",
       "        vertical-align: top;\n",
       "    }\n",
       "\n",
       "    .dataframe thead th {\n",
       "        text-align: right;\n",
       "    }\n",
       "</style>\n",
       "<table border=\"1\" class=\"dataframe\">\n",
       "  <thead>\n",
       "    <tr style=\"text-align: right;\">\n",
       "      <th></th>\n",
       "      <th>podcaster_id</th>\n",
       "    </tr>\n",
       "    <tr>\n",
       "      <th>user_id</th>\n",
       "      <th></th>\n",
       "    </tr>\n",
       "  </thead>\n",
       "  <tbody>\n",
       "    <tr>\n",
       "      <th>38719947</th>\n",
       "      <td>21543729</td>\n",
       "    </tr>\n",
       "    <tr>\n",
       "      <th>38719947</th>\n",
       "      <td>23250574</td>\n",
       "    </tr>\n",
       "    <tr>\n",
       "      <th>38719947</th>\n",
       "      <td>14077619</td>\n",
       "    </tr>\n",
       "    <tr>\n",
       "      <th>38719947</th>\n",
       "      <td>20358403</td>\n",
       "    </tr>\n",
       "    <tr>\n",
       "      <th>38719947</th>\n",
       "      <td>14078348</td>\n",
       "    </tr>\n",
       "    <tr>\n",
       "      <th>...</th>\n",
       "      <td>...</td>\n",
       "    </tr>\n",
       "    <tr>\n",
       "      <th>21290714</th>\n",
       "      <td>19385935</td>\n",
       "    </tr>\n",
       "    <tr>\n",
       "      <th>21290714</th>\n",
       "      <td>16045081</td>\n",
       "    </tr>\n",
       "    <tr>\n",
       "      <th>21290714</th>\n",
       "      <td>20517596</td>\n",
       "    </tr>\n",
       "    <tr>\n",
       "      <th>21290714</th>\n",
       "      <td>15092940</td>\n",
       "    </tr>\n",
       "    <tr>\n",
       "      <th>21290714</th>\n",
       "      <td>13855237</td>\n",
       "    </tr>\n",
       "  </tbody>\n",
       "</table>\n",
       "<p>18599616 rows × 1 columns</p>\n",
       "</div>"
      ],
      "text/plain": [
       "          podcaster_id\n",
       "user_id               \n",
       "38719947      21543729\n",
       "38719947      23250574\n",
       "38719947      14077619\n",
       "38719947      20358403\n",
       "38719947      14078348\n",
       "...                ...\n",
       "21290714      19385935\n",
       "21290714      16045081\n",
       "21290714      20517596\n",
       "21290714      15092940\n",
       "21290714      13855237\n",
       "\n",
       "[18599616 rows x 1 columns]"
      ]
     },
     "execution_count": 22,
     "metadata": {},
     "output_type": "execute_result"
    }
   ],
   "source": [
    "my_followers"
   ]
  },
  {
   "cell_type": "code",
   "execution_count": 24,
   "id": "da716f99",
   "metadata": {},
   "outputs": [
    {
     "data": {
      "text/plain": [
       "2"
      ]
     },
     "execution_count": 24,
     "metadata": {},
     "output_type": "execute_result"
    }
   ],
   "source": [
    "remove_categorys = set([10001, 10021, 10014, 10004, 10039])\n",
    "test = set([1, 2, 10001])\n",
    "test - remove_categorys"
   ]
  },
  {
   "cell_type": "code",
   "execution_count": 35,
   "id": "cb37c048",
   "metadata": {},
   "outputs": [],
   "source": [
    "def categories(user_id):\n",
    "    \n",
    "    remove_categorys = set([10001, 10021, 10014, 10004, 10039])\n",
    "    \n",
    "    categories=[]\n",
    "    \n",
    "    podcaster_id_s = my_followers.loc[user_id]['podcaster_id'].tolist()\n",
    "    \n",
    "    index = my_podcast_with_data[my_podcast_with_data['podcaster_id'].isin(podcaster_id_s)].index.values.tolist() \n",
    "    \n",
    "    for i in range(len(index)):\n",
    "        categories = categories + list_of_categories[index[i]]\n",
    "        \n",
    "    sorted_categories = [key for key, value in Counter(categories).most_common()]\n",
    "    \n",
    "    sorted_categories_rm = set(sorted_categories) - remove_categorys\n",
    "    \n",
    "    return len(sorted_categories), len(sorted_categories_rm), sorted_categories, sorted_categories_rm"
   ]
  },
  {
   "cell_type": "code",
   "execution_count": 36,
   "id": "58133b5a",
   "metadata": {},
   "outputs": [],
   "source": [
    "list_of_my_user_ids = following_df[following_df['following'] > 4].index.values.tolist()"
   ]
  },
  {
   "cell_type": "code",
   "execution_count": 37,
   "id": "b7879685",
   "metadata": {},
   "outputs": [
    {
     "data": {
      "text/plain": [
       "1690671"
      ]
     },
     "execution_count": 37,
     "metadata": {},
     "output_type": "execute_result"
    }
   ],
   "source": [
    "len(list_of_my_user_ids)"
   ]
  },
  {
   "cell_type": "code",
   "execution_count": null,
   "id": "cf2953d5",
   "metadata": {},
   "outputs": [
    {
     "name": "stderr",
     "output_type": "stream",
     "text": [
      " 14%|████▍                          | 241976/1690671 [39:51<3:57:35, 101.62it/s]"
     ]
    }
   ],
   "source": [
    "number_of_categories = np.zeros(len(list_of_my_user_ids))\n",
    "number_of_categories_rm = np.zeros(len(list_of_my_user_ids))\n",
    "sorted_categories = [[] for i in range(len(list_of_my_user_ids))]\n",
    "sorted_categories_rm = [[] for i in range(len(list_of_my_user_ids))]\n",
    "\n",
    "for i, user_id in enumerate(tqdm((list_of_my_user_ids))):\n",
    "    user_categories = categories(user_id)\n",
    "    number_of_categories[i] = user_categories[0]\n",
    "    number_of_categories_rm[i] = user_categories[1]\n",
    "    sorted_categories[i] = user_categories[2]\n",
    "    sorted_categories_rm[i] = user_categories[3]"
   ]
  },
  {
   "cell_type": "code",
   "execution_count": 40,
   "id": "d92fd68c",
   "metadata": {},
   "outputs": [],
   "source": [
    "sorted_categories = [[] for i in range(len(list_of_my_user_ids))]"
   ]
  },
  {
   "cell_type": "code",
   "execution_count": null,
   "id": "95a4630a",
   "metadata": {},
   "outputs": [],
   "source": []
  }
 ],
 "metadata": {
  "kernelspec": {
   "display_name": "Python 3 (ipykernel)",
   "language": "python",
   "name": "python3"
  },
  "language_info": {
   "codemirror_mode": {
    "name": "ipython",
    "version": 3
   },
   "file_extension": ".py",
   "mimetype": "text/x-python",
   "name": "python",
   "nbconvert_exporter": "python",
   "pygments_lexer": "ipython3",
   "version": "3.9.13"
  }
 },
 "nbformat": 4,
 "nbformat_minor": 5
}

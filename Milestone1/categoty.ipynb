{
 "cells": [
  {
   "cell_type": "code",
   "execution_count": 1,
   "id": "55909754",
   "metadata": {},
   "outputs": [],
   "source": [
    "import numpy as np\n",
    "import pandas as pd"
   ]
  },
  {
   "cell_type": "code",
   "execution_count": 4,
   "id": "17a40b58",
   "metadata": {},
   "outputs": [
    {
     "data": {
      "text/html": [
       "<div>\n",
       "<style scoped>\n",
       "    .dataframe tbody tr th:only-of-type {\n",
       "        vertical-align: middle;\n",
       "    }\n",
       "\n",
       "    .dataframe tbody tr th {\n",
       "        vertical-align: top;\n",
       "    }\n",
       "\n",
       "    .dataframe thead th {\n",
       "        text-align: right;\n",
       "    }\n",
       "</style>\n",
       "<table border=\"1\" class=\"dataframe\">\n",
       "  <thead>\n",
       "    <tr style=\"text-align: right;\">\n",
       "      <th></th>\n",
       "      <th>index</th>\n",
       "      <th>cid</th>\n",
       "      <th>data</th>\n",
       "      <th>user_suid</th>\n",
       "    </tr>\n",
       "  </thead>\n",
       "  <tbody>\n",
       "    <tr>\n",
       "      <th>0</th>\n",
       "      <td>0</td>\n",
       "      <td>2598530</td>\n",
       "      <td>{'uid': '0e242cb9dea94a00aa50efbf010fc0c5', 'o...</td>\n",
       "      <td>17293748.0</td>\n",
       "    </tr>\n",
       "    <tr>\n",
       "      <th>1</th>\n",
       "      <td>1</td>\n",
       "      <td>4894772</td>\n",
       "      <td>{'uid': '0e242cb9dea94a00aa50efbf010fc0c5', 'e...</td>\n",
       "      <td>17293748.0</td>\n",
       "    </tr>\n",
       "    <tr>\n",
       "      <th>2</th>\n",
       "      <td>2</td>\n",
       "      <td>1423226</td>\n",
       "      <td>{'uid': 'c4dad8b7604c48f1aecd8f08105dca6f', 'e...</td>\n",
       "      <td>7697322.0</td>\n",
       "    </tr>\n",
       "    <tr>\n",
       "      <th>3</th>\n",
       "      <td>3</td>\n",
       "      <td>1482589</td>\n",
       "      <td>{'uid': 'd62534a4513e46428378e198ffd1ce9a', 'o...</td>\n",
       "      <td>16024112.0</td>\n",
       "    </tr>\n",
       "    <tr>\n",
       "      <th>4</th>\n",
       "      <td>4</td>\n",
       "      <td>2356600</td>\n",
       "      <td>{'uid': 'd62534a4513e46428378e198ffd1ce9a', 'e...</td>\n",
       "      <td>16024112.0</td>\n",
       "    </tr>\n",
       "  </tbody>\n",
       "</table>\n",
       "</div>"
      ],
      "text/plain": [
       "   index      cid                                               data  \\\n",
       "0      0  2598530  {'uid': '0e242cb9dea94a00aa50efbf010fc0c5', 'o...   \n",
       "1      1  4894772  {'uid': '0e242cb9dea94a00aa50efbf010fc0c5', 'e...   \n",
       "2      2  1423226  {'uid': 'c4dad8b7604c48f1aecd8f08105dca6f', 'e...   \n",
       "3      3  1482589  {'uid': 'd62534a4513e46428378e198ffd1ce9a', 'o...   \n",
       "4      4  2356600  {'uid': 'd62534a4513e46428378e198ffd1ce9a', 'e...   \n",
       "\n",
       "    user_suid  \n",
       "0  17293748.0  \n",
       "1  17293748.0  \n",
       "2   7697322.0  \n",
       "3  16024112.0  \n",
       "4  16024112.0  "
      ]
     },
     "execution_count": 4,
     "metadata": {},
     "output_type": "execute_result"
    }
   ],
   "source": [
    "all_podcasts_with_channel = pd.read_json(\"all_podcasts_with_channel.json\")\n",
    "all_podcasts_with_channel.head()"
   ]
  },
  {
   "cell_type": "code",
   "execution_count": null,
   "id": "7c652a88",
   "metadata": {},
   "outputs": [],
   "source": []
  }
 ],
 "metadata": {
  "kernelspec": {
   "display_name": "Python 3 (ipykernel)",
   "language": "python",
   "name": "python3"
  },
  "language_info": {
   "codemirror_mode": {
    "name": "ipython",
    "version": 3
   },
   "file_extension": ".py",
   "mimetype": "text/x-python",
   "name": "python",
   "nbconvert_exporter": "python",
   "pygments_lexer": "ipython3",
   "version": "3.9.13"
  }
 },
 "nbformat": 4,
 "nbformat_minor": 5
}

{
 "cells": [
  {
   "cell_type": "code",
   "execution_count": 1,
   "id": "74c830c7",
   "metadata": {},
   "outputs": [],
   "source": [
    "import numpy as np\n",
    "import pandas as pd\n",
    "import os\n",
    "from tqdm import tqdm as tqdm"
   ]
  },
  {
   "cell_type": "markdown",
   "id": "c8a81603",
   "metadata": {},
   "source": [
    "## followers"
   ]
  },
  {
   "cell_type": "markdown",
   "id": "f222f75b",
   "metadata": {},
   "source": [
    "<div dir=rtl >\n",
    "<font  size=3>\n",
    "هر کدام از فایل‌هایی که در پوشه followers قرار دارد، مربوط به یک پادکستر است، که حاوی این اطلاعات است که کدام کاربران در چه زمانی این پادکستر را دنبال کردند.\n"
   ]
  },
  {
   "cell_type": "code",
   "execution_count": 5,
   "id": "aaae4c20",
   "metadata": {},
   "outputs": [],
   "source": [
    "#this is the path to followers file on my computer\n",
    "path = \"/Users/marzie/Documents/Data/followers\""
   ]
  },
  {
   "cell_type": "code",
   "execution_count": 4,
   "id": "4dde0c7b",
   "metadata": {},
   "outputs": [],
   "source": [
    "#get the list of all files in followers folder\n",
    "list_of_podcasters = os.listdir(path)"
   ]
  },
  {
   "cell_type": "code",
   "execution_count": 11,
   "id": "652ec834",
   "metadata": {},
   "outputs": [
    {
     "data": {
      "text/html": [
       "<div>\n",
       "<style scoped>\n",
       "    .dataframe tbody tr th:only-of-type {\n",
       "        vertical-align: middle;\n",
       "    }\n",
       "\n",
       "    .dataframe tbody tr th {\n",
       "        vertical-align: top;\n",
       "    }\n",
       "\n",
       "    .dataframe thead th {\n",
       "        text-align: right;\n",
       "    }\n",
       "</style>\n",
       "<table border=\"1\" class=\"dataframe\">\n",
       "  <thead>\n",
       "    <tr style=\"text-align: right;\">\n",
       "      <th></th>\n",
       "      <th>suid</th>\n",
       "      <th>size</th>\n",
       "      <th>error</th>\n",
       "      <th>data</th>\n",
       "    </tr>\n",
       "  </thead>\n",
       "  <tbody>\n",
       "    <tr>\n",
       "      <th>0</th>\n",
       "      <td>21543729</td>\n",
       "      <td>207</td>\n",
       "      <td>False</td>\n",
       "      <td>{'is_followed': False, 'name': 'mahdi mk98', '...</td>\n",
       "    </tr>\n",
       "    <tr>\n",
       "      <th>1</th>\n",
       "      <td>21543729</td>\n",
       "      <td>207</td>\n",
       "      <td>False</td>\n",
       "      <td>{'is_followed': False, 'name': 'Tahereh Khadem...</td>\n",
       "    </tr>\n",
       "    <tr>\n",
       "      <th>2</th>\n",
       "      <td>21543729</td>\n",
       "      <td>207</td>\n",
       "      <td>False</td>\n",
       "      <td>{'is_followed': False, 'name': 'Morad Hosseinz...</td>\n",
       "    </tr>\n",
       "    <tr>\n",
       "      <th>3</th>\n",
       "      <td>21543729</td>\n",
       "      <td>207</td>\n",
       "      <td>False</td>\n",
       "      <td>{'is_followed': False, 'name': 'Saeideh Souri'...</td>\n",
       "    </tr>\n",
       "    <tr>\n",
       "      <th>4</th>\n",
       "      <td>21543729</td>\n",
       "      <td>207</td>\n",
       "      <td>False</td>\n",
       "      <td>{'is_followed': False, 'name': 'Shabnam Behesh...</td>\n",
       "    </tr>\n",
       "  </tbody>\n",
       "</table>\n",
       "</div>"
      ],
      "text/plain": [
       "       suid  size  error                                               data\n",
       "0  21543729   207  False  {'is_followed': False, 'name': 'mahdi mk98', '...\n",
       "1  21543729   207  False  {'is_followed': False, 'name': 'Tahereh Khadem...\n",
       "2  21543729   207  False  {'is_followed': False, 'name': 'Morad Hosseinz...\n",
       "3  21543729   207  False  {'is_followed': False, 'name': 'Saeideh Souri'...\n",
       "4  21543729   207  False  {'is_followed': False, 'name': 'Shabnam Behesh..."
      ]
     },
     "execution_count": 11,
     "metadata": {},
     "output_type": "execute_result"
    }
   ],
   "source": [
    "first_podcaster = pd.read_json(os.path.join(path, list_of_podcasters[0]))\n",
    "first_podcaster.head()"
   ]
  },
  {
   "cell_type": "code",
   "execution_count": 15,
   "id": "70393508",
   "metadata": {},
   "outputs": [
    {
     "name": "stdout",
     "output_type": "stream",
     "text": [
      "Index(['suid', 'size', 'error', 'data'], dtype='object')\n",
      "dict_keys(['is_followed', 'name', 'suid', 'picture_url', 'op_time', 'email', 'uid'])\n"
     ]
    }
   ],
   "source": [
    "print(first_podcaster.keys())\n",
    "print(first_podcaster['data'][0].keys())"
   ]
  },
  {
   "cell_type": "code",
   "execution_count": 14,
   "id": "e5eb6916",
   "metadata": {},
   "outputs": [
    {
     "data": {
      "text/plain": [
       "{'is_followed': False,\n",
       " 'name': 'mahdi mk98',\n",
       " 'suid': 38719947,\n",
       " 'picture_url': 'https://lh3.googleusercontent.com/a/ACg8ocK1VrS-1ChdZaGG5u-OWV2n6k7A11St1z7zY2BX2zMemg=s96-c',\n",
       " 'op_time': 1703757688147,\n",
       " 'email': 'paradox.mk98@gmail.com',\n",
       " 'uid': 'e0709873292f4eca9a7787980eb91cd7'}"
      ]
     },
     "execution_count": 14,
     "metadata": {},
     "output_type": "execute_result"
    }
   ],
   "source": [
    "first_podcaster['data'][0]"
   ]
  },
  {
   "cell_type": "markdown",
   "id": "08cbae1b",
   "metadata": {},
   "source": [
    "<div dir=rtl >\n",
    "<font  size=3>\n",
    "suid که ستون اصلی دیتاست است همان id پادکستر است و suid مربوط به ستون data  در اینجا تعداد دنبال کنند‌های پادکستر است.\n",
    "op_time در قسمت data نیز زمان دنبال کردن کاربر را نشان می‌دهد."
   ]
  },
  {
   "cell_type": "markdown",
   "id": "fc4b2723",
   "metadata": {},
   "source": [
    "## Maka followers dataframe\n"
   ]
  },
  {
   "cell_type": "code",
   "execution_count": 16,
   "id": "b026e2a1",
   "metadata": {},
   "outputs": [],
   "source": [
    "columns_name = ['podcaster_id', 'user_id', 'op_time']"
   ]
  },
  {
   "cell_type": "code",
   "execution_count": 20,
   "id": "6b1eafb3",
   "metadata": {},
   "outputs": [
    {
     "name": "stderr",
     "output_type": "stream",
     "text": [
      "100%|███████████████████████████████████████| 3419/3419 [17:05<00:00,  3.33it/s]\n"
     ]
    }
   ],
   "source": [
    "old_df = pd.DataFrame(columns=columns_name)\n",
    "\n",
    "for i in tqdm(range(len(list_of_podcasters))):\n",
    "    \n",
    "    podcaster = pd.read_json(os.path.join(path, list_of_podcasters[i]))\n",
    "    \n",
    "    podcaster_size = len(podcaster)\n",
    "    \n",
    "    if podcaster_size != 0:\n",
    "    \n",
    "        podcaster_id = podcaster['suid'][0]\n",
    "        podcaster_data = np.array([\n",
    "            [podcaster_id for j in range(podcaster_size)],\n",
    "            [podcaster['data'][j]['suid'] for j in range(podcaster_size)],\n",
    "            [podcaster['data'][j]['op_time'] for j in range(podcaster_size)]\n",
    "        ]).swapaxes(0, 1)\n",
    "                            \n",
    "        podcaster_df = pd.DataFrame(data=podcaster_data, columns=columns_name)\n",
    "    \n",
    "        new_df = pd.concat([old_df, podcaster_df], axis=0)\n",
    "    \n",
    "        old_df = new_df"
   ]
  },
  {
   "cell_type": "code",
   "execution_count": 22,
   "id": "66465edf",
   "metadata": {},
   "outputs": [
    {
     "data": {
      "text/html": [
       "<div>\n",
       "<style scoped>\n",
       "    .dataframe tbody tr th:only-of-type {\n",
       "        vertical-align: middle;\n",
       "    }\n",
       "\n",
       "    .dataframe tbody tr th {\n",
       "        vertical-align: top;\n",
       "    }\n",
       "\n",
       "    .dataframe thead th {\n",
       "        text-align: right;\n",
       "    }\n",
       "</style>\n",
       "<table border=\"1\" class=\"dataframe\">\n",
       "  <thead>\n",
       "    <tr style=\"text-align: right;\">\n",
       "      <th></th>\n",
       "      <th>podcaster_id</th>\n",
       "      <th>user_id</th>\n",
       "      <th>op_time</th>\n",
       "    </tr>\n",
       "  </thead>\n",
       "  <tbody>\n",
       "    <tr>\n",
       "      <th>0</th>\n",
       "      <td>21543729</td>\n",
       "      <td>38719947</td>\n",
       "      <td>1703757688147</td>\n",
       "    </tr>\n",
       "    <tr>\n",
       "      <th>1</th>\n",
       "      <td>21543729</td>\n",
       "      <td>37434280</td>\n",
       "      <td>1702870980668</td>\n",
       "    </tr>\n",
       "    <tr>\n",
       "      <th>2</th>\n",
       "      <td>21543729</td>\n",
       "      <td>22013860</td>\n",
       "      <td>1702775246862</td>\n",
       "    </tr>\n",
       "    <tr>\n",
       "      <th>3</th>\n",
       "      <td>21543729</td>\n",
       "      <td>28885466</td>\n",
       "      <td>1702334085292</td>\n",
       "    </tr>\n",
       "    <tr>\n",
       "      <th>4</th>\n",
       "      <td>21543729</td>\n",
       "      <td>30848189</td>\n",
       "      <td>1699613185882</td>\n",
       "    </tr>\n",
       "    <tr>\n",
       "      <th>...</th>\n",
       "      <td>...</td>\n",
       "      <td>...</td>\n",
       "      <td>...</td>\n",
       "    </tr>\n",
       "    <tr>\n",
       "      <th>19</th>\n",
       "      <td>18385784</td>\n",
       "      <td>23356976</td>\n",
       "      <td>1642597446748</td>\n",
       "    </tr>\n",
       "    <tr>\n",
       "      <th>20</th>\n",
       "      <td>18385784</td>\n",
       "      <td>21762370</td>\n",
       "      <td>1639564509477</td>\n",
       "    </tr>\n",
       "    <tr>\n",
       "      <th>21</th>\n",
       "      <td>18385784</td>\n",
       "      <td>11046796</td>\n",
       "      <td>1639564427873</td>\n",
       "    </tr>\n",
       "    <tr>\n",
       "      <th>22</th>\n",
       "      <td>18385784</td>\n",
       "      <td>11486103</td>\n",
       "      <td>1639374944821</td>\n",
       "    </tr>\n",
       "    <tr>\n",
       "      <th>23</th>\n",
       "      <td>18385784</td>\n",
       "      <td>9521616</td>\n",
       "      <td>1597749620239</td>\n",
       "    </tr>\n",
       "  </tbody>\n",
       "</table>\n",
       "<p>24854737 rows × 3 columns</p>\n",
       "</div>"
      ],
      "text/plain": [
       "   podcaster_id   user_id        op_time\n",
       "0      21543729  38719947  1703757688147\n",
       "1      21543729  37434280  1702870980668\n",
       "2      21543729  22013860  1702775246862\n",
       "3      21543729  28885466  1702334085292\n",
       "4      21543729  30848189  1699613185882\n",
       "..          ...       ...            ...\n",
       "19     18385784  23356976  1642597446748\n",
       "20     18385784  21762370  1639564509477\n",
       "21     18385784  11046796  1639564427873\n",
       "22     18385784  11486103  1639374944821\n",
       "23     18385784   9521616  1597749620239\n",
       "\n",
       "[24854737 rows x 3 columns]"
      ]
     },
     "execution_count": 22,
     "metadata": {},
     "output_type": "execute_result"
    }
   ],
   "source": [
    "new_df"
   ]
  },
  {
   "cell_type": "code",
   "execution_count": null,
   "id": "58442d13",
   "metadata": {},
   "outputs": [],
   "source": [
    "new_df.to_csv(\"followers_df.csv\")"
   ]
  },
  {
   "cell_type": "code",
   "execution_count": null,
   "id": "2aa6ebfb",
   "metadata": {},
   "outputs": [],
   "source": []
  }
 ],
 "metadata": {
  "kernelspec": {
   "display_name": "Python 3 (ipykernel)",
   "language": "python",
   "name": "python3"
  },
  "language_info": {
   "codemirror_mode": {
    "name": "ipython",
    "version": 3
   },
   "file_extension": ".py",
   "mimetype": "text/x-python",
   "name": "python",
   "nbconvert_exporter": "python",
   "pygments_lexer": "ipython3",
   "version": "3.9.13"
  }
 },
 "nbformat": 4,
 "nbformat_minor": 5
}

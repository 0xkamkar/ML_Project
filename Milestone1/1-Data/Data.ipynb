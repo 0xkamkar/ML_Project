{
 "cells": [
  {
   "cell_type": "code",
   "execution_count": 1,
   "id": "74c830c7",
   "metadata": {},
   "outputs": [],
   "source": [
    "import numpy as np\n",
    "import pandas as pd\n",
    "import os\n",
    "from tqdm import tqdm as tqdm"
   ]
  },
  {
   "cell_type": "markdown",
   "id": "c8a81603",
   "metadata": {},
   "source": [
    "# followers"
   ]
  },
  {
   "cell_type": "markdown",
   "id": "f222f75b",
   "metadata": {},
   "source": [
    "<div dir=rtl >\n",
    "<font  size=3>\n",
    "هر کدام از فایل‌هایی که در پوشه followers قرار دارد، مربوط به یک پادکستر است، که حاوی این اطلاعات است که کدام کاربران در چه زمانی این پادکستر را دنبال کردند.\n"
   ]
  },
  {
   "cell_type": "code",
   "execution_count": 5,
   "id": "aaae4c20",
   "metadata": {},
   "outputs": [],
   "source": [
    "#this is the path to followers file on my computer\n",
    "path = \"/Users/marzie/Documents/Data/followers\""
   ]
  },
  {
   "cell_type": "code",
   "execution_count": 31,
   "id": "4dde0c7b",
   "metadata": {},
   "outputs": [
    {
     "data": {
      "text/plain": [
       "'21543729.json'"
      ]
     },
     "execution_count": 31,
     "metadata": {},
     "output_type": "execute_result"
    }
   ],
   "source": [
    "#get the list of all files in followers folder\n",
    "list_of_podcasters = os.listdir(path)"
   ]
  },
  {
   "cell_type": "code",
   "execution_count": 11,
   "id": "652ec834",
   "metadata": {},
   "outputs": [
    {
     "data": {
      "text/html": [
       "<div>\n",
       "<style scoped>\n",
       "    .dataframe tbody tr th:only-of-type {\n",
       "        vertical-align: middle;\n",
       "    }\n",
       "\n",
       "    .dataframe tbody tr th {\n",
       "        vertical-align: top;\n",
       "    }\n",
       "\n",
       "    .dataframe thead th {\n",
       "        text-align: right;\n",
       "    }\n",
       "</style>\n",
       "<table border=\"1\" class=\"dataframe\">\n",
       "  <thead>\n",
       "    <tr style=\"text-align: right;\">\n",
       "      <th></th>\n",
       "      <th>suid</th>\n",
       "      <th>size</th>\n",
       "      <th>error</th>\n",
       "      <th>data</th>\n",
       "    </tr>\n",
       "  </thead>\n",
       "  <tbody>\n",
       "    <tr>\n",
       "      <th>0</th>\n",
       "      <td>21543729</td>\n",
       "      <td>207</td>\n",
       "      <td>False</td>\n",
       "      <td>{'is_followed': False, 'name': 'mahdi mk98', '...</td>\n",
       "    </tr>\n",
       "    <tr>\n",
       "      <th>1</th>\n",
       "      <td>21543729</td>\n",
       "      <td>207</td>\n",
       "      <td>False</td>\n",
       "      <td>{'is_followed': False, 'name': 'Tahereh Khadem...</td>\n",
       "    </tr>\n",
       "    <tr>\n",
       "      <th>2</th>\n",
       "      <td>21543729</td>\n",
       "      <td>207</td>\n",
       "      <td>False</td>\n",
       "      <td>{'is_followed': False, 'name': 'Morad Hosseinz...</td>\n",
       "    </tr>\n",
       "    <tr>\n",
       "      <th>3</th>\n",
       "      <td>21543729</td>\n",
       "      <td>207</td>\n",
       "      <td>False</td>\n",
       "      <td>{'is_followed': False, 'name': 'Saeideh Souri'...</td>\n",
       "    </tr>\n",
       "    <tr>\n",
       "      <th>4</th>\n",
       "      <td>21543729</td>\n",
       "      <td>207</td>\n",
       "      <td>False</td>\n",
       "      <td>{'is_followed': False, 'name': 'Shabnam Behesh...</td>\n",
       "    </tr>\n",
       "  </tbody>\n",
       "</table>\n",
       "</div>"
      ],
      "text/plain": [
       "       suid  size  error                                               data\n",
       "0  21543729   207  False  {'is_followed': False, 'name': 'mahdi mk98', '...\n",
       "1  21543729   207  False  {'is_followed': False, 'name': 'Tahereh Khadem...\n",
       "2  21543729   207  False  {'is_followed': False, 'name': 'Morad Hosseinz...\n",
       "3  21543729   207  False  {'is_followed': False, 'name': 'Saeideh Souri'...\n",
       "4  21543729   207  False  {'is_followed': False, 'name': 'Shabnam Behesh..."
      ]
     },
     "execution_count": 11,
     "metadata": {},
     "output_type": "execute_result"
    }
   ],
   "source": [
    "first_podcaster = pd.read_json(os.path.join(path, list_of_podcasters[0]))\n",
    "first_podcaster.head()"
   ]
  },
  {
   "cell_type": "code",
   "execution_count": 14,
   "id": "e5eb6916",
   "metadata": {},
   "outputs": [
    {
     "data": {
      "text/plain": [
       "{'is_followed': False,\n",
       " 'name': 'mahdi mk98',\n",
       " 'suid': 38719947,\n",
       " 'picture_url': 'https://lh3.googleusercontent.com/a/ACg8ocK1VrS-1ChdZaGG5u-OWV2n6k7A11St1z7zY2BX2zMemg=s96-c',\n",
       " 'op_time': 1703757688147,\n",
       " 'email': 'paradox.mk98@gmail.com',\n",
       " 'uid': 'e0709873292f4eca9a7787980eb91cd7'}"
      ]
     },
     "execution_count": 14,
     "metadata": {},
     "output_type": "execute_result"
    }
   ],
   "source": [
    "first_podcaster['data'][0]"
   ]
  },
  {
   "cell_type": "markdown",
   "id": "08cbae1b",
   "metadata": {},
   "source": [
    "<div dir=rtl >\n",
    "<font  size=3>\n",
    "suid که ستون اصلی دیتاست است همان id پادکستر است و suid مربوط به ستون data  در اینجا تعداد دنبال کنند‌های پادکستر است.\n",
    "op_time در قسمت data نیز زمان دنبال کردن کاربر را نشان می‌دهد."
   ]
  },
  {
   "cell_type": "markdown",
   "id": "fc4b2723",
   "metadata": {},
   "source": [
    "## create followers dataframe"
   ]
  },
  {
   "cell_type": "code",
   "execution_count": 16,
   "id": "b026e2a1",
   "metadata": {},
   "outputs": [],
   "source": [
    "columns_name = ['podcaster_id', 'user_id', 'op_time']"
   ]
  },
  {
   "cell_type": "code",
   "execution_count": 20,
   "id": "6b1eafb3",
   "metadata": {},
   "outputs": [
    {
     "name": "stderr",
     "output_type": "stream",
     "text": [
      "100%|███████████████████████████████████████| 3419/3419 [17:05<00:00,  3.33it/s]\n"
     ]
    }
   ],
   "source": [
    "old_df = pd.DataFrame(columns=columns_name)\n",
    "\n",
    "for i in tqdm(range(len(list_of_podcasters))):\n",
    "    \n",
    "    podcaster = pd.read_json(os.path.join(path, list_of_podcasters[i]))\n",
    "    \n",
    "    podcaster_size = len(podcaster)\n",
    "    \n",
    "    if podcaster_size != 0:\n",
    "    \n",
    "        podcaster_id = podcaster['suid'][0]\n",
    "        podcaster_data = np.array([\n",
    "            [podcaster_id for j in range(podcaster_size)],\n",
    "            [podcaster['data'][j]['suid'] for j in range(podcaster_size)],\n",
    "            [podcaster['data'][j]['op_time'] for j in range(podcaster_size)]\n",
    "        ]).swapaxes(0, 1)\n",
    "                            \n",
    "        podcaster_df = pd.DataFrame(data=podcaster_data, columns=columns_name)\n",
    "    \n",
    "        new_df = pd.concat([old_df, podcaster_df], axis=0)\n",
    "    \n",
    "        old_df = new_df"
   ]
  },
  {
   "cell_type": "code",
   "execution_count": 22,
   "id": "66465edf",
   "metadata": {},
   "outputs": [
    {
     "data": {
      "text/html": [
       "<div>\n",
       "<style scoped>\n",
       "    .dataframe tbody tr th:only-of-type {\n",
       "        vertical-align: middle;\n",
       "    }\n",
       "\n",
       "    .dataframe tbody tr th {\n",
       "        vertical-align: top;\n",
       "    }\n",
       "\n",
       "    .dataframe thead th {\n",
       "        text-align: right;\n",
       "    }\n",
       "</style>\n",
       "<table border=\"1\" class=\"dataframe\">\n",
       "  <thead>\n",
       "    <tr style=\"text-align: right;\">\n",
       "      <th></th>\n",
       "      <th>podcaster_id</th>\n",
       "      <th>user_id</th>\n",
       "      <th>op_time</th>\n",
       "    </tr>\n",
       "  </thead>\n",
       "  <tbody>\n",
       "    <tr>\n",
       "      <th>0</th>\n",
       "      <td>21543729</td>\n",
       "      <td>38719947</td>\n",
       "      <td>1703757688147</td>\n",
       "    </tr>\n",
       "    <tr>\n",
       "      <th>1</th>\n",
       "      <td>21543729</td>\n",
       "      <td>37434280</td>\n",
       "      <td>1702870980668</td>\n",
       "    </tr>\n",
       "    <tr>\n",
       "      <th>2</th>\n",
       "      <td>21543729</td>\n",
       "      <td>22013860</td>\n",
       "      <td>1702775246862</td>\n",
       "    </tr>\n",
       "    <tr>\n",
       "      <th>3</th>\n",
       "      <td>21543729</td>\n",
       "      <td>28885466</td>\n",
       "      <td>1702334085292</td>\n",
       "    </tr>\n",
       "    <tr>\n",
       "      <th>4</th>\n",
       "      <td>21543729</td>\n",
       "      <td>30848189</td>\n",
       "      <td>1699613185882</td>\n",
       "    </tr>\n",
       "    <tr>\n",
       "      <th>...</th>\n",
       "      <td>...</td>\n",
       "      <td>...</td>\n",
       "      <td>...</td>\n",
       "    </tr>\n",
       "    <tr>\n",
       "      <th>19</th>\n",
       "      <td>18385784</td>\n",
       "      <td>23356976</td>\n",
       "      <td>1642597446748</td>\n",
       "    </tr>\n",
       "    <tr>\n",
       "      <th>20</th>\n",
       "      <td>18385784</td>\n",
       "      <td>21762370</td>\n",
       "      <td>1639564509477</td>\n",
       "    </tr>\n",
       "    <tr>\n",
       "      <th>21</th>\n",
       "      <td>18385784</td>\n",
       "      <td>11046796</td>\n",
       "      <td>1639564427873</td>\n",
       "    </tr>\n",
       "    <tr>\n",
       "      <th>22</th>\n",
       "      <td>18385784</td>\n",
       "      <td>11486103</td>\n",
       "      <td>1639374944821</td>\n",
       "    </tr>\n",
       "    <tr>\n",
       "      <th>23</th>\n",
       "      <td>18385784</td>\n",
       "      <td>9521616</td>\n",
       "      <td>1597749620239</td>\n",
       "    </tr>\n",
       "  </tbody>\n",
       "</table>\n",
       "<p>24854737 rows × 3 columns</p>\n",
       "</div>"
      ],
      "text/plain": [
       "   podcaster_id   user_id        op_time\n",
       "0      21543729  38719947  1703757688147\n",
       "1      21543729  37434280  1702870980668\n",
       "2      21543729  22013860  1702775246862\n",
       "3      21543729  28885466  1702334085292\n",
       "4      21543729  30848189  1699613185882\n",
       "..          ...       ...            ...\n",
       "19     18385784  23356976  1642597446748\n",
       "20     18385784  21762370  1639564509477\n",
       "21     18385784  11046796  1639564427873\n",
       "22     18385784  11486103  1639374944821\n",
       "23     18385784   9521616  1597749620239\n",
       "\n",
       "[24854737 rows x 3 columns]"
      ]
     },
     "execution_count": 22,
     "metadata": {},
     "output_type": "execute_result"
    }
   ],
   "source": [
    "new_df"
   ]
  },
  {
   "cell_type": "code",
   "execution_count": 27,
   "id": "58442d13",
   "metadata": {},
   "outputs": [],
   "source": [
    "new_df.to_csv(\"/Users/marzie/Documents/Data/followers_df.csv\")"
   ]
  },
  {
   "cell_type": "markdown",
   "id": "df4b2fe7",
   "metadata": {},
   "source": [
    "# all podcasts with channel"
   ]
  },
  {
   "cell_type": "markdown",
   "id": "17e86280",
   "metadata": {},
   "source": [
    "<div dir=rtl >\n",
    "<font  size=3>\n",
    "در فایل all_podcasts_with_channel.json اطلاعات مربوط به پادکست‌های مختلف وجود دارد و user_suid در اینجا id پادکستر است و cid در واقع id پادکست است."
   ]
  },
  {
   "cell_type": "code",
   "execution_count": 58,
   "id": "ee14745a",
   "metadata": {},
   "outputs": [
    {
     "data": {
      "text/html": [
       "<div>\n",
       "<style scoped>\n",
       "    .dataframe tbody tr th:only-of-type {\n",
       "        vertical-align: middle;\n",
       "    }\n",
       "\n",
       "    .dataframe tbody tr th {\n",
       "        vertical-align: top;\n",
       "    }\n",
       "\n",
       "    .dataframe thead th {\n",
       "        text-align: right;\n",
       "    }\n",
       "</style>\n",
       "<table border=\"1\" class=\"dataframe\">\n",
       "  <thead>\n",
       "    <tr style=\"text-align: right;\">\n",
       "      <th></th>\n",
       "      <th>index</th>\n",
       "      <th>cid</th>\n",
       "      <th>data</th>\n",
       "      <th>podcaster_id</th>\n",
       "    </tr>\n",
       "  </thead>\n",
       "  <tbody>\n",
       "    <tr>\n",
       "      <th>0</th>\n",
       "      <td>0</td>\n",
       "      <td>2598530</td>\n",
       "      <td>{'uid': '0e242cb9dea94a00aa50efbf010fc0c5', 'o...</td>\n",
       "      <td>17293748.0</td>\n",
       "    </tr>\n",
       "    <tr>\n",
       "      <th>1</th>\n",
       "      <td>1</td>\n",
       "      <td>4894772</td>\n",
       "      <td>{'uid': '0e242cb9dea94a00aa50efbf010fc0c5', 'e...</td>\n",
       "      <td>17293748.0</td>\n",
       "    </tr>\n",
       "    <tr>\n",
       "      <th>2</th>\n",
       "      <td>2</td>\n",
       "      <td>1423226</td>\n",
       "      <td>{'uid': 'c4dad8b7604c48f1aecd8f08105dca6f', 'e...</td>\n",
       "      <td>7697322.0</td>\n",
       "    </tr>\n",
       "    <tr>\n",
       "      <th>3</th>\n",
       "      <td>3</td>\n",
       "      <td>1482589</td>\n",
       "      <td>{'uid': 'd62534a4513e46428378e198ffd1ce9a', 'o...</td>\n",
       "      <td>16024112.0</td>\n",
       "    </tr>\n",
       "    <tr>\n",
       "      <th>4</th>\n",
       "      <td>4</td>\n",
       "      <td>2356600</td>\n",
       "      <td>{'uid': 'd62534a4513e46428378e198ffd1ce9a', 'e...</td>\n",
       "      <td>16024112.0</td>\n",
       "    </tr>\n",
       "    <tr>\n",
       "      <th>...</th>\n",
       "      <td>...</td>\n",
       "      <td>...</td>\n",
       "      <td>...</td>\n",
       "      <td>...</td>\n",
       "    </tr>\n",
       "    <tr>\n",
       "      <th>11685</th>\n",
       "      <td>15617</td>\n",
       "      <td>5555920</td>\n",
       "      <td>{'uid': '75d5d175dd90490883e092b9bdd09bc7', 'e...</td>\n",
       "      <td>29998825.0</td>\n",
       "    </tr>\n",
       "    <tr>\n",
       "      <th>11686</th>\n",
       "      <td>15618</td>\n",
       "      <td>5574434</td>\n",
       "      <td>{'uid': '75d5d175dd90490883e092b9bdd09bc7', 'e...</td>\n",
       "      <td>29998825.0</td>\n",
       "    </tr>\n",
       "    <tr>\n",
       "      <th>11687</th>\n",
       "      <td>15619</td>\n",
       "      <td>5643972</td>\n",
       "      <td>{'uid': '22232cbc34df46dab695614c42cfd037', 'e...</td>\n",
       "      <td>24138607.0</td>\n",
       "    </tr>\n",
       "    <tr>\n",
       "      <th>11688</th>\n",
       "      <td>15620</td>\n",
       "      <td>5655619</td>\n",
       "      <td>{'uid': '75d5d175dd90490883e092b9bdd09bc7', 'e...</td>\n",
       "      <td>29998825.0</td>\n",
       "    </tr>\n",
       "    <tr>\n",
       "      <th>11689</th>\n",
       "      <td>15621</td>\n",
       "      <td>5670506</td>\n",
       "      <td>{'uid': '75d5d175dd90490883e092b9bdd09bc7', 'e...</td>\n",
       "      <td>29998825.0</td>\n",
       "    </tr>\n",
       "  </tbody>\n",
       "</table>\n",
       "<p>11690 rows × 4 columns</p>\n",
       "</div>"
      ],
      "text/plain": [
       "       index      cid                                               data  \\\n",
       "0          0  2598530  {'uid': '0e242cb9dea94a00aa50efbf010fc0c5', 'o...   \n",
       "1          1  4894772  {'uid': '0e242cb9dea94a00aa50efbf010fc0c5', 'e...   \n",
       "2          2  1423226  {'uid': 'c4dad8b7604c48f1aecd8f08105dca6f', 'e...   \n",
       "3          3  1482589  {'uid': 'd62534a4513e46428378e198ffd1ce9a', 'o...   \n",
       "4          4  2356600  {'uid': 'd62534a4513e46428378e198ffd1ce9a', 'e...   \n",
       "...      ...      ...                                                ...   \n",
       "11685  15617  5555920  {'uid': '75d5d175dd90490883e092b9bdd09bc7', 'e...   \n",
       "11686  15618  5574434  {'uid': '75d5d175dd90490883e092b9bdd09bc7', 'e...   \n",
       "11687  15619  5643972  {'uid': '22232cbc34df46dab695614c42cfd037', 'e...   \n",
       "11688  15620  5655619  {'uid': '75d5d175dd90490883e092b9bdd09bc7', 'e...   \n",
       "11689  15621  5670506  {'uid': '75d5d175dd90490883e092b9bdd09bc7', 'e...   \n",
       "\n",
       "       podcaster_id  \n",
       "0        17293748.0  \n",
       "1        17293748.0  \n",
       "2         7697322.0  \n",
       "3        16024112.0  \n",
       "4        16024112.0  \n",
       "...             ...  \n",
       "11685    29998825.0  \n",
       "11686    29998825.0  \n",
       "11687    24138607.0  \n",
       "11688    29998825.0  \n",
       "11689    29998825.0  \n",
       "\n",
       "[11690 rows x 4 columns]"
      ]
     },
     "execution_count": 58,
     "metadata": {},
     "output_type": "execute_result"
    }
   ],
   "source": [
    "all_podcasts = pd.read_json('/Users/marzie/Documents/Data/all_podcasts_with_channel.json')\n",
    "all_podcasts.rename(columns= {'user_suid':'podcaster_id'}, inplace = True)\n",
    "all_podcasts"
   ]
  },
  {
   "cell_type": "code",
   "execution_count": 66,
   "id": "505a9019",
   "metadata": {},
   "outputs": [
    {
     "data": {
      "text/plain": [
       "{'uid': '0e242cb9dea94a00aa50efbf010fc0c5',\n",
       " 'obsolete': '7b05f062883f3dd7f7260c30c3af97e64312b207',\n",
       " 'episode_count': 120,\n",
       " 'x_play_base': 0,\n",
       " 'stat_cover_ext_color': False,\n",
       " 'keywords': ['Education'],\n",
       " 'cover_ext_color': '-15198184',\n",
       " 'mongo_id': '5e319bf2e3b65d59b04e8e1a',\n",
       " 'show_id': '5e319bf2e3b65d59b04e8e1a',\n",
       " 'copyright': 'Copyright 2022 All rights reserved.',\n",
       " 'author': 'رادیو راه',\n",
       " 'is_key_channel': False,\n",
       " 'audiobook_categories': [],\n",
       " 'user_info': {'suid': 17293748,\n",
       "  'picture_url': 'https://s3.castbox.fm/d8/45/10/f36808446f916965d108e0c808.jpg',\n",
       "  'email': 'toseefardi@gmail.com',\n",
       "  'name': 'رادیو راه',\n",
       "  'uid': '0e242cb9dea94a00aa50efbf010fc0c5'},\n",
       " 'comment_count': 36355,\n",
       " 'website': 'https://RadioRaah.podbean.com',\n",
       " 'rss_url': 'https://anchor.fm/s/13405db8/podcast/rss',\n",
       " 'description': 'رادیوراه کنج آرامی از دنیاست برای خواندن، فکر کردن و جستجوی راهی برای بهتر زیستن.',\n",
       " 'tags': ['evst-user-add', 'evst-review-passed', 'from-itunes'],\n",
       " 'editable': True,\n",
       " 'play_count': 39677304,\n",
       " 'link': 'https://RadioRaah.podbean.com',\n",
       " 'categories': [10004, 10039],\n",
       " 'x_subs_base': 0,\n",
       " 'small_cover_url': 'https://deow9bq0xqvbj.cloudfront.net/image-logo/14003869/raah_mnutyn.jpg',\n",
       " 'big_cover_url': 'https://deow9bq0xqvbj.cloudfront.net/image-logo/14003869/raah_mnutyn.jpg',\n",
       " 'language': 'fa',\n",
       " 'cid': 2598530,\n",
       " 'latest_eid': 621835356,\n",
       " 'release_date': '2023-08-03T10:11:46Z',\n",
       " 'title': 'رادیو راه با مجتبی شکوری',\n",
       " 'uri': '/ch/2598530',\n",
       " 'https_cover_url': 'https://deow9bq0xqvbj.cloudfront.net/image-logo/14003869/raah_mnutyn.jpg',\n",
       " 'channel_type': 'private',\n",
       " 'channel_id': '2f09d00768f4eb45a6993a223804b9feaa130c4f',\n",
       " 'sub_count': 776663,\n",
       " 'primary_cid': 4894772,\n",
       " 'internal_product_id': 'cb.ch.2598530',\n",
       " 'social': {'website': 'https://RadioRaah.podbean.com',\n",
       "  'youtube': [{'name': 'mojtabashakoori'}],\n",
       "  'instagram': [{'name': 'mojtaba_shakoori'}]}}"
      ]
     },
     "execution_count": 66,
     "metadata": {},
     "output_type": "execute_result"
    }
   ],
   "source": [
    "all_podcasts['data'][0]"
   ]
  },
  {
   "cell_type": "code",
   "execution_count": 62,
   "id": "f11368fc",
   "metadata": {},
   "outputs": [
    {
     "data": {
      "text/plain": [
       "dict_keys(['uid', 'obsolete', 'episode_count', 'x_play_base', 'stat_cover_ext_color', 'keywords', 'cover_ext_color', 'mongo_id', 'show_id', 'copyright', 'author', 'is_key_channel', 'audiobook_categories', 'user_info', 'comment_count', 'website', 'rss_url', 'description', 'tags', 'editable', 'play_count', 'link', 'categories', 'x_subs_base', 'small_cover_url', 'big_cover_url', 'language', 'cid', 'latest_eid', 'release_date', 'title', 'uri', 'https_cover_url', 'channel_type', 'channel_id', 'sub_count', 'primary_cid', 'internal_product_id', 'social'])"
      ]
     },
     "execution_count": 62,
     "metadata": {},
     "output_type": "execute_result"
    }
   ],
   "source": [
    "all_podcasts['data'][0].keys()"
   ]
  },
  {
   "cell_type": "code",
   "execution_count": 115,
   "id": "81c93c03",
   "metadata": {},
   "outputs": [],
   "source": [
    "all_podcasts.to_csv(\"/Users/marzie/Documents/Data/all_podcasts_df.csv\")"
   ]
  },
  {
   "cell_type": "markdown",
   "id": "698e948c",
   "metadata": {},
   "source": [
    "## create my_podcasters dataframe"
   ]
  },
  {
   "cell_type": "markdown",
   "id": "ee3d17db",
   "metadata": {},
   "source": [
    "<div dir=rtl >\n",
    "<font  size=3>\n",
    "در all_podcasts اطلاعات مربوط به تمامی پادکست‌ها وجود دارد، اما ما تنها به اطلاعات پادکست‌هایی نیاز داریم که پادکستر پشت آن در followers_df وجود دارد. در گام اول دیتافریمی از پادکسترهای مد نظرمان می‌سازیم که حاوی اطلاعاتی از قبیل نام و id پادکستر باشد."
   ]
  },
  {
   "cell_type": "code",
   "execution_count": 121,
   "id": "359ae312",
   "metadata": {},
   "outputs": [],
   "source": [
    "followers_df = pd.read_csv(\"/Users/marzie/Documents/Data/followers_df.csv\")"
   ]
  },
  {
   "cell_type": "code",
   "execution_count": 122,
   "id": "d430791e",
   "metadata": {},
   "outputs": [],
   "source": [
    "podcaster_id_s = followers_df['podcaster_id'].unique()"
   ]
  },
  {
   "cell_type": "code",
   "execution_count": 123,
   "id": "9478b40d",
   "metadata": {},
   "outputs": [],
   "source": [
    "podcaster_with_name_data = np.array([\n",
    "    [all_podcasts['data'][i].get('user_info', {}).get('suid', None) for i in range(len(all_podcasts))],\n",
    "    [all_podcasts['data'][i].get('user_info', {}).get('name', None) for i in range(len(all_podcasts))]\n",
    "]).swapaxes(0, 1)"
   ]
  },
  {
   "cell_type": "code",
   "execution_count": 125,
   "id": "2c78d9fa",
   "metadata": {},
   "outputs": [
    {
     "data": {
      "text/html": [
       "<div>\n",
       "<style scoped>\n",
       "    .dataframe tbody tr th:only-of-type {\n",
       "        vertical-align: middle;\n",
       "    }\n",
       "\n",
       "    .dataframe tbody tr th {\n",
       "        vertical-align: top;\n",
       "    }\n",
       "\n",
       "    .dataframe thead th {\n",
       "        text-align: right;\n",
       "    }\n",
       "</style>\n",
       "<table border=\"1\" class=\"dataframe\">\n",
       "  <thead>\n",
       "    <tr style=\"text-align: right;\">\n",
       "      <th></th>\n",
       "      <th>podcaster_id</th>\n",
       "      <th>name</th>\n",
       "    </tr>\n",
       "  </thead>\n",
       "  <tbody>\n",
       "    <tr>\n",
       "      <th>0</th>\n",
       "      <td>17293748</td>\n",
       "      <td>رادیو راه</td>\n",
       "    </tr>\n",
       "    <tr>\n",
       "      <th>2</th>\n",
       "      <td>7697322</td>\n",
       "      <td>Ehsanoo Podcast</td>\n",
       "    </tr>\n",
       "    <tr>\n",
       "      <th>3</th>\n",
       "      <td>16024112</td>\n",
       "      <td>ChannelB Podcast</td>\n",
       "    </tr>\n",
       "    <tr>\n",
       "      <th>7</th>\n",
       "      <td>19016209</td>\n",
       "      <td>Banafsheh Taherian</td>\n",
       "    </tr>\n",
       "    <tr>\n",
       "      <th>9</th>\n",
       "      <td>15814516</td>\n",
       "      <td>سپهر خدابنده</td>\n",
       "    </tr>\n",
       "    <tr>\n",
       "      <th>...</th>\n",
       "      <td>...</td>\n",
       "      <td>...</td>\n",
       "    </tr>\n",
       "    <tr>\n",
       "      <th>11654</th>\n",
       "      <td>11096654</td>\n",
       "      <td>pooriya sabour</td>\n",
       "    </tr>\n",
       "    <tr>\n",
       "      <th>11658</th>\n",
       "      <td>20008174</td>\n",
       "      <td>Hayaho | هیاهو</td>\n",
       "    </tr>\n",
       "    <tr>\n",
       "      <th>11676</th>\n",
       "      <td>25546703</td>\n",
       "      <td>Ali Fazel</td>\n",
       "    </tr>\n",
       "    <tr>\n",
       "      <th>11677</th>\n",
       "      <td>25363532</td>\n",
       "      <td>گزیده پادکست فارسی Persian Podcast Selection</td>\n",
       "    </tr>\n",
       "    <tr>\n",
       "      <th>11687</th>\n",
       "      <td>24138607</td>\n",
       "      <td>shahinas</td>\n",
       "    </tr>\n",
       "  </tbody>\n",
       "</table>\n",
       "<p>3325 rows × 2 columns</p>\n",
       "</div>"
      ],
      "text/plain": [
       "      podcaster_id                                          name\n",
       "0         17293748                                     رادیو راه\n",
       "2          7697322                               Ehsanoo Podcast\n",
       "3         16024112                              ChannelB Podcast\n",
       "7         19016209                            Banafsheh Taherian\n",
       "9         15814516                                  سپهر خدابنده\n",
       "...            ...                                           ...\n",
       "11654     11096654                                pooriya sabour\n",
       "11658     20008174                                Hayaho | هیاهو\n",
       "11676     25546703                                     Ali Fazel\n",
       "11677     25363532  گزیده پادکست فارسی Persian Podcast Selection\n",
       "11687     24138607                                      shahinas\n",
       "\n",
       "[3325 rows x 2 columns]"
      ]
     },
     "execution_count": 125,
     "metadata": {},
     "output_type": "execute_result"
    }
   ],
   "source": [
    "podcaster_with_name = pd.DataFrame(podcaster_with_name_data, columns=['podcaster_id', 'name'])\n",
    "my_podcaster_df = podcaster_with_name.loc[podcaster_with_name['podcaster_id'].isin(podcaster_id_s)].drop_duplicates()\n",
    "my_podcaster_df"
   ]
  },
  {
   "cell_type": "code",
   "execution_count": 126,
   "id": "b72a1a46",
   "metadata": {},
   "outputs": [],
   "source": [
    "my_podcaster_df.to_csv(\"/Users/marzie/Documents/Data/my_podcaster_df.csv\")"
   ]
  },
  {
   "cell_type": "code",
   "execution_count": null,
   "id": "705ea26e",
   "metadata": {},
   "outputs": [],
   "source": []
  }
 ],
 "metadata": {
  "kernelspec": {
   "display_name": "Python 3 (ipykernel)",
   "language": "python",
   "name": "python3"
  },
  "language_info": {
   "codemirror_mode": {
    "name": "ipython",
    "version": 3
   },
   "file_extension": ".py",
   "mimetype": "text/x-python",
   "name": "python",
   "nbconvert_exporter": "python",
   "pygments_lexer": "ipython3",
   "version": "3.9.13"
  }
 },
 "nbformat": 4,
 "nbformat_minor": 5
}

{
 "cells": [
  {
   "cell_type": "code",
   "execution_count": 2,
   "id": "e3fe69e0",
   "metadata": {},
   "outputs": [],
   "source": [
    "import pandas as pd\n",
    "import numpy as np\n",
    "from collections import Counter\n",
    "import os\n",
    "from tqdm import tqdm as tqdm"
   ]
  },
  {
   "cell_type": "markdown",
   "id": "69e88a72",
   "metadata": {},
   "source": [
    "# Data"
   ]
  },
  {
   "cell_type": "code",
   "execution_count": 3,
   "id": "dab507bc",
   "metadata": {},
   "outputs": [
    {
     "data": {
      "text/html": [
       "<div>\n",
       "<style scoped>\n",
       "    .dataframe tbody tr th:only-of-type {\n",
       "        vertical-align: middle;\n",
       "    }\n",
       "\n",
       "    .dataframe tbody tr th {\n",
       "        vertical-align: top;\n",
       "    }\n",
       "\n",
       "    .dataframe thead th {\n",
       "        text-align: right;\n",
       "    }\n",
       "</style>\n",
       "<table border=\"1\" class=\"dataframe\">\n",
       "  <thead>\n",
       "    <tr style=\"text-align: right;\">\n",
       "      <th></th>\n",
       "      <th>user_id</th>\n",
       "      <th>podcaster_id</th>\n",
       "    </tr>\n",
       "  </thead>\n",
       "  <tbody>\n",
       "    <tr>\n",
       "      <th>0</th>\n",
       "      <td>1022618</td>\n",
       "      <td>13480902</td>\n",
       "    </tr>\n",
       "    <tr>\n",
       "      <th>1</th>\n",
       "      <td>1022618</td>\n",
       "      <td>19399631</td>\n",
       "    </tr>\n",
       "    <tr>\n",
       "      <th>2</th>\n",
       "      <td>1022618</td>\n",
       "      <td>15572542</td>\n",
       "    </tr>\n",
       "    <tr>\n",
       "      <th>3</th>\n",
       "      <td>1022618</td>\n",
       "      <td>18150210</td>\n",
       "    </tr>\n",
       "    <tr>\n",
       "      <th>4</th>\n",
       "      <td>1022618</td>\n",
       "      <td>17363840</td>\n",
       "    </tr>\n",
       "    <tr>\n",
       "      <th>...</th>\n",
       "      <td>...</td>\n",
       "      <td>...</td>\n",
       "    </tr>\n",
       "    <tr>\n",
       "      <th>18578845</th>\n",
       "      <td>39261848</td>\n",
       "      <td>12347707</td>\n",
       "    </tr>\n",
       "    <tr>\n",
       "      <th>18578846</th>\n",
       "      <td>39261848</td>\n",
       "      <td>21673341</td>\n",
       "    </tr>\n",
       "    <tr>\n",
       "      <th>18578847</th>\n",
       "      <td>39261848</td>\n",
       "      <td>24438995</td>\n",
       "    </tr>\n",
       "    <tr>\n",
       "      <th>18578848</th>\n",
       "      <td>39261848</td>\n",
       "      <td>19624777</td>\n",
       "    </tr>\n",
       "    <tr>\n",
       "      <th>18578849</th>\n",
       "      <td>39261848</td>\n",
       "      <td>32765155</td>\n",
       "    </tr>\n",
       "  </tbody>\n",
       "</table>\n",
       "<p>18578850 rows × 2 columns</p>\n",
       "</div>"
      ],
      "text/plain": [
       "           user_id  podcaster_id\n",
       "0          1022618      13480902\n",
       "1          1022618      19399631\n",
       "2          1022618      15572542\n",
       "3          1022618      18150210\n",
       "4          1022618      17363840\n",
       "...            ...           ...\n",
       "18578845  39261848      12347707\n",
       "18578846  39261848      21673341\n",
       "18578847  39261848      24438995\n",
       "18578848  39261848      19624777\n",
       "18578849  39261848      32765155\n",
       "\n",
       "[18578850 rows x 2 columns]"
      ]
     },
     "execution_count": 3,
     "metadata": {},
     "output_type": "execute_result"
    }
   ],
   "source": [
    "# my_followers_df has been uploaded to Google Drive\n",
    "followers = pd.read_csv('/Users/marzie/Documents/Data/my_followers_df')\n",
    "followers"
   ]
  },
  {
   "cell_type": "markdown",
   "id": "43492404",
   "metadata": {},
   "source": [
    "### drop users who follow fewer than 10 podcasts. "
   ]
  },
  {
   "cell_type": "code",
   "execution_count": 4,
   "id": "21e85790",
   "metadata": {},
   "outputs": [],
   "source": [
    "sub_num_min = 10 "
   ]
  },
  {
   "cell_type": "code",
   "execution_count": 5,
   "id": "5252af3b",
   "metadata": {},
   "outputs": [
    {
     "data": {
      "text/html": [
       "<div>\n",
       "<style scoped>\n",
       "    .dataframe tbody tr th:only-of-type {\n",
       "        vertical-align: middle;\n",
       "    }\n",
       "\n",
       "    .dataframe tbody tr th {\n",
       "        vertical-align: top;\n",
       "    }\n",
       "\n",
       "    .dataframe thead th {\n",
       "        text-align: right;\n",
       "    }\n",
       "</style>\n",
       "<table border=\"1\" class=\"dataframe\">\n",
       "  <thead>\n",
       "    <tr style=\"text-align: right;\">\n",
       "      <th></th>\n",
       "      <th>following</th>\n",
       "    </tr>\n",
       "    <tr>\n",
       "      <th>user_id</th>\n",
       "      <th></th>\n",
       "    </tr>\n",
       "  </thead>\n",
       "  <tbody>\n",
       "    <tr>\n",
       "      <th>1022618</th>\n",
       "      <td>203</td>\n",
       "    </tr>\n",
       "    <tr>\n",
       "      <th>1032649</th>\n",
       "      <td>28</td>\n",
       "    </tr>\n",
       "    <tr>\n",
       "      <th>1038639</th>\n",
       "      <td>99</td>\n",
       "    </tr>\n",
       "    <tr>\n",
       "      <th>1049063</th>\n",
       "      <td>57</td>\n",
       "    </tr>\n",
       "    <tr>\n",
       "      <th>1049719</th>\n",
       "      <td>35</td>\n",
       "    </tr>\n",
       "  </tbody>\n",
       "</table>\n",
       "</div>"
      ],
      "text/plain": [
       "         following\n",
       "user_id           \n",
       "1022618        203\n",
       "1032649         28\n",
       "1038639         99\n",
       "1049063         57\n",
       "1049719         35"
      ]
     },
     "execution_count": 5,
     "metadata": {},
     "output_type": "execute_result"
    }
   ],
   "source": [
    "# Find out how many podcasts each user follows.\n",
    "\n",
    "follower_df_user_id_s = followers['user_id'].tolist()\n",
    "\n",
    "user_sub = dict(Counter(follower_df_user_id_s))\n",
    "\n",
    "following_df = pd.DataFrame(\n",
    "    data=list(user_sub.items()),\n",
    "    columns=['user_id', 'following']).set_index('user_id')\n",
    "\n",
    "following_df.head()"
   ]
  },
  {
   "cell_type": "code",
   "execution_count": 6,
   "id": "ee64cf7e",
   "metadata": {},
   "outputs": [
    {
     "name": "stdout",
     "output_type": "stream",
     "text": [
      "[ 1022618  1032649  1038639 ... 39247460 39261381 39261848]\n",
      "\n",
      "479210\n"
     ]
    }
   ],
   "source": [
    "# drop users who follow fewer than 10 podcasts.\n",
    "\n",
    "updated_users = following_df[following_df['following'] > sub_num_min].index.values\n",
    "\n",
    "print(updated_users)\n",
    "print()\n",
    "print(len(updated_users))"
   ]
  },
  {
   "cell_type": "markdown",
   "id": "5101e6d2",
   "metadata": {},
   "source": [
    "### Split users into train and test."
   ]
  },
  {
   "cell_type": "markdown",
   "id": "cc10ec77",
   "metadata": {},
   "source": [
    "The cell below was run once, and then we used the saved result."
   ]
  },
  {
   "cell_type": "code",
   "execution_count": 7,
   "id": "c38bc8cf",
   "metadata": {},
   "outputs": [],
   "source": [
    "# # Split updated_users into random train and test subsets.\n",
    "# # %80 train and %20 test.\n",
    "\n",
    "# np.random.shuffle(updated_users)\n",
    "\n",
    "# train_user_ids = updated_users[:int(len(updated_users)*0.8)]\n",
    "# test_user_ids = updated_users[int(len(updated_users)*0.8):]\n",
    "\n",
    "# #save train and test user_ids\n",
    "# np.save(\"train_user_ids\", train_user_ids)\n",
    "# np.save(\"test_user_ids\", test_user_ids)"
   ]
  },
  {
   "cell_type": "code",
   "execution_count": 8,
   "id": "bb94f992",
   "metadata": {},
   "outputs": [],
   "source": [
    "train_user_ids = np.load(\"train_user_ids.npy\")\n",
    "test_user_ids = np.load(\"test_user_ids.npy\")"
   ]
  },
  {
   "cell_type": "markdown",
   "id": "6b037521",
   "metadata": {},
   "source": [
    "### Finding the co-following matrix based on train users."
   ]
  },
  {
   "cell_type": "code",
   "execution_count": 9,
   "id": "201f45e2",
   "metadata": {},
   "outputs": [],
   "source": [
    "df = followers[followers['user_id'].isin(train_user_ids)]"
   ]
  },
  {
   "cell_type": "code",
   "execution_count": 10,
   "id": "5856bbe2",
   "metadata": {},
   "outputs": [],
   "source": [
    "matrix_rows = df['podcaster_id'].unique()\n",
    "\n",
    "matrix_columns = df['user_id'].unique()"
   ]
  },
  {
   "cell_type": "code",
   "execution_count": 11,
   "id": "9a676237",
   "metadata": {},
   "outputs": [
    {
     "name": "stderr",
     "output_type": "stream",
     "text": [
      "100%|██████████████████████████████████████| 3232/3232 [00:26<00:00, 123.22it/s]\n"
     ]
    }
   ],
   "source": [
    "# Construct the user-podcast Biadjacency Matrix\n",
    "\n",
    "matrix = np.zeros((len(matrix_rows), len(matrix_columns)), dtype=bool)\n",
    "\n",
    "for i in tqdm(range(len(matrix_rows))):\n",
    "    \n",
    "    mask = (df['podcaster_id'] == matrix_rows[i])\n",
    "    \n",
    "    index = np.where(np.in1d(matrix_columns, np.array(df[mask]['user_id'])))[0]\n",
    "    \n",
    "    matrix[i][index] = True"
   ]
  },
  {
   "cell_type": "code",
   "execution_count": 12,
   "id": "7736e056",
   "metadata": {},
   "outputs": [
    {
     "name": "stderr",
     "output_type": "stream",
     "text": [
      "100%|███████████████████████████████████████| 3232/3232 [22:57<00:00,  2.35it/s]\n"
     ]
    }
   ],
   "source": [
    "# Construct common_followers Matrix\n",
    "\n",
    "number_of_podcasters = len(matrix_rows)\n",
    "\n",
    "common_followers = np.zeros((number_of_podcasters, number_of_podcasters))\n",
    "\n",
    "for i in tqdm(range(number_of_podcasters)):\n",
    "    for j in range(i+1, number_of_podcasters):\n",
    "        \n",
    "        common_followers[i, j] = (matrix[i]*matrix[j]).sum()"
   ]
  },
  {
   "cell_type": "code",
   "execution_count": null,
   "id": "da2b0052",
   "metadata": {},
   "outputs": [],
   "source": []
  }
 ],
 "metadata": {
  "kernelspec": {
   "display_name": "Python 3 (ipykernel)",
   "language": "python",
   "name": "python3"
  },
  "language_info": {
   "codemirror_mode": {
    "name": "ipython",
    "version": 3
   },
   "file_extension": ".py",
   "mimetype": "text/x-python",
   "name": "python",
   "nbconvert_exporter": "python",
   "pygments_lexer": "ipython3",
   "version": "3.9.13"
  }
 },
 "nbformat": 4,
 "nbformat_minor": 5
}

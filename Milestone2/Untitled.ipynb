{
 "cells": [
  {
   "cell_type": "code",
   "execution_count": 52,
   "id": "62c93739",
   "metadata": {},
   "outputs": [],
   "source": [
    "import pandas as pd\n",
    "import numpy as np\n",
    "from collections import Counter\n",
    "import os\n",
    "from tqdm import tqdm as tqdm\n",
    "import matplotlib.pyplot as plt"
   ]
  },
  {
   "cell_type": "markdown",
   "id": "132e44fd",
   "metadata": {},
   "source": [
    "# Data"
   ]
  },
  {
   "cell_type": "code",
   "execution_count": 3,
   "id": "7b9980dd",
   "metadata": {},
   "outputs": [
    {
     "data": {
      "text/html": [
       "<div>\n",
       "<style scoped>\n",
       "    .dataframe tbody tr th:only-of-type {\n",
       "        vertical-align: middle;\n",
       "    }\n",
       "\n",
       "    .dataframe tbody tr th {\n",
       "        vertical-align: top;\n",
       "    }\n",
       "\n",
       "    .dataframe thead th {\n",
       "        text-align: right;\n",
       "    }\n",
       "</style>\n",
       "<table border=\"1\" class=\"dataframe\">\n",
       "  <thead>\n",
       "    <tr style=\"text-align: right;\">\n",
       "      <th></th>\n",
       "      <th>user_id</th>\n",
       "      <th>podcaster_id</th>\n",
       "    </tr>\n",
       "  </thead>\n",
       "  <tbody>\n",
       "    <tr>\n",
       "      <th>0</th>\n",
       "      <td>1022618</td>\n",
       "      <td>13480902</td>\n",
       "    </tr>\n",
       "    <tr>\n",
       "      <th>1</th>\n",
       "      <td>1022618</td>\n",
       "      <td>19399631</td>\n",
       "    </tr>\n",
       "    <tr>\n",
       "      <th>2</th>\n",
       "      <td>1022618</td>\n",
       "      <td>15572542</td>\n",
       "    </tr>\n",
       "    <tr>\n",
       "      <th>3</th>\n",
       "      <td>1022618</td>\n",
       "      <td>18150210</td>\n",
       "    </tr>\n",
       "    <tr>\n",
       "      <th>4</th>\n",
       "      <td>1022618</td>\n",
       "      <td>17363840</td>\n",
       "    </tr>\n",
       "    <tr>\n",
       "      <th>...</th>\n",
       "      <td>...</td>\n",
       "      <td>...</td>\n",
       "    </tr>\n",
       "    <tr>\n",
       "      <th>18578845</th>\n",
       "      <td>39261848</td>\n",
       "      <td>12347707</td>\n",
       "    </tr>\n",
       "    <tr>\n",
       "      <th>18578846</th>\n",
       "      <td>39261848</td>\n",
       "      <td>21673341</td>\n",
       "    </tr>\n",
       "    <tr>\n",
       "      <th>18578847</th>\n",
       "      <td>39261848</td>\n",
       "      <td>24438995</td>\n",
       "    </tr>\n",
       "    <tr>\n",
       "      <th>18578848</th>\n",
       "      <td>39261848</td>\n",
       "      <td>19624777</td>\n",
       "    </tr>\n",
       "    <tr>\n",
       "      <th>18578849</th>\n",
       "      <td>39261848</td>\n",
       "      <td>32765155</td>\n",
       "    </tr>\n",
       "  </tbody>\n",
       "</table>\n",
       "<p>18578850 rows × 2 columns</p>\n",
       "</div>"
      ],
      "text/plain": [
       "           user_id  podcaster_id\n",
       "0          1022618      13480902\n",
       "1          1022618      19399631\n",
       "2          1022618      15572542\n",
       "3          1022618      18150210\n",
       "4          1022618      17363840\n",
       "...            ...           ...\n",
       "18578845  39261848      12347707\n",
       "18578846  39261848      21673341\n",
       "18578847  39261848      24438995\n",
       "18578848  39261848      19624777\n",
       "18578849  39261848      32765155\n",
       "\n",
       "[18578850 rows x 2 columns]"
      ]
     },
     "execution_count": 3,
     "metadata": {},
     "output_type": "execute_result"
    }
   ],
   "source": [
    "# my_followers_df has been uploaded to Google Drive\n",
    "followers = pd.read_csv('/Users/marzie/Documents/Data/my_followers_df')\n",
    "followers"
   ]
  },
  {
   "cell_type": "markdown",
   "id": "be06d6a0",
   "metadata": {},
   "source": [
    "### drop users who follow fewer than 10 podcasts. "
   ]
  },
  {
   "cell_type": "code",
   "execution_count": 4,
   "id": "e5fddace",
   "metadata": {},
   "outputs": [],
   "source": [
    "sub_num_min = 10 "
   ]
  },
  {
   "cell_type": "code",
   "execution_count": 5,
   "id": "19dd332c",
   "metadata": {},
   "outputs": [
    {
     "data": {
      "text/html": [
       "<div>\n",
       "<style scoped>\n",
       "    .dataframe tbody tr th:only-of-type {\n",
       "        vertical-align: middle;\n",
       "    }\n",
       "\n",
       "    .dataframe tbody tr th {\n",
       "        vertical-align: top;\n",
       "    }\n",
       "\n",
       "    .dataframe thead th {\n",
       "        text-align: right;\n",
       "    }\n",
       "</style>\n",
       "<table border=\"1\" class=\"dataframe\">\n",
       "  <thead>\n",
       "    <tr style=\"text-align: right;\">\n",
       "      <th></th>\n",
       "      <th>following</th>\n",
       "    </tr>\n",
       "    <tr>\n",
       "      <th>user_id</th>\n",
       "      <th></th>\n",
       "    </tr>\n",
       "  </thead>\n",
       "  <tbody>\n",
       "    <tr>\n",
       "      <th>1022618</th>\n",
       "      <td>203</td>\n",
       "    </tr>\n",
       "    <tr>\n",
       "      <th>1032649</th>\n",
       "      <td>28</td>\n",
       "    </tr>\n",
       "    <tr>\n",
       "      <th>1038639</th>\n",
       "      <td>99</td>\n",
       "    </tr>\n",
       "    <tr>\n",
       "      <th>1049063</th>\n",
       "      <td>57</td>\n",
       "    </tr>\n",
       "    <tr>\n",
       "      <th>1049719</th>\n",
       "      <td>35</td>\n",
       "    </tr>\n",
       "  </tbody>\n",
       "</table>\n",
       "</div>"
      ],
      "text/plain": [
       "         following\n",
       "user_id           \n",
       "1022618        203\n",
       "1032649         28\n",
       "1038639         99\n",
       "1049063         57\n",
       "1049719         35"
      ]
     },
     "execution_count": 5,
     "metadata": {},
     "output_type": "execute_result"
    }
   ],
   "source": [
    "# Finding out how many podcasts each user follows.\n",
    "\n",
    "follower_df_user_id_s = followers['user_id'].tolist()\n",
    "\n",
    "user_sub = dict(Counter(follower_df_user_id_s))\n",
    "\n",
    "following_df = pd.DataFrame(\n",
    "    data=list(user_sub.items()),\n",
    "    columns=['user_id', 'following']).set_index('user_id')\n",
    "\n",
    "following_df.head()"
   ]
  },
  {
   "cell_type": "code",
   "execution_count": 6,
   "id": "c8a10d93",
   "metadata": {},
   "outputs": [
    {
     "name": "stdout",
     "output_type": "stream",
     "text": [
      "[ 1022618  1032649  1038639 ... 39247460 39261381 39261848]\n",
      "\n",
      "479210\n"
     ]
    }
   ],
   "source": [
    "# drop users who follow fewer than 10 podcasts.\n",
    "\n",
    "updated_users = following_df[following_df['following'] > sub_num_min].index.values\n",
    "\n",
    "print(updated_users)\n",
    "print()\n",
    "print(len(updated_users))"
   ]
  },
  {
   "cell_type": "markdown",
   "id": "dc4d9d40",
   "metadata": {},
   "source": [
    "### Split users into train and test."
   ]
  },
  {
   "cell_type": "markdown",
   "id": "7ec5fd03",
   "metadata": {},
   "source": [
    "The cell below was run once, and then we used the saved result."
   ]
  },
  {
   "cell_type": "code",
   "execution_count": 7,
   "id": "b534c326",
   "metadata": {},
   "outputs": [],
   "source": [
    "# # Splitting updated_users into random train and test subsets.\n",
    "# # %80 train and %20 test.\n",
    "\n",
    "# np.random.shuffle(updated_users)\n",
    "\n",
    "# train_user_ids = updated_users[:int(len(updated_users)*0.8)]\n",
    "# test_user_ids = updated_users[int(len(updated_users)*0.8):]\n",
    "\n",
    "# #save train and test user_ids\n",
    "# np.save(\"train_user_ids\", train_user_ids)\n",
    "# np.save(\"test_user_ids\", test_user_ids)"
   ]
  },
  {
   "cell_type": "code",
   "execution_count": 109,
   "id": "72b6ac26",
   "metadata": {},
   "outputs": [],
   "source": [
    "train_user_ids = np.load(\"train_user_ids.npy\")\n",
    "test_user_ids = np.load(\"test_user_ids.npy\")"
   ]
  },
  {
   "cell_type": "markdown",
   "id": "2996c8e1",
   "metadata": {},
   "source": [
    "### Constructing the co-following matrix based on train users."
   ]
  },
  {
   "cell_type": "code",
   "execution_count": 40,
   "id": "c083579b",
   "metadata": {},
   "outputs": [],
   "source": [
    "df = followers[followers['user_id'].isin(train_user_ids)]"
   ]
  },
  {
   "cell_type": "code",
   "execution_count": 10,
   "id": "1929fff1",
   "metadata": {},
   "outputs": [],
   "source": [
    "matrix_rows = df['podcaster_id'].unique()\n",
    "\n",
    "matrix_columns = df['user_id'].unique()"
   ]
  },
  {
   "cell_type": "code",
   "execution_count": 11,
   "id": "9d1aa047",
   "metadata": {},
   "outputs": [
    {
     "name": "stderr",
     "output_type": "stream",
     "text": [
      "100%|██████████████████████████████████████| 3232/3232 [00:26<00:00, 123.22it/s]\n"
     ]
    }
   ],
   "source": [
    "# Constructing the user-podcast Biadjacency Matrix\n",
    "\n",
    "matrix = np.zeros((len(matrix_rows), len(matrix_columns)), dtype=bool)\n",
    "\n",
    "for i in tqdm(range(len(matrix_rows))):\n",
    "    \n",
    "    mask = (df['podcaster_id'] == matrix_rows[i])\n",
    "    \n",
    "    index = np.where(np.in1d(matrix_columns, np.array(df[mask]['user_id'])))[0]\n",
    "    \n",
    "    matrix[i][index] = True"
   ]
  },
  {
   "cell_type": "code",
   "execution_count": 12,
   "id": "3fd94065",
   "metadata": {},
   "outputs": [
    {
     "name": "stderr",
     "output_type": "stream",
     "text": [
      "100%|███████████████████████████████████████| 3232/3232 [22:57<00:00,  2.35it/s]\n"
     ]
    }
   ],
   "source": [
    "# Constructing common_followers Matrix\n",
    "\n",
    "number_of_podcasters = len(matrix_rows)\n",
    "\n",
    "common_followers = np.zeros((number_of_podcasters, number_of_podcasters))\n",
    "\n",
    "for i in tqdm(range(number_of_podcasters)):\n",
    "    for j in range(i+1, number_of_podcasters):\n",
    "        \n",
    "        common_followers[i, j] = (matrix[i]*matrix[j]).sum()"
   ]
  },
  {
   "cell_type": "code",
   "execution_count": 13,
   "id": "195ac34d",
   "metadata": {},
   "outputs": [],
   "source": [
    "n = len(common_followers)\n",
    "\n",
    "i_lower = np.tril_indices(n, -1)\n",
    "\n",
    "common_followers[i_lower] = common_followers.T[i_lower] "
   ]
  },
  {
   "cell_type": "code",
   "execution_count": 18,
   "id": "580589ac",
   "metadata": {},
   "outputs": [],
   "source": [
    "# Finding the five nearest neighbors based on the common followers of each podcast.\n",
    "five_nearest_neigh = np.argsort(-common_followers)[:, :5]"
   ]
  },
  {
   "cell_type": "markdown",
   "id": "2572a048",
   "metadata": {},
   "source": [
    "### Finding the five nearest podcasts for each user."
   ]
  },
  {
   "cell_type": "code",
   "execution_count": 46,
   "id": "99ea078a",
   "metadata": {},
   "outputs": [],
   "source": [
    "# Finding the five nearest podcasts for each user.\n",
    "\n",
    "df1 = followers[followers['user_id'].isin(updated_users)]\n",
    "\n",
    "def five_nearest_podcasts(user_id):\n",
    "    \n",
    "    podcaster_id_s = df1[df1['user_id'] == user_id]['podcaster_id'].tolist()\n",
    "    \n",
    "    index = np.where(np.in1d(matrix_rows, podcaster_id_s))[0]\n",
    "    \n",
    "    temp = list(five_nearest_neigh[index].flatten())\n",
    "                     \n",
    "    sorted_neigh = [key for key, value in Counter(temp).most_common()]\n",
    "    \n",
    "    return sorted_neigh[:5]"
   ]
  },
  {
   "cell_type": "code",
   "execution_count": 47,
   "id": "072e84a5",
   "metadata": {},
   "outputs": [
    {
     "name": "stdout",
     "output_type": "stream",
     "text": [
      "CPU times: user 2h 4min 30s, sys: 1min 36s, total: 2h 6min 7s\n",
      "Wall time: 31min 57s\n"
     ]
    },
    {
     "data": {
      "text/html": [
       "<div>\n",
       "<style scoped>\n",
       "    .dataframe tbody tr th:only-of-type {\n",
       "        vertical-align: middle;\n",
       "    }\n",
       "\n",
       "    .dataframe tbody tr th {\n",
       "        vertical-align: top;\n",
       "    }\n",
       "\n",
       "    .dataframe thead th {\n",
       "        text-align: right;\n",
       "    }\n",
       "</style>\n",
       "<table border=\"1\" class=\"dataframe\">\n",
       "  <thead>\n",
       "    <tr style=\"text-align: right;\">\n",
       "      <th></th>\n",
       "      <th>user_id</th>\n",
       "      <th>nei1</th>\n",
       "      <th>nei2</th>\n",
       "      <th>nei3</th>\n",
       "      <th>nei4</th>\n",
       "      <th>nei5</th>\n",
       "    </tr>\n",
       "  </thead>\n",
       "  <tbody>\n",
       "    <tr>\n",
       "      <th>0</th>\n",
       "      <td>1022618</td>\n",
       "      <td>135</td>\n",
       "      <td>145</td>\n",
       "      <td>48</td>\n",
       "      <td>158</td>\n",
       "      <td>202</td>\n",
       "    </tr>\n",
       "    <tr>\n",
       "      <th>1</th>\n",
       "      <td>1032649</td>\n",
       "      <td>135</td>\n",
       "      <td>29</td>\n",
       "      <td>145</td>\n",
       "      <td>48</td>\n",
       "      <td>71</td>\n",
       "    </tr>\n",
       "    <tr>\n",
       "      <th>2</th>\n",
       "      <td>1038639</td>\n",
       "      <td>135</td>\n",
       "      <td>48</td>\n",
       "      <td>145</td>\n",
       "      <td>202</td>\n",
       "      <td>158</td>\n",
       "    </tr>\n",
       "    <tr>\n",
       "      <th>3</th>\n",
       "      <td>1049063</td>\n",
       "      <td>135</td>\n",
       "      <td>29</td>\n",
       "      <td>145</td>\n",
       "      <td>71</td>\n",
       "      <td>48</td>\n",
       "    </tr>\n",
       "    <tr>\n",
       "      <th>4</th>\n",
       "      <td>1049719</td>\n",
       "      <td>135</td>\n",
       "      <td>29</td>\n",
       "      <td>145</td>\n",
       "      <td>24</td>\n",
       "      <td>71</td>\n",
       "    </tr>\n",
       "    <tr>\n",
       "      <th>...</th>\n",
       "      <td>...</td>\n",
       "      <td>...</td>\n",
       "      <td>...</td>\n",
       "      <td>...</td>\n",
       "      <td>...</td>\n",
       "      <td>...</td>\n",
       "    </tr>\n",
       "    <tr>\n",
       "      <th>479205</th>\n",
       "      <td>39245056</td>\n",
       "      <td>135</td>\n",
       "      <td>48</td>\n",
       "      <td>202</td>\n",
       "      <td>145</td>\n",
       "      <td>158</td>\n",
       "    </tr>\n",
       "    <tr>\n",
       "      <th>479206</th>\n",
       "      <td>39246777</td>\n",
       "      <td>135</td>\n",
       "      <td>145</td>\n",
       "      <td>158</td>\n",
       "      <td>118</td>\n",
       "      <td>97</td>\n",
       "    </tr>\n",
       "    <tr>\n",
       "      <th>479207</th>\n",
       "      <td>39247460</td>\n",
       "      <td>135</td>\n",
       "      <td>145</td>\n",
       "      <td>48</td>\n",
       "      <td>158</td>\n",
       "      <td>202</td>\n",
       "    </tr>\n",
       "    <tr>\n",
       "      <th>479208</th>\n",
       "      <td>39261381</td>\n",
       "      <td>135</td>\n",
       "      <td>158</td>\n",
       "      <td>145</td>\n",
       "      <td>48</td>\n",
       "      <td>29</td>\n",
       "    </tr>\n",
       "    <tr>\n",
       "      <th>479209</th>\n",
       "      <td>39261848</td>\n",
       "      <td>135</td>\n",
       "      <td>48</td>\n",
       "      <td>202</td>\n",
       "      <td>145</td>\n",
       "      <td>158</td>\n",
       "    </tr>\n",
       "  </tbody>\n",
       "</table>\n",
       "<p>479210 rows × 6 columns</p>\n",
       "</div>"
      ],
      "text/plain": [
       "         user_id  nei1  nei2  nei3  nei4  nei5\n",
       "0        1022618   135   145    48   158   202\n",
       "1        1032649   135    29   145    48    71\n",
       "2        1038639   135    48   145   202   158\n",
       "3        1049063   135    29   145    71    48\n",
       "4        1049719   135    29   145    24    71\n",
       "...          ...   ...   ...   ...   ...   ...\n",
       "479205  39245056   135    48   202   145   158\n",
       "479206  39246777   135   145   158   118    97\n",
       "479207  39247460   135   145    48   158   202\n",
       "479208  39261381   135   158   145    48    29\n",
       "479209  39261848   135    48   202   145   158\n",
       "\n",
       "[479210 rows x 6 columns]"
      ]
     },
     "execution_count": 47,
     "metadata": {},
     "output_type": "execute_result"
    }
   ],
   "source": [
    "%%time\n",
    "df2 = pd.DataFrame(np.unique(updated_users), columns=['user_id'])\n",
    "\n",
    "result_df = df2['user_id'].apply(lambda x: pd.Series(five_nearest_podcasts(x)))\n",
    "\n",
    "result_df.columns = ['nei1', 'nei2', 'nei3', 'nei4', 'nei5']\n",
    "\n",
    "nearest_neigh_df = pd.concat([df2, result_df], axis=1)\n",
    "\n",
    "nearest_neigh_df"
   ]
  },
  {
   "cell_type": "markdown",
   "id": "3c66d399",
   "metadata": {},
   "source": [
    "### Creating a DataFrame that contains categories and the nearest podcasts related to each user."
   ]
  },
  {
   "cell_type": "code",
   "execution_count": 117,
   "id": "2ce5d60b",
   "metadata": {},
   "outputs": [],
   "source": [
    "# user_categories_df has been uploaded to Google Drive\n",
    "category_df = pd.read_csv('/Users/marzie/Documents/Data/user_categories_df')"
   ]
  },
  {
   "cell_type": "code",
   "execution_count": 118,
   "id": "6acf49c1",
   "metadata": {},
   "outputs": [
    {
     "data": {
      "text/html": [
       "<div>\n",
       "<style scoped>\n",
       "    .dataframe tbody tr th:only-of-type {\n",
       "        vertical-align: middle;\n",
       "    }\n",
       "\n",
       "    .dataframe tbody tr th {\n",
       "        vertical-align: top;\n",
       "    }\n",
       "\n",
       "    .dataframe thead th {\n",
       "        text-align: right;\n",
       "    }\n",
       "</style>\n",
       "<table border=\"1\" class=\"dataframe\">\n",
       "  <thead>\n",
       "    <tr style=\"text-align: right;\">\n",
       "      <th></th>\n",
       "      <th>nei1</th>\n",
       "      <th>nei2</th>\n",
       "      <th>nei3</th>\n",
       "      <th>nei4</th>\n",
       "      <th>nei5</th>\n",
       "      <th>category1</th>\n",
       "      <th>category2</th>\n",
       "      <th>category3</th>\n",
       "      <th>category4</th>\n",
       "      <th>category5</th>\n",
       "    </tr>\n",
       "    <tr>\n",
       "      <th>user_id</th>\n",
       "      <th></th>\n",
       "      <th></th>\n",
       "      <th></th>\n",
       "      <th></th>\n",
       "      <th></th>\n",
       "      <th></th>\n",
       "      <th></th>\n",
       "      <th></th>\n",
       "      <th></th>\n",
       "      <th></th>\n",
       "    </tr>\n",
       "  </thead>\n",
       "  <tbody>\n",
       "    <tr>\n",
       "      <th>1022618</th>\n",
       "      <td>135</td>\n",
       "      <td>145</td>\n",
       "      <td>48</td>\n",
       "      <td>158</td>\n",
       "      <td>202</td>\n",
       "      <td>10101.0</td>\n",
       "      <td>10058.0</td>\n",
       "      <td>10022.0</td>\n",
       "      <td>10002.0</td>\n",
       "      <td>10028.0</td>\n",
       "    </tr>\n",
       "    <tr>\n",
       "      <th>1032649</th>\n",
       "      <td>135</td>\n",
       "      <td>29</td>\n",
       "      <td>145</td>\n",
       "      <td>48</td>\n",
       "      <td>71</td>\n",
       "      <td>10101.0</td>\n",
       "      <td>10091.0</td>\n",
       "      <td>10012.0</td>\n",
       "      <td>10043.0</td>\n",
       "      <td>10104.0</td>\n",
       "    </tr>\n",
       "    <tr>\n",
       "      <th>1038639</th>\n",
       "      <td>135</td>\n",
       "      <td>48</td>\n",
       "      <td>145</td>\n",
       "      <td>202</td>\n",
       "      <td>158</td>\n",
       "      <td>10101.0</td>\n",
       "      <td>10002.0</td>\n",
       "      <td>10028.0</td>\n",
       "      <td>10022.0</td>\n",
       "      <td>10043.0</td>\n",
       "    </tr>\n",
       "    <tr>\n",
       "      <th>1049063</th>\n",
       "      <td>135</td>\n",
       "      <td>29</td>\n",
       "      <td>145</td>\n",
       "      <td>71</td>\n",
       "      <td>48</td>\n",
       "      <td>10101.0</td>\n",
       "      <td>10002.0</td>\n",
       "      <td>10028.0</td>\n",
       "      <td>10009.0</td>\n",
       "      <td>10071.0</td>\n",
       "    </tr>\n",
       "    <tr>\n",
       "      <th>1049719</th>\n",
       "      <td>135</td>\n",
       "      <td>29</td>\n",
       "      <td>145</td>\n",
       "      <td>24</td>\n",
       "      <td>71</td>\n",
       "      <td>10101.0</td>\n",
       "      <td>10009.0</td>\n",
       "      <td>10071.0</td>\n",
       "      <td>10022.0</td>\n",
       "      <td>10103.0</td>\n",
       "    </tr>\n",
       "    <tr>\n",
       "      <th>...</th>\n",
       "      <td>...</td>\n",
       "      <td>...</td>\n",
       "      <td>...</td>\n",
       "      <td>...</td>\n",
       "      <td>...</td>\n",
       "      <td>...</td>\n",
       "      <td>...</td>\n",
       "      <td>...</td>\n",
       "      <td>...</td>\n",
       "      <td>...</td>\n",
       "    </tr>\n",
       "    <tr>\n",
       "      <th>39245056</th>\n",
       "      <td>135</td>\n",
       "      <td>48</td>\n",
       "      <td>202</td>\n",
       "      <td>145</td>\n",
       "      <td>158</td>\n",
       "      <td>10101.0</td>\n",
       "      <td>10022.0</td>\n",
       "      <td>10058.0</td>\n",
       "      <td>10059.0</td>\n",
       "      <td>10044.0</td>\n",
       "    </tr>\n",
       "    <tr>\n",
       "      <th>39246777</th>\n",
       "      <td>135</td>\n",
       "      <td>145</td>\n",
       "      <td>158</td>\n",
       "      <td>118</td>\n",
       "      <td>97</td>\n",
       "      <td>10101.0</td>\n",
       "      <td>10058.0</td>\n",
       "      <td>10124.0</td>\n",
       "      <td>10102.0</td>\n",
       "      <td>10044.0</td>\n",
       "    </tr>\n",
       "    <tr>\n",
       "      <th>39247460</th>\n",
       "      <td>135</td>\n",
       "      <td>145</td>\n",
       "      <td>48</td>\n",
       "      <td>158</td>\n",
       "      <td>202</td>\n",
       "      <td>10071.0</td>\n",
       "      <td>10009.0</td>\n",
       "      <td>10107.0</td>\n",
       "      <td>10013.0</td>\n",
       "      <td>10043.0</td>\n",
       "    </tr>\n",
       "    <tr>\n",
       "      <th>39261381</th>\n",
       "      <td>135</td>\n",
       "      <td>158</td>\n",
       "      <td>145</td>\n",
       "      <td>48</td>\n",
       "      <td>29</td>\n",
       "      <td>10022.0</td>\n",
       "      <td>10012.0</td>\n",
       "      <td>10091.0</td>\n",
       "      <td>10101.0</td>\n",
       "      <td>10058.0</td>\n",
       "    </tr>\n",
       "    <tr>\n",
       "      <th>39261848</th>\n",
       "      <td>135</td>\n",
       "      <td>48</td>\n",
       "      <td>202</td>\n",
       "      <td>145</td>\n",
       "      <td>158</td>\n",
       "      <td>10101.0</td>\n",
       "      <td>10059.0</td>\n",
       "      <td>10063.0</td>\n",
       "      <td>10043.0</td>\n",
       "      <td>10058.0</td>\n",
       "    </tr>\n",
       "  </tbody>\n",
       "</table>\n",
       "<p>479210 rows × 10 columns</p>\n",
       "</div>"
      ],
      "text/plain": [
       "          nei1  nei2  nei3  nei4  nei5  category1  category2  category3  \\\n",
       "user_id                                                                   \n",
       "1022618    135   145    48   158   202    10101.0    10058.0    10022.0   \n",
       "1032649    135    29   145    48    71    10101.0    10091.0    10012.0   \n",
       "1038639    135    48   145   202   158    10101.0    10002.0    10028.0   \n",
       "1049063    135    29   145    71    48    10101.0    10002.0    10028.0   \n",
       "1049719    135    29   145    24    71    10101.0    10009.0    10071.0   \n",
       "...        ...   ...   ...   ...   ...        ...        ...        ...   \n",
       "39245056   135    48   202   145   158    10101.0    10022.0    10058.0   \n",
       "39246777   135   145   158   118    97    10101.0    10058.0    10124.0   \n",
       "39247460   135   145    48   158   202    10071.0    10009.0    10107.0   \n",
       "39261381   135   158   145    48    29    10022.0    10012.0    10091.0   \n",
       "39261848   135    48   202   145   158    10101.0    10059.0    10063.0   \n",
       "\n",
       "          category4  category5  \n",
       "user_id                         \n",
       "1022618     10002.0    10028.0  \n",
       "1032649     10043.0    10104.0  \n",
       "1038639     10022.0    10043.0  \n",
       "1049063     10009.0    10071.0  \n",
       "1049719     10022.0    10103.0  \n",
       "...             ...        ...  \n",
       "39245056    10059.0    10044.0  \n",
       "39246777    10102.0    10044.0  \n",
       "39247460    10013.0    10043.0  \n",
       "39261381    10101.0    10058.0  \n",
       "39261848    10043.0    10058.0  \n",
       "\n",
       "[479210 rows x 10 columns]"
      ]
     },
     "execution_count": 118,
     "metadata": {},
     "output_type": "execute_result"
    }
   ],
   "source": [
    "final_df = pd.merge(nearest_neigh_df, category_df, on='user_id', how='inner')\n",
    "final_df.set_index('user_id', inplace=True)\n",
    "final_df"
   ]
  },
  {
   "cell_type": "markdown",
   "id": "72a661db",
   "metadata": {},
   "source": [
    "###  basic statistical analysis\n",
    "plotting a histogram for each of the columns in the above DataFrame"
   ]
  },
  {
   "cell_type": "code",
   "execution_count": 119,
   "id": "1440cd59",
   "metadata": {},
   "outputs": [
    {
     "data": {
      "image/png": "[encoded data removed]",
      "text/plain": [
       "<Figure size 1000x800 with 12 Axes>"
      ]
     },
     "metadata": {},
     "output_type": "display_data"
    }
   ],
   "source": [
    "final_df.hist(figsize=(10, 8))\n",
    "plt.tight_layout()  # Adjust layout to prevent overlap of axes labels\n",
    "plt.show()"
   ]
  },
  {
   "cell_type": "markdown",
   "id": "5b1c3929",
   "metadata": {},
   "source": [
    "Considering the histograms above, we will remove two columns, 'nei1' and 'category1'"
   ]
  },
  {
   "cell_type": "code",
   "execution_count": 120,
   "id": "b0272ab0",
   "metadata": {},
   "outputs": [
    {
     "data": {
      "text/html": [
       "<div>\n",
       "<style scoped>\n",
       "    .dataframe tbody tr th:only-of-type {\n",
       "        vertical-align: middle;\n",
       "    }\n",
       "\n",
       "    .dataframe tbody tr th {\n",
       "        vertical-align: top;\n",
       "    }\n",
       "\n",
       "    .dataframe thead th {\n",
       "        text-align: right;\n",
       "    }\n",
       "</style>\n",
       "<table border=\"1\" class=\"dataframe\">\n",
       "  <thead>\n",
       "    <tr style=\"text-align: right;\">\n",
       "      <th></th>\n",
       "      <th>nei2</th>\n",
       "      <th>nei3</th>\n",
       "      <th>nei4</th>\n",
       "      <th>nei5</th>\n",
       "      <th>category2</th>\n",
       "      <th>category3</th>\n",
       "      <th>category4</th>\n",
       "      <th>category5</th>\n",
       "    </tr>\n",
       "    <tr>\n",
       "      <th>user_id</th>\n",
       "      <th></th>\n",
       "      <th></th>\n",
       "      <th></th>\n",
       "      <th></th>\n",
       "      <th></th>\n",
       "      <th></th>\n",
       "      <th></th>\n",
       "      <th></th>\n",
       "    </tr>\n",
       "  </thead>\n",
       "  <tbody>\n",
       "    <tr>\n",
       "      <th>1022618</th>\n",
       "      <td>145</td>\n",
       "      <td>48</td>\n",
       "      <td>158</td>\n",
       "      <td>202</td>\n",
       "      <td>10058.0</td>\n",
       "      <td>10022.0</td>\n",
       "      <td>10002.0</td>\n",
       "      <td>10028.0</td>\n",
       "    </tr>\n",
       "    <tr>\n",
       "      <th>1032649</th>\n",
       "      <td>29</td>\n",
       "      <td>145</td>\n",
       "      <td>48</td>\n",
       "      <td>71</td>\n",
       "      <td>10091.0</td>\n",
       "      <td>10012.0</td>\n",
       "      <td>10043.0</td>\n",
       "      <td>10104.0</td>\n",
       "    </tr>\n",
       "    <tr>\n",
       "      <th>1038639</th>\n",
       "      <td>48</td>\n",
       "      <td>145</td>\n",
       "      <td>202</td>\n",
       "      <td>158</td>\n",
       "      <td>10002.0</td>\n",
       "      <td>10028.0</td>\n",
       "      <td>10022.0</td>\n",
       "      <td>10043.0</td>\n",
       "    </tr>\n",
       "    <tr>\n",
       "      <th>1049063</th>\n",
       "      <td>29</td>\n",
       "      <td>145</td>\n",
       "      <td>71</td>\n",
       "      <td>48</td>\n",
       "      <td>10002.0</td>\n",
       "      <td>10028.0</td>\n",
       "      <td>10009.0</td>\n",
       "      <td>10071.0</td>\n",
       "    </tr>\n",
       "    <tr>\n",
       "      <th>1049719</th>\n",
       "      <td>29</td>\n",
       "      <td>145</td>\n",
       "      <td>24</td>\n",
       "      <td>71</td>\n",
       "      <td>10009.0</td>\n",
       "      <td>10071.0</td>\n",
       "      <td>10022.0</td>\n",
       "      <td>10103.0</td>\n",
       "    </tr>\n",
       "    <tr>\n",
       "      <th>...</th>\n",
       "      <td>...</td>\n",
       "      <td>...</td>\n",
       "      <td>...</td>\n",
       "      <td>...</td>\n",
       "      <td>...</td>\n",
       "      <td>...</td>\n",
       "      <td>...</td>\n",
       "      <td>...</td>\n",
       "    </tr>\n",
       "    <tr>\n",
       "      <th>39245056</th>\n",
       "      <td>48</td>\n",
       "      <td>202</td>\n",
       "      <td>145</td>\n",
       "      <td>158</td>\n",
       "      <td>10022.0</td>\n",
       "      <td>10058.0</td>\n",
       "      <td>10059.0</td>\n",
       "      <td>10044.0</td>\n",
       "    </tr>\n",
       "    <tr>\n",
       "      <th>39246777</th>\n",
       "      <td>145</td>\n",
       "      <td>158</td>\n",
       "      <td>118</td>\n",
       "      <td>97</td>\n",
       "      <td>10058.0</td>\n",
       "      <td>10124.0</td>\n",
       "      <td>10102.0</td>\n",
       "      <td>10044.0</td>\n",
       "    </tr>\n",
       "    <tr>\n",
       "      <th>39247460</th>\n",
       "      <td>145</td>\n",
       "      <td>48</td>\n",
       "      <td>158</td>\n",
       "      <td>202</td>\n",
       "      <td>10009.0</td>\n",
       "      <td>10107.0</td>\n",
       "      <td>10013.0</td>\n",
       "      <td>10043.0</td>\n",
       "    </tr>\n",
       "    <tr>\n",
       "      <th>39261381</th>\n",
       "      <td>158</td>\n",
       "      <td>145</td>\n",
       "      <td>48</td>\n",
       "      <td>29</td>\n",
       "      <td>10012.0</td>\n",
       "      <td>10091.0</td>\n",
       "      <td>10101.0</td>\n",
       "      <td>10058.0</td>\n",
       "    </tr>\n",
       "    <tr>\n",
       "      <th>39261848</th>\n",
       "      <td>48</td>\n",
       "      <td>202</td>\n",
       "      <td>145</td>\n",
       "      <td>158</td>\n",
       "      <td>10059.0</td>\n",
       "      <td>10063.0</td>\n",
       "      <td>10043.0</td>\n",
       "      <td>10058.0</td>\n",
       "    </tr>\n",
       "  </tbody>\n",
       "</table>\n",
       "<p>479210 rows × 8 columns</p>\n",
       "</div>"
      ],
      "text/plain": [
       "          nei2  nei3  nei4  nei5  category2  category3  category4  category5\n",
       "user_id                                                                     \n",
       "1022618    145    48   158   202    10058.0    10022.0    10002.0    10028.0\n",
       "1032649     29   145    48    71    10091.0    10012.0    10043.0    10104.0\n",
       "1038639     48   145   202   158    10002.0    10028.0    10022.0    10043.0\n",
       "1049063     29   145    71    48    10002.0    10028.0    10009.0    10071.0\n",
       "1049719     29   145    24    71    10009.0    10071.0    10022.0    10103.0\n",
       "...        ...   ...   ...   ...        ...        ...        ...        ...\n",
       "39245056    48   202   145   158    10022.0    10058.0    10059.0    10044.0\n",
       "39246777   145   158   118    97    10058.0    10124.0    10102.0    10044.0\n",
       "39247460   145    48   158   202    10009.0    10107.0    10013.0    10043.0\n",
       "39261381   158   145    48    29    10012.0    10091.0    10101.0    10058.0\n",
       "39261848    48   202   145   158    10059.0    10063.0    10043.0    10058.0\n",
       "\n",
       "[479210 rows x 8 columns]"
      ]
     },
     "execution_count": 120,
     "metadata": {},
     "output_type": "execute_result"
    }
   ],
   "source": [
    "final_df = final_df.drop(['nei1', 'category1'], axis=1)\n",
    "final_df"
   ]
  },
  {
   "cell_type": "code",
   "execution_count": 168,
   "id": "0b7c00b9",
   "metadata": {},
   "outputs": [],
   "source": [
    "train_users_df = final_df.loc[final_df.index.isin(np.unique(train_user_ids))]\n",
    "train_users_df.to_csv('train_users_df.csv')"
   ]
  },
  {
   "cell_type": "code",
   "execution_count": 170,
   "id": "48b2e09c",
   "metadata": {},
   "outputs": [],
   "source": [
    "test_users_df = final_df.loc[final_df.index.isin(np.unique(test_user_ids))]\n",
    "test_users_df.to_csv('test_users_df.csv')"
   ]
  },
  {
   "cell_type": "markdown",
   "id": "d5b65b53",
   "metadata": {},
   "source": [
    "### feature_selection\n",
    "\n",
    "The features we selected for our problem consist of four frequently followed categories by a user and four podcasts that, based on the podcast network constructed according to common followers, are close to the podcasts followed by the user. \n",
    "\n",
    "We represented both of them numerically, meaning we assigned a number to each podcast and category. The numbers assigned to podcasts range from 0 to 3231, and the numbers assigned to categories are the same as those present in the castbox.\n",
    "\n",
    "The last feature is the \"j-th\" podcast, and finally, we defined the label in such a way that if user \"i\" follows podcast \"j\", y = 1, otherwise y = 0."
   ]
  },
  {
   "cell_type": "markdown",
   "id": "73684e38",
   "metadata": {},
   "source": [
    "### random sampling\n",
    "Given the defined X and y, we randomly sample 10^6 samples from the training dataset."
   ]
  },
  {
   "cell_type": "code",
   "execution_count": 175,
   "id": "c4ecf0e1",
   "metadata": {},
   "outputs": [],
   "source": [
    "sample_user = np.random.randint(0, len(train_user_ids), 10**6)\n",
    "sampel_podcasts = np.random.randint(0, len(matrix), 10**6)\n",
    "# np.save(\"sampel_podcasts\", sampel_podcasts)\n",
    "# np.save(\"sample_user\", sample_user)"
   ]
  },
  {
   "cell_type": "code",
   "execution_count": 191,
   "id": "f7c54f7c",
   "metadata": {},
   "outputs": [],
   "source": [
    "train_user_data = train_users_df.to_numpy()\n",
    "\n",
    "sample_user = np.load(\"sample_user.npy\")\n",
    "sampel_podcasts = np.load(\"sampel_podcasts.npy\")\n",
    "\n",
    "X_y_train = np.zeros((10**6, 10))\n",
    "\n",
    "X_y_train[:, :8] = train_user_data[sample_user]\n",
    "\n",
    "X_y_train[:, 8] = sampel_podcasts\n",
    "\n",
    "delta_ij = matrix[sampel_podcasts, sample_user].astype(int)\n",
    "\n",
    "X_y_train[:, 9] = delta_ij"
   ]
  },
  {
   "cell_type": "code",
   "execution_count": 192,
   "id": "f590f7ce",
   "metadata": {},
   "outputs": [],
   "source": [
    "np.save(\"X_y_train\", X_y_train)"
   ]
  },
  {
   "cell_type": "markdown",
   "id": "6b5c7d3b",
   "metadata": {},
   "source": [
    "Test Data Sampling"
   ]
  },
  {
   "cell_type": "code",
   "execution_count": 193,
   "id": "f4b4da60",
   "metadata": {},
   "outputs": [],
   "source": [
    "test_user_data = test_users_df.to_numpy()\n",
    "\n",
    "sample_user = np.random.randint(0, len(test_user_data), 10**6//5)\n",
    "sampel_podcasts = np.random.randint(0, len(matrix), 10**6//5)\n",
    "\n",
    "X_y_test = np.zeros((10**6//5, 10))\n",
    "\n",
    "X_y_test[:, :8] = test_user_data[sample_user]\n",
    "\n",
    "X_y_test[:, 8] = sampel_podcasts\n",
    "\n",
    "delta_ij = matrix[sampel_podcasts, sample_user].astype(int)\n",
    "\n",
    "X_y_test[:, 9] = delta_ij"
   ]
  },
  {
   "cell_type": "code",
   "execution_count": 194,
   "id": "07cebf68",
   "metadata": {},
   "outputs": [],
   "source": [
    "np.save(\"X_y_test\", X_y_test)"
   ]
  },
  {
   "cell_type": "markdown",
   "id": "0ba43bc3",
   "metadata": {},
   "source": [
    "# Traditional techniques"
   ]
  },
  {
   "cell_type": "code",
   "execution_count": 216,
   "id": "d9e1b440",
   "metadata": {},
   "outputs": [],
   "source": [
    "import time\n",
    "import seaborn as sns\n",
    "from nbformat import read\n",
    "import scipy.sparse as sp\n",
    "from sklearn.model_selection import train_test_split\n",
    "from sklearn.ensemble import RandomForestClassifier\n",
    "from sklearn.metrics import accuracy_score\n",
    "from sklearn.linear_model import LinearRegression\n",
    "from sklearn.metrics import mean_squared_error\n",
    "from sklearn.tree import DecisionTreeRegressor\n",
    "from sklearn.svm import SVR\n",
    "from sklearn.neighbors import KNeighborsRegressor\n",
    "from sklearn.linear_model import Lasso\n",
    "from sklearn.model_selection import validation_curve\n",
    "from sklearn.model_selection import learning_curve\n",
    "from sklearn.metrics import confusion_matrix\n",
    "from sklearn.metrics import accuracy_score, precision_score, recall_score, f1_score\n",
    "from sklearn.metrics import make_scorer, recall_score\n",
    "from sklearn.model_selection import GridSearchCV\n",
    "from sklearn.neighbors import KNeighborsClassifier\n",
    "from sklearn.tree import DecisionTreeClassifier\n",
    "from sklearn.model_selection import RandomizedSearchCV\n",
    "from scipy.stats import randint"
   ]
  },
  {
   "cell_type": "code",
   "execution_count": 207,
   "id": "6120dfe1",
   "metadata": {},
   "outputs": [
    {
     "data": {
      "text/plain": [
       "(1000000, 10)"
      ]
     },
     "execution_count": 207,
     "metadata": {},
     "output_type": "execute_result"
    }
   ],
   "source": [
    "X_y_train = np.load('X_y_train.npy')\n",
    "X_y_train.shape"
   ]
  },
  {
   "cell_type": "code",
   "execution_count": 208,
   "id": "f5d07636",
   "metadata": {},
   "outputs": [
    {
     "data": {
      "text/plain": [
       "(200000, 10)"
      ]
     },
     "execution_count": 208,
     "metadata": {},
     "output_type": "execute_result"
    }
   ],
   "source": [
    "X_y_test = np.load('X_y_test.npy')\n",
    "X_y_test.shape"
   ]
  },
  {
   "cell_type": "code",
   "execution_count": 209,
   "id": "eb2f3782",
   "metadata": {},
   "outputs": [],
   "source": [
    "X_train = X_y_train[:, :-1]  # Features\n",
    "X_test = X_y_test[:, :-1]  # Features\n",
    "\n",
    "y_train = X_y_train[:, -1]  # Labels\n",
    "y_test = X_y_test[:, -1]  # Labels"
   ]
  },
  {
   "cell_type": "markdown",
   "id": "b2fc5eb6",
   "metadata": {},
   "source": [
    "### Metric\n",
    "\n",
    "our favorable metric is recall, beacuse our label consist mostly of 0 and it is important for us that the model can find these nonzero labels and don't predict 0 everywhere"
   ]
  },
  {
   "cell_type": "markdown",
   "id": "2b6ad3b9",
   "metadata": {},
   "source": [
    "## Random Forest Model"
   ]
  },
  {
   "cell_type": "code",
   "execution_count": 214,
   "id": "caa5ed2f",
   "metadata": {},
   "outputs": [
    {
     "name": "stdout",
     "output_type": "stream",
     "text": [
      "Accuracy: 0.992015\n"
     ]
    }
   ],
   "source": [
    "rf_classifier = RandomForestClassifier(n_estimators=10, random_state=42)\n",
    "\n",
    "rf_classifier.fit(X_train, y_train)\n",
    "\n",
    "y_pred = rf_classifier.predict(X_test)\n",
    "\n",
    "accuracy = accuracy_score(y_test, y_pred)\n",
    "\n",
    "print(\"Accuracy:\", accuracy)"
   ]
  },
  {
   "cell_type": "markdown",
   "id": "e899c117",
   "metadata": {},
   "source": [
    "### Confusion matrix"
   ]
  },
  {
   "cell_type": "code",
   "execution_count": 225,
   "id": "5bee286d",
   "metadata": {},
   "outputs": [
    {
     "name": "stdout",
     "output_type": "stream",
     "text": [
      "Confusion Matrix for Random Forest:\n",
      "\n",
      "[[198386     91]\n",
      " [  1506     17]]\n",
      "\n",
      "recall_rf = 0.011162179908076166\n",
      "\n",
      "recall is not zero but its not the best.\n"
     ]
    }
   ],
   "source": [
    "conf_matrix_rf = confusion_matrix(y_test, y_pred)\n",
    "\n",
    "print(\"Confusion Matrix for Random Forest:\")\n",
    "print()\n",
    "print(conf_matrix_rf)\n",
    "print()\n",
    "\n",
    "accuracy_rf = accuracy_score(y_test, y_pred) \n",
    "\n",
    "precision_rf = precision_score(y_test, y_pred)\n",
    "\n",
    "recall_rf = recall_score(y_test, y_pred)\n",
    "\n",
    "f1_rf = f1_score(y_test, y_pred)\n",
    "\n",
    "print(f'recall_rf = {recall_rf}')\n",
    "print()\n",
    "print('recall is not zero but its not the best.')"
   ]
  },
  {
   "cell_type": "markdown",
   "id": "584344b9",
   "metadata": {},
   "source": [
    "### Random Forest validation curve"
   ]
  },
  {
   "cell_type": "code",
   "execution_count": 228,
   "id": "499555da",
   "metadata": {},
   "outputs": [
    {
     "data": {
      "image/png": "[encoded data removed]",
      "text/plain": [
       "<Figure size 1000x600 with 1 Axes>"
      ]
     },
     "metadata": {},
     "output_type": "display_data"
    }
   ],
   "source": [
    "# Define the range of values for the hyperparameter to tune\n",
    "param_range = np.arange(1, 34)\n",
    "\n",
    "# Define recall as the scoring metric\n",
    "scorer = make_scorer(recall_score)\n",
    "\n",
    "# Compute validation curve\n",
    "train_scores, valid_scores = validation_curve(\n",
    "    rf_classifier, X_train, y_train, param_name='max_depth', param_range=param_range, cv=5, scoring=scorer\n",
    ")\n",
    "\n",
    "# Calculate mean and standard deviation of training and validation scores\n",
    "train_mean = np.mean(train_scores, axis=1)\n",
    "train_std = np.std(train_scores, axis=1)\n",
    "valid_mean = np.mean(valid_scores, axis=1)\n",
    "valid_std = np.std(valid_scores, axis=1)\n",
    "\n",
    "# Plot validation curve\n",
    "plt.figure(figsize=(10, 6))\n",
    "plt.plot(param_range, train_mean, label='Training Recall', color='blue')\n",
    "plt.fill_between(param_range, train_mean - train_std, train_mean + train_std, alpha=0.2, color='blue')\n",
    "plt.plot(param_range, valid_mean, label='Validation Recall', color='red')\n",
    "plt.fill_between(param_range, valid_mean - valid_std, valid_mean + valid_std, alpha=0.2, color='red')\n",
    "plt.title('Validation Curve for Random Forest Classifier')\n",
    "plt.xlabel('Max Depth')\n",
    "plt.ylabel('Recall')\n",
    "plt.legend()\n",
    "plt.grid(True)\n",
    "plt.xticks(param_range)\n",
    "plt.show()"
   ]
  },
  {
   "cell_type": "markdown",
   "id": "a8d8930e",
   "metadata": {},
   "source": [
    "### Random Forest Learning Curve"
   ]
  },
  {
   "cell_type": "code",
   "execution_count": null,
   "id": "7b93de8c",
   "metadata": {},
   "outputs": [],
   "source": [
    "#max depth=28 concluded from validation curve\n",
    "random_forest_classifier = RandomForestClassifier(max_depth=28)\n",
    "\n",
    "# Define train sizes\n",
    "train_sizes = np.linspace(0.1, 1.0, 10)\n",
    "\n",
    "recall_scorer = make_scorer(recall_score)\n",
    "\n",
    "# Use the learning_curve function with the custom scoring function\n",
    "train_sizes, train_scores, valid_scores = learning_curve(\n",
    "     random_forest_classifier, X_train, y_train, train_sizes=train_sizes, cv=5, scoring=recall_scorer)\n",
    "\n",
    "\n",
    "# Compute learning curve\n",
    "train_sizes, train_scores, valid_scores = learning_curve(\n",
    "    random_forest_classifier, X_train, y_train, train_sizes=train_sizes, cv=5, scoring='accuracy'\n",
    ")\n",
    "\n",
    "# Calculate mean and standard deviation of training and validation scores\n",
    "train_mean = np.mean(train_scores, axis=1)\n",
    "train_std = np.std(train_scores, axis=1)\n",
    "valid_mean = np.mean(valid_scores, axis=1)\n",
    "valid_std = np.std(valid_scores, axis=1)\n",
    "\n",
    "# Plot learning curve\n",
    "plt.figure(figsize=(10, 6))\n",
    "plt.plot(train_sizes, train_mean, label='Training Accuracy', color='blue')\n",
    "plt.fill_between(train_sizes, train_mean - train_std, train_mean + train_std, alpha=0.2, color='blue')\n",
    "plt.plot(train_sizes, valid_mean, label='Validation Accuracy', color='red')\n",
    "plt.fill_between(train_sizes, valid_mean - valid_std, valid_mean + valid_std, alpha=0.2, color='red')\n",
    "plt.title('Learning Curve for Random Forest Classifier')\n",
    "plt.xlabel('Training Set Size')\n",
    "plt.ylabel('Accuracy')\n",
    "plt.legend()\n",
    "plt.grid(True)\n",
    "plt.show()"
   ]
  },
  {
   "cell_type": "code",
   "execution_count": null,
   "id": "f9cba4fc",
   "metadata": {},
   "outputs": [],
   "source": []
  }
 ],
 "metadata": {
  "kernelspec": {
   "display_name": "Python 3 (ipykernel)",
   "language": "python",
   "name": "python3"
  },
  "language_info": {
   "codemirror_mode": {
    "name": "ipython",
    "version": 3
   },
   "file_extension": ".py",
   "mimetype": "text/x-python",
   "name": "python",
   "nbconvert_exporter": "python",
   "pygments_lexer": "ipython3",
   "version": "3.9.13"
  }
 },
 "nbformat": 4,
 "nbformat_minor": 5
}
